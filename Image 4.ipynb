{
  "nbformat": 4,
  "nbformat_minor": 0,
  "metadata": {
    "colab": {
      "name": "Image 4.ipynb",
      "provenance": [],
      "collapsed_sections": [],
      "authorship_tag": "ABX9TyP3AOxH8TrO6OpzXDXZZ9TU",
      "include_colab_link": true
    },
    "kernelspec": {
      "name": "python3",
      "display_name": "Python 3"
    }
  },
  "cells": [
    {
      "cell_type": "markdown",
      "metadata": {
        "id": "view-in-github",
        "colab_type": "text"
      },
      "source": [
        "<a href=\"https://colab.research.google.com/github/aryanfaghihi/ai-course/blob/master/Image%204.ipynb\" target=\"_parent\"><img src=\"https://colab.research.google.com/assets/colab-badge.svg\" alt=\"Open In Colab\"/></a>"
      ]
    },
    {
      "cell_type": "markdown",
      "metadata": {
        "id": "N9AYuyy71ARc",
        "colab_type": "text"
      },
      "source": [
        "# Setup"
      ]
    },
    {
      "cell_type": "markdown",
      "metadata": {
        "id": "uDN1TG46HOAu",
        "colab_type": "text"
      },
      "source": [
        "## Make a copy\n",
        "\n",
        "**Follow the following steps to make your own copy. You will lose your changes if you don't make your own copy!**\n",
        "\n",
        "From the tooltip above, you should see \n",
        "\n",
        "File | Edit | View | Insert | Runtime | Tools | Help\n",
        "\n",
        "1. Click on **File**\n",
        "2. Click on **Save a copy in Drive**"
      ]
    },
    {
      "cell_type": "markdown",
      "metadata": {
        "id": "5g9LeA0xQx1M",
        "colab_type": "text"
      },
      "source": [
        "## Import"
      ]
    },
    {
      "cell_type": "markdown",
      "metadata": {
        "id": "CFXF94XNQzR1",
        "colab_type": "text"
      },
      "source": [
        "Let's import the required packages and setup some settings that will help us in this notebook."
      ]
    },
    {
      "cell_type": "code",
      "metadata": {
        "id": "Tk1AaqbS1-Tq",
        "colab_type": "code",
        "colab": {}
      },
      "source": [
        "# import the required packages\n",
        "from fastai.vision import *\n",
        "from fastai.vision.gan import *\n",
        "import warnings\n",
        "\n",
        "# ignore Python warnings\n",
        "warnings.filterwarnings(\"ignore\")"
      ],
      "execution_count": 2,
      "outputs": []
    },
    {
      "cell_type": "markdown",
      "metadata": {
        "id": "3-vkwh-J1yGU",
        "colab_type": "text"
      },
      "source": [
        "# Data\n"
      ]
    },
    {
      "cell_type": "markdown",
      "metadata": {
        "id": "mut8RuWi3Liy",
        "colab_type": "text"
      },
      "source": [
        "Today, we are going to be generating images that no one has seen before! For example, you can train a **generative model** to generate new images of cats or dogs or anything you like! Of course, it's easier said than done but we will go through all the steps necessary so that you can have your own generative model. "
      ]
    },
    {
      "cell_type": "markdown",
      "metadata": {
        "id": "Aa4GYx_3C6_D",
        "colab_type": "text"
      },
      "source": [
        "![MnistExamples.png](https://upload.wikimedia.org/wikipedia/commons/thumb/1/1f/Woman_1.jpg/480px-Woman_1.jpg)"
      ]
    },
    {
      "cell_type": "markdown",
      "metadata": {
        "id": "WszvA7ww7Yq_",
        "colab_type": "text"
      },
      "source": [
        "What's the image above you ask? it's generated using a generative model! Sadly you would need a couple of hundred computers and weeks of traning to be able to achieve results like this. More info about this image [here](https://en.wikipedia.org/wiki/StyleGAN)"
      ]
    },
    {
      "cell_type": "markdown",
      "metadata": {
        "id": "EljC2e4640bG",
        "colab_type": "text"
      },
      "source": [
        "Just to illustrate the concepts we will be using the **MNIST** dataset that you have seen from the first image workshop. But this time we will be generating new hand-drawn images instead of classifying what each digit looks like. I know, it's not as exciting but we simply don't have enough computing power on Google Colab to be able to train cooler models like the ones above."
      ]
    },
    {
      "cell_type": "code",
      "metadata": {
        "id": "dauA9kJq4z12",
        "colab_type": "code",
        "colab": {
          "base_uri": "https://localhost:8080/",
          "height": 34
        },
        "outputId": "00fcce07-a8b0-45b8-c683-b5fd90ee0a7e"
      },
      "source": [
        "# download and unzip the dataset\n",
        "path = untar_data(URLs.MNIST)"
      ],
      "execution_count": 5,
      "outputs": [
        {
          "output_type": "stream",
          "text": [
            "Downloading https://s3.amazonaws.com/fast-ai-imageclas/mnist_png.tgz\n"
          ],
          "name": "stdout"
        },
        {
          "output_type": "display_data",
          "data": {
            "text/html": [
              ""
            ],
            "text/plain": [
              "<IPython.core.display.HTML object>"
            ]
          },
          "metadata": {
            "tags": []
          }
        }
      ]
    },
    {
      "cell_type": "markdown",
      "metadata": {
        "id": "O2khkYIf5Boy",
        "colab_type": "text"
      },
      "source": [
        "As usually let's look at the file structure for our dataset"
      ]
    },
    {
      "cell_type": "code",
      "metadata": {
        "id": "3U84gnvf5AhF",
        "colab_type": "code",
        "colab": {
          "base_uri": "https://localhost:8080/",
          "height": 51
        },
        "outputId": "00c7f840-c37c-46f5-99dc-a08e1680d46a"
      },
      "source": [
        "# view the dataset structure\n",
        "path.ls()"
      ],
      "execution_count": 6,
      "outputs": [
        {
          "output_type": "execute_result",
          "data": {
            "text/plain": [
              "[PosixPath('/root/.fastai/data/mnist_png/testing'),\n",
              " PosixPath('/root/.fastai/data/mnist_png/training')]"
            ]
          },
          "metadata": {
            "tags": []
          },
          "execution_count": 6
        }
      ]
    },
    {
      "cell_type": "markdown",
      "metadata": {
        "id": "wEqZqKwo5Jk9",
        "colab_type": "text"
      },
      "source": [
        "Next, let's step up our dataloader for training our model"
      ]
    },
    {
      "cell_type": "code",
      "metadata": {
        "id": "FIL216GF2XwD",
        "colab_type": "code",
        "colab": {}
      },
      "source": [
        "data = GANItemList.from_folder(path, noise_sz=100) \\\n",
        "            .split_none() \\\n",
        "            .label_from_func(noop) \\\n",
        "            .transform(tfms=[[crop_pad(size=32, row_pct=(0,1), col_pct=(0,1))], []], size=32, tfm_y=True) \\\n",
        "            .databunch(bs=128) \\\n",
        "            .normalize(stats = [torch.tensor([0.5,0.5,0.5]), torch.tensor([0.5,0.5,0.5])], do_x=False, do_y=True)"
      ],
      "execution_count": 13,
      "outputs": []
    },
    {
      "cell_type": "markdown",
      "metadata": {
        "id": "kLTvEUz350LY",
        "colab_type": "text"
      },
      "source": [
        "It's not super critical for you to understand how this function works but just in case you are interested, here's a brief desctription for each method:\n",
        "\n",
        "* `from_folder`: grab images from the folder (and its sub-folders)\n",
        "* `split_none`: don't split our dataset into training and validation\n",
        "* `label_from_func(noop)`: grab the labels for the dataset from a function. Here `noop` means \"no operation\", which means the label is equal to the training data. But why? this is a key feature of generative models which we will learn later.\n",
        "* `transform`: define the transformations for preprocessing the imges. Here cropping and resizing have been applied. `tfm_y` means transform the validation set too!\n",
        "* `databunch(bs=128)`: creates the dataloader with a batch size of 128. What is a batch size you may ask? it's the number of images that are used to train the model at a time.\n",
        "* `normalize`: normalise the images with the given valuese (normalise to reduce the spread of data which helps with training)"
      ]
    },
    {
      "cell_type": "markdown",
      "metadata": {
        "id": "vk4m82Gm8EYO",
        "colab_type": "text"
      },
      "source": [
        "# Model"
      ]
    },
    {
      "cell_type": "markdown",
      "metadata": {
        "id": "3UHJbNfv8Kvi",
        "colab_type": "text"
      },
      "source": [
        "Ok, let's get the model training first and then we will talk about what and how it's training a generative model. Why? because it takes a good 10 minutes!"
      ]
    },
    {
      "cell_type": "code",
      "metadata": {
        "id": "27InrawB5dsz",
        "colab_type": "code",
        "colab": {}
      },
      "source": [
        "# create a generator\n",
        "generator = basic_generator(in_size=32, n_channels=3, n_extra_layers=1)\n",
        "critic    = basic_critic   (in_size=32, n_channels=3, n_extra_layers=1)"
      ],
      "execution_count": null,
      "outputs": []
    }
  ]
}