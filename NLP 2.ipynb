{
  "nbformat": 4,
  "nbformat_minor": 0,
  "metadata": {
    "accelerator": "GPU",
    "colab": {
      "name": "NLP 2.ipynb",
      "provenance": [],
      "collapsed_sections": [],
      "toc_visible": true,
      "include_colab_link": true
    },
    "kernelspec": {
      "display_name": "Python 3",
      "language": "python",
      "name": "python3"
    },
    "language_info": {
      "codemirror_mode": {
        "name": "ipython",
        "version": 3
      },
      "file_extension": ".py",
      "mimetype": "text/x-python",
      "name": "python",
      "nbconvert_exporter": "python",
      "pygments_lexer": "ipython3",
      "version": "3.7.6"
    }
  },
  "cells": [
    {
      "cell_type": "markdown",
      "metadata": {
        "id": "view-in-github",
        "colab_type": "text"
      },
      "source": [
        "<a href=\"https://colab.research.google.com/github/aryanfaghihi/ai-course/blob/master/NLP%202.ipynb\" target=\"_parent\"><img src=\"https://colab.research.google.com/assets/colab-badge.svg\" alt=\"Open In Colab\"/></a>"
      ]
    },
    {
      "cell_type": "markdown",
      "metadata": {
        "colab_type": "text",
        "id": "sTszNUZBtMfS"
      },
      "source": [
        "# Setup"
      ]
    },
    {
      "cell_type": "markdown",
      "metadata": {
        "colab_type": "text",
        "id": "uDN1TG46HOAu"
      },
      "source": [
        "## Make a copy\n",
        "\n",
        "**Follow the following steps to make your own copy. You will lose your changes if you don't make your own copy!**\n",
        "\n",
        "From the tooltip above, you should see \n",
        "\n",
        "File | Edit | View | Insert | Runtime | Tools | Help\n",
        "\n",
        "1. Click on **File**\n",
        "2. Click on **Save a copy in Drive**"
      ]
    },
    {
      "cell_type": "markdown",
      "metadata": {
        "colab_type": "text",
        "id": "5g9LeA0xQx1M"
      },
      "source": [
        "## Import"
      ]
    },
    {
      "cell_type": "markdown",
      "metadata": {
        "colab_type": "text",
        "id": "CFXF94XNQzR1"
      },
      "source": [
        "Let's import the required packages and setup some settings that will help us in this notebook."
      ]
    },
    {
      "cell_type": "code",
      "metadata": {
        "colab_type": "code",
        "id": "KMFBdTxptTYE",
        "colab": {}
      },
      "source": [
        "# import the required packages\n",
        "from fastai.text import *\n",
        "import warnings\n",
        "\n",
        "# ignore Python warnings\n",
        "warnings.filterwarnings(\"ignore\")"
      ],
      "execution_count": null,
      "outputs": []
    },
    {
      "cell_type": "markdown",
      "metadata": {
        "colab_type": "text",
        "id": "tUvrK710tPOt"
      },
      "source": [
        "# Data"
      ]
    },
    {
      "cell_type": "markdown",
      "metadata": {
        "id": "GxkFsi-tHjvh",
        "colab_type": "text"
      },
      "source": [
        "Today we will be looking at a dataset that contains a bunch of text and an emoji associated with it! You probability guessed, we are going to train a model that takes a sentence as an input and suggests an emoji for it."
      ]
    },
    {
      "cell_type": "code",
      "metadata": {
        "id": "gGgwUYDq_cRq",
        "colab_type": "code",
        "colab": {}
      },
      "source": [
        "data_url = 'https://raw.githubusercontent.com/TetsumichiUmada/text2emoji/master/data/psychExp.txt'"
      ],
      "execution_count": null,
      "outputs": []
    },
    {
      "cell_type": "markdown",
      "metadata": {
        "colab_type": "text",
        "id": "bF9_SrvyDD0j"
      },
      "source": [
        "\n",
        "> At the end of this session you will be able to write a sentence and the model suggests an emoji for it\n"
      ]
    },
    {
      "cell_type": "markdown",
      "metadata": {
        "colab_type": "text",
        "id": "rQ_8gtxtw209"
      },
      "source": [
        "## Looking at data"
      ]
    },
    {
      "cell_type": "markdown",
      "metadata": {
        "colab_type": "text",
        "id": "t-PG4Uy8El3j"
      },
      "source": [
        "Today, we have a more challenging dataset to work with. This is because it is a [txt file](https://raw.githubusercontent.com/TetsumichiUmada/text2emoji/master/data/psychExp.txt) without any commas to seperate (which means no csv file). But thanks to `pandas` we have can deal with this complexity. Let's look at a sample row:\n",
        "```\n",
        "[ 1.  0.  0.  0.  0.  0.  0.] During the period of falling in love, each time that we met and especially when we had not met for a long time.\n",
        "```\n",
        "\n",
        "We would like to make a table that looks like this instead:\n",
        "\n",
        "label | text\n",
        "--- | ---\n",
        "`1.  0.  0.  0.  0.  0.  0.` | `During the period of falling in love, each time that we met and especially when we had not met for a long time`\n",
        "... | ...\n",
        "\n"
      ]
    },
    {
      "cell_type": "markdown",
      "metadata": {
        "id": "b195YgEGb5pL",
        "colab_type": "text"
      },
      "source": [
        "We can use these arguments for `read_csv()` to achieve it:\n",
        "\n",
        "\n",
        "*   **sep**: Its value should be `]` so rows would split to:\n",
        "\n",
        "label | text\n",
        "--- | ---\n",
        "**[**1.  0.  0.  0.  0.  0.  0. | ` During the period of falling in love, each time that we met and especially when we had not met for a long time`\n",
        "... | ...\n",
        "\n",
        "*   **escapechar**: We have an extra `[` at the start of rows. If we pass this argument with `[` value, we're almost done.\n",
        "\n",
        "label | text\n",
        "--- | ---\n",
        "1.  0.  0.  0.  0.  0.  0. | ` During the period of falling in love, each time that we met and especially when we had not met for a long time`\n",
        "... | ...\n",
        "\n",
        "*   **skipinitialspace**: If this argument is set `True`, The first *empty space* of our **text** value is ommited."
      ]
    },
    {
      "cell_type": "code",
      "metadata": {
        "id": "u8F__gzuAacK",
        "colab_type": "code",
        "colab": {}
      },
      "source": [
        "# read csv using pandas\n",
        "data = pd.read_csv(data_url,sep=\"]\", escapechar=\"[\", skipinitialspace=True, header = None)\n",
        "\n",
        "# assign column names\n",
        "data.columns=[\"labels\",\"texts\"]"
      ],
      "execution_count": null,
      "outputs": []
    },
    {
      "cell_type": "code",
      "metadata": {
        "id": "DcSKCVWwAjNf",
        "colab_type": "code",
        "colab": {
          "base_uri": "https://localhost:8080/",
          "height": 204
        },
        "outputId": "c4a21287-8724-4edc-99ac-1f2fcc208a17"
      },
      "source": [
        "# view a subset of the data\n",
        "data.head()"
      ],
      "execution_count": null,
      "outputs": [
        {
          "output_type": "execute_result",
          "data": {
            "text/html": [
              "<div>\n",
              "<style scoped>\n",
              "    .dataframe tbody tr th:only-of-type {\n",
              "        vertical-align: middle;\n",
              "    }\n",
              "\n",
              "    .dataframe tbody tr th {\n",
              "        vertical-align: top;\n",
              "    }\n",
              "\n",
              "    .dataframe thead th {\n",
              "        text-align: right;\n",
              "    }\n",
              "</style>\n",
              "<table border=\"1\" class=\"dataframe\">\n",
              "  <thead>\n",
              "    <tr style=\"text-align: right;\">\n",
              "      <th></th>\n",
              "      <th>labels</th>\n",
              "      <th>texts</th>\n",
              "    </tr>\n",
              "  </thead>\n",
              "  <tbody>\n",
              "    <tr>\n",
              "      <th>0</th>\n",
              "      <td>1.  0.  0.  0.  0.  0.  0.</td>\n",
              "      <td>During the period of falling in love, each tim...</td>\n",
              "    </tr>\n",
              "    <tr>\n",
              "      <th>1</th>\n",
              "      <td>0.  1.  0.  0.  0.  0.  0.</td>\n",
              "      <td>When I was involved in a traffic accident.</td>\n",
              "    </tr>\n",
              "    <tr>\n",
              "      <th>2</th>\n",
              "      <td>0.  0.  1.  0.  0.  0.  0.</td>\n",
              "      <td>When I was driving home after  several days of...</td>\n",
              "    </tr>\n",
              "    <tr>\n",
              "      <th>3</th>\n",
              "      <td>0.  0.  0.  1.  0.  0.  0.</td>\n",
              "      <td>When I lost the person who meant the most to me.</td>\n",
              "    </tr>\n",
              "    <tr>\n",
              "      <th>4</th>\n",
              "      <td>0.  0.  0.  0.  1.  0.  0.</td>\n",
              "      <td>The time I knocked a deer down - the sight of ...</td>\n",
              "    </tr>\n",
              "  </tbody>\n",
              "</table>\n",
              "</div>"
            ],
            "text/plain": [
              "                        labels                                              texts\n",
              "0   1.  0.  0.  0.  0.  0.  0.  During the period of falling in love, each tim...\n",
              "1   0.  1.  0.  0.  0.  0.  0.         When I was involved in a traffic accident.\n",
              "2   0.  0.  1.  0.  0.  0.  0.  When I was driving home after  several days of...\n",
              "3   0.  0.  0.  1.  0.  0.  0.   When I lost the person who meant the most to me.\n",
              "4   0.  0.  0.  0.  1.  0.  0.  The time I knocked a deer down - the sight of ..."
            ]
          },
          "metadata": {
            "tags": []
          },
          "execution_count": 4
        }
      ]
    },
    {
      "cell_type": "markdown",
      "metadata": {
        "id": "k1Qf5P4hN--8",
        "colab_type": "text"
      },
      "source": [
        "Labels are list of 7 binary values (the technical term for this is one-hot encoding). Each value represents a feeling so let's convert our labels to a more human-readable style like **emojis**."
      ]
    },
    {
      "cell_type": "code",
      "metadata": {
        "id": "FJmmeoXNuFDu",
        "colab_type": "code",
        "colab": {}
      },
      "source": [
        "# replace the 0s and 1 labels with emojis\n",
        "data = data.replace(' 1.  0.  0.  0.  0.  0.  0.', '😂') # joy \n",
        "data = data.replace(' 0.  1.  0.  0.  0.  0.  0.', '😱') # fear\n",
        "data = data.replace(' 0.  0.  1.  0.  0.  0.  0.', '😠') # anger\n",
        "data = data.replace(' 0.  0.  0.  1.  0.  0.  0.', '😢') # sadness\n",
        "data = data.replace(' 0.  0.  0.  0.  1.  0.  0.', '🤢') # disgust\n",
        "data = data.replace(' 0.  0.  0.  0.  0.  1.  0.', '😳') # shame\n",
        "data = data.replace(' 0.  0.  0.  0.  0.  0.  1.', '😔') # guilt"
      ],
      "execution_count": null,
      "outputs": []
    },
    {
      "cell_type": "code",
      "metadata": {
        "id": "EdYYpU9uurNv",
        "colab_type": "code",
        "colab": {
          "base_uri": "https://localhost:8080/",
          "height": 204
        },
        "outputId": "c44f5804-7084-4f43-fd76-6543ece6c402"
      },
      "source": [
        "# view the data again to make sure everything looks good\n",
        "data.head()"
      ],
      "execution_count": null,
      "outputs": [
        {
          "output_type": "execute_result",
          "data": {
            "text/html": [
              "<div>\n",
              "<style scoped>\n",
              "    .dataframe tbody tr th:only-of-type {\n",
              "        vertical-align: middle;\n",
              "    }\n",
              "\n",
              "    .dataframe tbody tr th {\n",
              "        vertical-align: top;\n",
              "    }\n",
              "\n",
              "    .dataframe thead th {\n",
              "        text-align: right;\n",
              "    }\n",
              "</style>\n",
              "<table border=\"1\" class=\"dataframe\">\n",
              "  <thead>\n",
              "    <tr style=\"text-align: right;\">\n",
              "      <th></th>\n",
              "      <th>labels</th>\n",
              "      <th>texts</th>\n",
              "    </tr>\n",
              "  </thead>\n",
              "  <tbody>\n",
              "    <tr>\n",
              "      <th>0</th>\n",
              "      <td>😂</td>\n",
              "      <td>During the period of falling in love, each tim...</td>\n",
              "    </tr>\n",
              "    <tr>\n",
              "      <th>1</th>\n",
              "      <td>😱</td>\n",
              "      <td>When I was involved in a traffic accident.</td>\n",
              "    </tr>\n",
              "    <tr>\n",
              "      <th>2</th>\n",
              "      <td>😠</td>\n",
              "      <td>When I was driving home after  several days of...</td>\n",
              "    </tr>\n",
              "    <tr>\n",
              "      <th>3</th>\n",
              "      <td>😢</td>\n",
              "      <td>When I lost the person who meant the most to me.</td>\n",
              "    </tr>\n",
              "    <tr>\n",
              "      <th>4</th>\n",
              "      <td>🤢</td>\n",
              "      <td>The time I knocked a deer down - the sight of ...</td>\n",
              "    </tr>\n",
              "  </tbody>\n",
              "</table>\n",
              "</div>"
            ],
            "text/plain": [
              "  labels                                              texts\n",
              "0      😂  During the period of falling in love, each tim...\n",
              "1      😱         When I was involved in a traffic accident.\n",
              "2      😠  When I was driving home after  several days of...\n",
              "3      😢   When I lost the person who meant the most to me.\n",
              "4      🤢  The time I knocked a deer down - the sight of ..."
            ]
          },
          "metadata": {
            "tags": []
          },
          "execution_count": 6
        }
      ]
    },
    {
      "cell_type": "markdown",
      "metadata": {
        "id": "NAmKEpkgxnwK",
        "colab_type": "text"
      },
      "source": [
        "Once we're happy with everything, we can save our csv to be used later."
      ]
    },
    {
      "cell_type": "code",
      "metadata": {
        "colab_type": "code",
        "id": "oaWNmL55tQE8",
        "scrolled": false,
        "colab": {}
      },
      "source": [
        "# save to csv\n",
        "data.to_csv('dataset.csv', index=None)"
      ],
      "execution_count": null,
      "outputs": []
    },
    {
      "cell_type": "markdown",
      "metadata": {
        "id": "taRLmnvxxuWM",
        "colab_type": "text"
      },
      "source": [
        "Great, now let's explore our dataset a little further."
      ]
    },
    {
      "cell_type": "code",
      "metadata": {
        "id": "0ZuCY-oiC9Np",
        "colab_type": "code",
        "colab": {
          "base_uri": "https://localhost:8080/",
          "height": 170
        },
        "outputId": "26df1ef1-1d00-4f28-bcbc-8c3c56ef0800"
      },
      "source": [
        "# use info to get a summary of columns\n",
        "data.info()"
      ],
      "execution_count": null,
      "outputs": [
        {
          "output_type": "stream",
          "text": [
            "<class 'pandas.core.frame.DataFrame'>\n",
            "RangeIndex: 7480 entries, 0 to 7479\n",
            "Data columns (total 2 columns):\n",
            " #   Column  Non-Null Count  Dtype \n",
            "---  ------  --------------  ----- \n",
            " 0   labels  7480 non-null   object\n",
            " 1   texts   7480 non-null   object\n",
            "dtypes: object(2)\n",
            "memory usage: 117.0+ KB\n"
          ],
          "name": "stdout"
        }
      ]
    },
    {
      "cell_type": "markdown",
      "metadata": {
        "id": "Hk0j6O_9x4Jd",
        "colab_type": "text"
      },
      "source": [
        "---\n",
        "\n",
        "Can you count the number of each emoji in our dataset?\n",
        "\n",
        "---"
      ]
    },
    {
      "cell_type": "code",
      "metadata": {
        "id": "ZHNg6LkpOmjn",
        "colab_type": "code",
        "colab": {
          "base_uri": "https://localhost:8080/",
          "height": 328
        },
        "outputId": "5142e252-83e0-4a6e-84af-542e8a45ccce"
      },
      "source": [
        "# count the number of different emojis\n",
        "## YOUR CODE HERE\n",
        "\n",
        "data.groupby('labels').describe()"
      ],
      "execution_count": null,
      "outputs": [
        {
          "output_type": "execute_result",
          "data": {
            "text/html": [
              "<div>\n",
              "<style scoped>\n",
              "    .dataframe tbody tr th:only-of-type {\n",
              "        vertical-align: middle;\n",
              "    }\n",
              "\n",
              "    .dataframe tbody tr th {\n",
              "        vertical-align: top;\n",
              "    }\n",
              "\n",
              "    .dataframe thead tr th {\n",
              "        text-align: left;\n",
              "    }\n",
              "\n",
              "    .dataframe thead tr:last-of-type th {\n",
              "        text-align: right;\n",
              "    }\n",
              "</style>\n",
              "<table border=\"1\" class=\"dataframe\">\n",
              "  <thead>\n",
              "    <tr>\n",
              "      <th></th>\n",
              "      <th colspan=\"4\" halign=\"left\">texts</th>\n",
              "    </tr>\n",
              "    <tr>\n",
              "      <th></th>\n",
              "      <th>count</th>\n",
              "      <th>unique</th>\n",
              "      <th>top</th>\n",
              "      <th>freq</th>\n",
              "    </tr>\n",
              "    <tr>\n",
              "      <th>labels</th>\n",
              "      <th></th>\n",
              "      <th></th>\n",
              "      <th></th>\n",
              "      <th></th>\n",
              "    </tr>\n",
              "  </thead>\n",
              "  <tbody>\n",
              "    <tr>\n",
              "      <th>😂</th>\n",
              "      <td>1084</td>\n",
              "      <td>1073</td>\n",
              "      <td>Getting into this university to do medicine.</td>\n",
              "      <td>3</td>\n",
              "    </tr>\n",
              "    <tr>\n",
              "      <th>😔</th>\n",
              "      <td>1057</td>\n",
              "      <td>1053</td>\n",
              "      <td>Not finishing homework in time.</td>\n",
              "      <td>2</td>\n",
              "    </tr>\n",
              "    <tr>\n",
              "      <th>😠</th>\n",
              "      <td>1080</td>\n",
              "      <td>1080</td>\n",
              "      <td>When my mother rejected my boyfriend and made ...</td>\n",
              "      <td>1</td>\n",
              "    </tr>\n",
              "    <tr>\n",
              "      <th>😢</th>\n",
              "      <td>1079</td>\n",
              "      <td>1052</td>\n",
              "      <td>When my grandfather died.</td>\n",
              "      <td>8</td>\n",
              "    </tr>\n",
              "    <tr>\n",
              "      <th>😱</th>\n",
              "      <td>1078</td>\n",
              "      <td>1071</td>\n",
              "      <td>Before the examn.</td>\n",
              "      <td>3</td>\n",
              "    </tr>\n",
              "    <tr>\n",
              "      <th>😳</th>\n",
              "      <td>1045</td>\n",
              "      <td>1038</td>\n",
              "      <td>Not doing well in the examn.</td>\n",
              "      <td>4</td>\n",
              "    </tr>\n",
              "    <tr>\n",
              "      <th>🤢</th>\n",
              "      <td>1057</td>\n",
              "      <td>1056</td>\n",
              "      <td>I saw a program on T.V where they had to saw a...</td>\n",
              "      <td>2</td>\n",
              "    </tr>\n",
              "  </tbody>\n",
              "</table>\n",
              "</div>"
            ],
            "text/plain": [
              "       texts                                                               \n",
              "       count unique                                                top freq\n",
              "labels                                                                     \n",
              "😂       1084   1073       Getting into this university to do medicine.    3\n",
              "😔       1057   1053                    Not finishing homework in time.    2\n",
              "😠       1080   1080  When my mother rejected my boyfriend and made ...    1\n",
              "😢       1079   1052                          When my grandfather died.    8\n",
              "😱       1078   1071                                  Before the examn.    3\n",
              "😳       1045   1038                       Not doing well in the examn.    4\n",
              "🤢       1057   1056  I saw a program on T.V where they had to saw a...    2"
            ]
          },
          "metadata": {
            "tags": []
          },
          "execution_count": 8
        }
      ]
    },
    {
      "cell_type": "markdown",
      "metadata": {
        "id": "mcnrK_Jjs65G",
        "colab_type": "text"
      },
      "source": [
        "## Language Model dataloader"
      ]
    },
    {
      "cell_type": "markdown",
      "metadata": {
        "id": "tIFpTpPWQdTR",
        "colab_type": "text"
      },
      "source": [
        "Hopefully you remember what `TextLMDataBunch` does - **tokenizing** our dataset. "
      ]
    },
    {
      "cell_type": "markdown",
      "metadata": {
        "id": "jAq26wS6yPKh",
        "colab_type": "text"
      },
      "source": [
        "---\n",
        "\n",
        "🤔 REVIEW: What was Tokenizing again?\n",
        "\n",
        "Right now we have a clean dataset of different texts and their associated emojis. The only problem is that computers can't work with texts or understand them. Tokenizing is the process of categorising words and then assigning a unieque number to each category.\n",
        "\n",
        "--- "
      ]
    },
    {
      "cell_type": "code",
      "metadata": {
        "id": "7THqIHb-X9bZ",
        "colab_type": "code",
        "colab": {
          "base_uri": "https://localhost:8080/",
          "height": 17
        },
        "outputId": "f27b72ef-b3ec-4deb-eee6-ff88e34e8280"
      },
      "source": [
        "# create the datataloder from the csv file + tokenization\n",
        "data_lm = TextLMDataBunch.from_csv(\".\", 'dataset.csv')"
      ],
      "execution_count": null,
      "outputs": [
        {
          "output_type": "display_data",
          "data": {
            "text/html": [
              ""
            ],
            "text/plain": [
              "<IPython.core.display.HTML object>"
            ]
          },
          "metadata": {
            "tags": []
          }
        },
        {
          "output_type": "display_data",
          "data": {
            "text/html": [
              ""
            ],
            "text/plain": [
              "<IPython.core.display.HTML object>"
            ]
          },
          "metadata": {
            "tags": []
          }
        }
      ]
    },
    {
      "cell_type": "markdown",
      "metadata": {
        "id": "_gr_w-lTSjML",
        "colab_type": "text"
      },
      "source": [
        "And this is the result of tokenizing our dataset:"
      ]
    },
    {
      "cell_type": "code",
      "metadata": {
        "id": "uZ_7zppDJqVD",
        "colab_type": "code",
        "colab": {
          "base_uri": "https://localhost:8080/",
          "height": 374
        },
        "outputId": "3bb16b54-d0fc-43e2-801e-f1f69b28d4a7"
      },
      "source": [
        "# look at a batch of the data\n",
        "data_lm.show_batch()"
      ],
      "execution_count": null,
      "outputs": [
        {
          "output_type": "display_data",
          "data": {
            "text/html": [
              "<table border=\"1\" class=\"dataframe\">\n",
              "  <thead>\n",
              "    <tr style=\"text-align: right;\">\n",
              "      <th>idx</th>\n",
              "      <th>text</th>\n",
              "    </tr>\n",
              "  </thead>\n",
              "  <tbody>\n",
              "    <tr>\n",
              "      <td>0</td>\n",
              "      <td>to help me move but broke her promise because of some hindrance . xxbos xxmaj my mother and her friends were speaking badly about my father when they were separated , and my brothers and sisters and myself were allowed to listen . xxbos xxmaj when i met a friend that i had n't seen for some time . xxbos xxmaj when i had to travel alone , xxunk for</td>\n",
              "    </tr>\n",
              "    <tr>\n",
              "      <td>1</td>\n",
              "      <td>no firm view of the whole thing and therefor was not able to join the conversation . xxbos xxmaj criticizing my mother when she refused to drive with the radio on . i told her that i thought she was n't intelligent enough to cope with the radio . xxbos i went to a lecture and once again it had been cancelled , this was the second time . xxmaj</td>\n",
              "    </tr>\n",
              "    <tr>\n",
              "      <td>2</td>\n",
              "      <td>my friend died in a hospital . xxmaj my friend was crying and i was sad , too . xxbos xxmaj when i saw someone eating live worms . xxbos i had stayed for months without seeing mother because our holidays were short and my home is far . xxmaj some times , mother came to see me at school , i was very joyful , and i did n't</td>\n",
              "    </tr>\n",
              "    <tr>\n",
              "      <td>3</td>\n",
              "      <td>xxbos xxmaj my parents did not let me go on holidays with my friends . xxbos xxmaj when i met friends i had not seen for the last 2 - 4 years . xxbos i received a letter of acceptance from xxup unza . xxbos xxmaj during a recent meeting , xxmaj xxunk a showed his xxunk and xxunk in the notes xxunk . xxmaj though his curiosity could not</td>\n",
              "    </tr>\n",
              "    <tr>\n",
              "      <td>4</td>\n",
              "      <td>xxunk me on the way home . xxbos xxmaj getting into this university to do medicine . xxbos i felt ashamed of my body in spite of knowing that it is more or less beautiful and also knowing that my boyfriend xxunk me beautiful , but this was only in the beginning . xxbos xxmaj when i received the best xxunk award at the inter - college drama competition .</td>\n",
              "    </tr>\n",
              "  </tbody>\n",
              "</table>"
            ],
            "text/plain": [
              "<IPython.core.display.HTML object>"
            ]
          },
          "metadata": {
            "tags": []
          }
        }
      ]
    },
    {
      "cell_type": "markdown",
      "metadata": {
        "id": "Qipxz479tBtz",
        "colab_type": "text"
      },
      "source": [
        "## Classifier dataloader"
      ]
    },
    {
      "cell_type": "markdown",
      "metadata": {
        "id": "gH5_QKjFS3hP",
        "colab_type": "text"
      },
      "source": [
        "So now we have our language model dataloader. We're ready to train a language model. But before that let's create a **classifier** dataloader."
      ]
    },
    {
      "cell_type": "code",
      "metadata": {
        "id": "LkIrpIiztGG0",
        "colab_type": "code",
        "colab": {
          "base_uri": "https://localhost:8080/",
          "height": 17
        },
        "outputId": "8bd6e095-396c-4ee4-e295-08ecb25501f2"
      },
      "source": [
        "# create dataloader for classifier \n",
        "data_clas = TextClasDataBunch.from_csv(\".\",             # path to dataset\n",
        "                                       'dataset.csv',   # path to csv \n",
        "                                       vocab=data_lm.train_ds.vocab, # tokenizer vocab \n",
        "                                       bs=32)           # batch size"
      ],
      "execution_count": null,
      "outputs": [
        {
          "output_type": "display_data",
          "data": {
            "text/html": [
              ""
            ],
            "text/plain": [
              "<IPython.core.display.HTML object>"
            ]
          },
          "metadata": {
            "tags": []
          }
        },
        {
          "output_type": "display_data",
          "data": {
            "text/html": [
              ""
            ],
            "text/plain": [
              "<IPython.core.display.HTML object>"
            ]
          },
          "metadata": {
            "tags": []
          }
        }
      ]
    },
    {
      "cell_type": "markdown",
      "metadata": {
        "id": "-rqax_3fUAzi",
        "colab_type": "text"
      },
      "source": [
        "Ok now we can take a look at our classifier data."
      ]
    },
    {
      "cell_type": "code",
      "metadata": {
        "id": "3TUeRylXtHEL",
        "colab_type": "code",
        "colab": {
          "base_uri": "https://localhost:8080/",
          "height": 374
        },
        "outputId": "0c4486ef-a682-4394-cdf9-c95779014646"
      },
      "source": [
        "data_clas.show_batch()"
      ],
      "execution_count": null,
      "outputs": [
        {
          "output_type": "display_data",
          "data": {
            "text/html": [
              "<table border=\"1\" class=\"dataframe\">\n",
              "  <thead>\n",
              "    <tr style=\"text-align: right;\">\n",
              "      <th>text</th>\n",
              "      <th>target</th>\n",
              "    </tr>\n",
              "  </thead>\n",
              "  <tbody>\n",
              "    <tr>\n",
              "      <td>xxbos a few days back i was waiting for the bus at the bus stop . xxmaj before getting into the bus i had prepared the exact amount of coins to pay for the bus fair and when i got into the bus i put these coins into the box meant to collect the bus fair . i thought that i had paid and wanted to get inside . xxmaj</td>\n",
              "      <td>🤢</td>\n",
              "    </tr>\n",
              "    <tr>\n",
              "      <td>xxbos xxmaj at secondary school , one of my classmates lost her xxunk key . xxmaj during a class i saw two other classmates holding a key and talking secretly . i do not know why i suspected them , also another classmate xxunk me . xxmaj he xxunk that these people had only one key in the key - ring , this had seemed strange to him . xxmaj</td>\n",
              "      <td>😔</td>\n",
              "    </tr>\n",
              "    <tr>\n",
              "      <td>xxbos xxmaj one night during dinner my nephew was naughty , so i quarrelled with my parents . i regreted this as my nephew was only two years old and i had to tolerate him ! xxmaj the quarrel made my father think that his children may not take care of him in the future ( it was a slip of the tongue and this made me realize that my</td>\n",
              "      <td>😔</td>\n",
              "    </tr>\n",
              "    <tr>\n",
              "      <td>xxbos xxmaj last semester when i dated a girl whom i 've known for almost a year . xxmaj however one night she said she wanted us to be \" \" just friends \" \" . i xxunk this to a friend xxmaj xxunk i was really suffering . a month or two later he broke up with his old girlfriend and they started going out regularly . i have</td>\n",
              "      <td>😠</td>\n",
              "    </tr>\n",
              "    <tr>\n",
              "      <td>xxbos i was at home alone when i realized that a young xxunk approached our house . i hid because i did not want to xxunk it . xxmaj it xxunk . xxmaj some time later , when i thought that it had already run away , i saw it lying on our xxunk . i came xxunk and saw that it was terribly xxunk . i informed the xxunk</td>\n",
              "      <td>😢</td>\n",
              "    </tr>\n",
              "  </tbody>\n",
              "</table>"
            ],
            "text/plain": [
              "<IPython.core.display.HTML object>"
            ]
          },
          "metadata": {
            "tags": []
          }
        }
      ]
    },
    {
      "cell_type": "markdown",
      "metadata": {
        "id": "_pHO-yiSzn1L",
        "colab_type": "text"
      },
      "source": [
        "---\n",
        "\n",
        "Do you notice any difference between `data_clas` and `data_lm`?\n",
        "\n",
        "---"
      ]
    },
    {
      "cell_type": "markdown",
      "metadata": {
        "colab_type": "text",
        "id": "LghaC_ybwwUc"
      },
      "source": [
        "# Model"
      ]
    },
    {
      "cell_type": "markdown",
      "metadata": {
        "id": "aLuDdIQfwv5L",
        "colab_type": "text"
      },
      "source": [
        "## Languge Model"
      ]
    },
    {
      "cell_type": "markdown",
      "metadata": {
        "colab_type": "text",
        "id": "-wp5iT3NVmLg"
      },
      "source": [
        "Ok Finally It's time to train our **language model**. This model would be trained to know how words (tokens) are related to other tokens and generally how series of words make meaning. In other words, teaching the model how to speak English."
      ]
    },
    {
      "cell_type": "code",
      "metadata": {
        "id": "ESpBUKX5ORxi",
        "colab_type": "code",
        "colab": {
          "base_uri": "https://localhost:8080/",
          "height": 34
        },
        "outputId": "0e809bf0-a489-426f-9b5a-688f44aa4dba"
      },
      "source": [
        "learn = language_model_learner(data_lm, AWD_LSTM, drop_mult=0.5)"
      ],
      "execution_count": null,
      "outputs": [
        {
          "output_type": "stream",
          "text": [
            "Downloading https://s3.amazonaws.com/fast-ai-modelzoo/wt103-fwd.tgz\n"
          ],
          "name": "stdout"
        },
        {
          "output_type": "display_data",
          "data": {
            "text/html": [
              ""
            ],
            "text/plain": [
              "<IPython.core.display.HTML object>"
            ]
          },
          "metadata": {
            "tags": []
          }
        }
      ]
    },
    {
      "cell_type": "markdown",
      "metadata": {
        "id": "n4gXqJ44WShY",
        "colab_type": "text"
      },
      "source": [
        "Advanced side note on the parameters:\n",
        "\n",
        "> * `AWD_LSTM` is the architecture we will be using for training our language model. The details of this architecture is well beyond the scope of this course\n",
        "* `drop_mult` is the rate for dropout. Again this is will beyond the scope of this unit. In practice though, this helps with reducing the chance of overfitting in our model."
      ]
    },
    {
      "cell_type": "markdown",
      "metadata": {
        "id": "eWUynt-ZWfo0",
        "colab_type": "text"
      },
      "source": [
        "For fine-tuning a language model, you need to know what's the best learning rate. Like previous example, `lr_find()` can help us with this."
      ]
    },
    {
      "cell_type": "code",
      "metadata": {
        "id": "VDBMhDuuICao",
        "colab_type": "code",
        "colab": {
          "base_uri": "https://localhost:8080/",
          "height": 436
        },
        "outputId": "582dcbe8-13cf-44c5-f551-dc1fd44205cd"
      },
      "source": [
        "# find the appropriate learning rate\n",
        "learn.lr_find()\n",
        "learn.recorder.plot(skip_end=15)"
      ],
      "execution_count": null,
      "outputs": [
        {
          "output_type": "display_data",
          "data": {
            "text/html": [
              "\n",
              "    <div>\n",
              "        <style>\n",
              "            /* Turns off some styling */\n",
              "            progress {\n",
              "                /* gets rid of default border in Firefox and Opera. */\n",
              "                border: none;\n",
              "                /* Needs to be in here for Safari polyfill so background images work as expected. */\n",
              "                background-size: auto;\n",
              "            }\n",
              "            .progress-bar-interrupted, .progress-bar-interrupted::-webkit-progress-bar {\n",
              "                background: #F44336;\n",
              "            }\n",
              "        </style>\n",
              "      <progress value='2' class='' max='3' style='width:300px; height:20px; vertical-align: middle;'></progress>\n",
              "      66.67% [2/3 00:11<00:05]\n",
              "    </div>\n",
              "    \n",
              "<table border=\"1\" class=\"dataframe\">\n",
              "  <thead>\n",
              "    <tr style=\"text-align: left;\">\n",
              "      <th>epoch</th>\n",
              "      <th>train_loss</th>\n",
              "      <th>valid_loss</th>\n",
              "      <th>accuracy</th>\n",
              "      <th>time</th>\n",
              "    </tr>\n",
              "  </thead>\n",
              "  <tbody>\n",
              "    <tr>\n",
              "      <td>0</td>\n",
              "      <td>4.616630</td>\n",
              "      <td>#na#</td>\n",
              "      <td>00:05</td>\n",
              "    </tr>\n",
              "    <tr>\n",
              "      <td>1</td>\n",
              "      <td>4.359731</td>\n",
              "      <td>#na#</td>\n",
              "      <td>00:05</td>\n",
              "    </tr>\n",
              "  </tbody>\n",
              "</table><p>\n",
              "\n",
              "    <div>\n",
              "        <style>\n",
              "            /* Turns off some styling */\n",
              "            progress {\n",
              "                /* gets rid of default border in Firefox and Opera. */\n",
              "                border: none;\n",
              "                /* Needs to be in here for Safari polyfill so background images work as expected. */\n",
              "                background-size: auto;\n",
              "            }\n",
              "            .progress-bar-interrupted, .progress-bar-interrupted::-webkit-progress-bar {\n",
              "                background: #F44336;\n",
              "            }\n",
              "        </style>\n",
              "      <progress value='25' class='' max='37' style='width:300px; height:20px; vertical-align: middle;'></progress>\n",
              "      67.57% [25/37 00:03<00:01 8.6845]\n",
              "    </div>\n",
              "    "
            ],
            "text/plain": [
              "<IPython.core.display.HTML object>"
            ]
          },
          "metadata": {
            "tags": []
          }
        },
        {
          "output_type": "stream",
          "text": [
            "LR Finder is complete, type {learner_name}.recorder.plot() to see the graph.\n"
          ],
          "name": "stdout"
        },
        {
          "output_type": "display_data",
          "data": {
            "image/png": "[encoded data removed]",
            "text/plain": [
              "<Figure size 432x288 with 1 Axes>"
            ]
          },
          "metadata": {
            "tags": [],
            "needs_background": "light"
          }
        }
      ]
    },
    {
      "cell_type": "markdown",
      "metadata": {
        "id": "Ta7Qhvou0WUL",
        "colab_type": "text"
      },
      "source": [
        "---\n",
        "\n",
        "Can you guess what `learning rate` we should choose?\n",
        "\n",
        "---"
      ]
    },
    {
      "cell_type": "code",
      "metadata": {
        "id": "sxluNclQIAv7",
        "colab_type": "code",
        "colab": {
          "base_uri": "https://localhost:8080/",
          "height": 173
        },
        "outputId": "fddfeeac-dd3a-4c67-ff4d-6e8b1520ef16"
      },
      "source": [
        "# start training the language model\n",
        "learn.fit_one_cycle(4, 1e-3)"
      ],
      "execution_count": null,
      "outputs": [
        {
          "output_type": "display_data",
          "data": {
            "text/html": [
              "<table border=\"1\" class=\"dataframe\">\n",
              "  <thead>\n",
              "    <tr style=\"text-align: left;\">\n",
              "      <th>epoch</th>\n",
              "      <th>train_loss</th>\n",
              "      <th>valid_loss</th>\n",
              "      <th>accuracy</th>\n",
              "      <th>time</th>\n",
              "    </tr>\n",
              "  </thead>\n",
              "  <tbody>\n",
              "    <tr>\n",
              "      <td>0</td>\n",
              "      <td>4.533230</td>\n",
              "      <td>4.162245</td>\n",
              "      <td>0.247188</td>\n",
              "      <td>00:06</td>\n",
              "    </tr>\n",
              "    <tr>\n",
              "      <td>1</td>\n",
              "      <td>4.307503</td>\n",
              "      <td>3.853182</td>\n",
              "      <td>0.275201</td>\n",
              "      <td>00:06</td>\n",
              "    </tr>\n",
              "    <tr>\n",
              "      <td>2</td>\n",
              "      <td>4.122085</td>\n",
              "      <td>3.745854</td>\n",
              "      <td>0.284196</td>\n",
              "      <td>00:06</td>\n",
              "    </tr>\n",
              "    <tr>\n",
              "      <td>3</td>\n",
              "      <td>4.002868</td>\n",
              "      <td>3.729653</td>\n",
              "      <td>0.284911</td>\n",
              "      <td>00:07</td>\n",
              "    </tr>\n",
              "  </tbody>\n",
              "</table>"
            ],
            "text/plain": [
              "<IPython.core.display.HTML object>"
            ]
          },
          "metadata": {
            "tags": []
          }
        }
      ]
    },
    {
      "cell_type": "markdown",
      "metadata": {
        "id": "bC0GnZFB0qXl",
        "colab_type": "text"
      },
      "source": [
        "---\n",
        "\n",
        "What does this accuracy represent? (hint, think about why we have a language model in the first place)\n",
        "\n",
        "---"
      ]
    },
    {
      "cell_type": "markdown",
      "metadata": {
        "id": "wzKNeoqs0i0o",
        "colab_type": "text"
      },
      "source": [
        "Before moving on, we need to save our language model to be used by our `classifier` in the next section."
      ]
    },
    {
      "cell_type": "code",
      "metadata": {
        "id": "hF3osWiBJT3Q",
        "colab_type": "code",
        "colab": {}
      },
      "source": [
        "# save the language model\n",
        "learn.save_encoder('language_model')"
      ],
      "execution_count": null,
      "outputs": []
    },
    {
      "cell_type": "markdown",
      "metadata": {
        "colab_type": "text",
        "id": "UAOH_jTUVmLi"
      },
      "source": [
        "## Classifier"
      ]
    },
    {
      "cell_type": "markdown",
      "metadata": {
        "id": "pEqJ1YQoXYRl",
        "colab_type": "text"
      },
      "source": [
        "To this point we've trained a language model so our model can understand English quite well. All we have to do is training a **classifier** so we can find which emoji that best describes a sentence."
      ]
    },
    {
      "cell_type": "code",
      "metadata": {
        "id": "GqFooVUbJh9p",
        "colab_type": "code",
        "colab": {}
      },
      "source": [
        "# create model architecture for classifier\n",
        "learn = text_classifier_learner(data_clas, AWD_LSTM, drop_mult=0.5)\n",
        "\n",
        "# load our language model from the previous section\n",
        "learn.load_encoder('language_model');"
      ],
      "execution_count": null,
      "outputs": []
    },
    {
      "cell_type": "code",
      "metadata": {
        "id": "CV-z1KGwDMX7",
        "colab_type": "code",
        "colab": {
          "base_uri": "https://localhost:8080/",
          "height": 235
        },
        "outputId": "b9d902b5-cdc5-403b-fbbf-b58819483600"
      },
      "source": [
        "# start training the classifier\n",
        "learn.fit_one_cycle(6, 1e-2)"
      ],
      "execution_count": null,
      "outputs": [
        {
          "output_type": "display_data",
          "data": {
            "text/html": [
              "<table border=\"1\" class=\"dataframe\">\n",
              "  <thead>\n",
              "    <tr style=\"text-align: left;\">\n",
              "      <th>epoch</th>\n",
              "      <th>train_loss</th>\n",
              "      <th>valid_loss</th>\n",
              "      <th>accuracy</th>\n",
              "      <th>time</th>\n",
              "    </tr>\n",
              "  </thead>\n",
              "  <tbody>\n",
              "    <tr>\n",
              "      <td>0</td>\n",
              "      <td>1.704892</td>\n",
              "      <td>1.556522</td>\n",
              "      <td>0.384770</td>\n",
              "      <td>00:05</td>\n",
              "    </tr>\n",
              "    <tr>\n",
              "      <td>1</td>\n",
              "      <td>1.661501</td>\n",
              "      <td>1.493460</td>\n",
              "      <td>0.442218</td>\n",
              "      <td>00:05</td>\n",
              "    </tr>\n",
              "    <tr>\n",
              "      <td>2</td>\n",
              "      <td>1.623647</td>\n",
              "      <td>1.464690</td>\n",
              "      <td>0.432198</td>\n",
              "      <td>00:05</td>\n",
              "    </tr>\n",
              "    <tr>\n",
              "      <td>3</td>\n",
              "      <td>1.581873</td>\n",
              "      <td>1.409077</td>\n",
              "      <td>0.486306</td>\n",
              "      <td>00:05</td>\n",
              "    </tr>\n",
              "    <tr>\n",
              "      <td>4</td>\n",
              "      <td>1.557181</td>\n",
              "      <td>1.372759</td>\n",
              "      <td>0.501002</td>\n",
              "      <td>00:05</td>\n",
              "    </tr>\n",
              "    <tr>\n",
              "      <td>5</td>\n",
              "      <td>1.486092</td>\n",
              "      <td>1.363644</td>\n",
              "      <td>0.488978</td>\n",
              "      <td>00:04</td>\n",
              "    </tr>\n",
              "  </tbody>\n",
              "</table>"
            ],
            "text/plain": [
              "<IPython.core.display.HTML object>"
            ]
          },
          "metadata": {
            "tags": []
          }
        }
      ]
    },
    {
      "cell_type": "markdown",
      "metadata": {
        "id": "UHg5K7E71ets",
        "colab_type": "text"
      },
      "source": [
        "Let's unfreeze two more layers and continue training. Remember tha you can change `-2` to `-3` and so on if you want and see how it changes the accuracy over time."
      ]
    },
    {
      "cell_type": "code",
      "metadata": {
        "id": "2ODaSuVbJ2up",
        "colab_type": "code",
        "colab": {
          "base_uri": "https://localhost:8080/",
          "height": 142
        },
        "outputId": "82cfcfa7-8793-4e73-b4df-6b5048b4b655"
      },
      "source": [
        "# unfreeze the last two layers\n",
        "learn.freeze_to(-2)\n",
        "\n",
        "# train the model on the last two layers\n",
        "learn.fit_one_cycle(3, slice(1e-2/(2.6**4),1e-2))"
      ],
      "execution_count": null,
      "outputs": [
        {
          "output_type": "display_data",
          "data": {
            "text/html": [
              "<table border=\"1\" class=\"dataframe\">\n",
              "  <thead>\n",
              "    <tr style=\"text-align: left;\">\n",
              "      <th>epoch</th>\n",
              "      <th>train_loss</th>\n",
              "      <th>valid_loss</th>\n",
              "      <th>accuracy</th>\n",
              "      <th>time</th>\n",
              "    </tr>\n",
              "  </thead>\n",
              "  <tbody>\n",
              "    <tr>\n",
              "      <td>0</td>\n",
              "      <td>1.570237</td>\n",
              "      <td>1.496324</td>\n",
              "      <td>0.438210</td>\n",
              "      <td>00:06</td>\n",
              "    </tr>\n",
              "    <tr>\n",
              "      <td>1</td>\n",
              "      <td>1.439217</td>\n",
              "      <td>1.280986</td>\n",
              "      <td>0.535738</td>\n",
              "      <td>00:06</td>\n",
              "    </tr>\n",
              "    <tr>\n",
              "      <td>2</td>\n",
              "      <td>1.290104</td>\n",
              "      <td>1.221485</td>\n",
              "      <td>0.553106</td>\n",
              "      <td>00:06</td>\n",
              "    </tr>\n",
              "  </tbody>\n",
              "</table>"
            ],
            "text/plain": [
              "<IPython.core.display.HTML object>"
            ]
          },
          "metadata": {
            "tags": []
          }
        }
      ]
    },
    {
      "cell_type": "markdown",
      "metadata": {
        "colab_type": "text",
        "id": "hNbnH0FjFx_I"
      },
      "source": [
        "⭐ What do you think about differences of this example and the IMDb reviews example classifier?"
      ]
    },
    {
      "cell_type": "markdown",
      "metadata": {
        "colab_type": "text",
        "id": "h6jua1rO8_2t"
      },
      "source": [
        "## Testing"
      ]
    },
    {
      "cell_type": "markdown",
      "metadata": {
        "id": "C6vTdJv3YkrM",
        "colab_type": "text"
      },
      "source": [
        "In our test we have a function called `predict` which gets a `sentence` as input and then:\n",
        "\n",
        "\n",
        "1.   Gets a `sentence` as input.\n",
        "2.   Guesses the best possible pattern for the sentence.\n",
        "3.   Finds the appropriate class (emoji) for that pattern.\n",
        "4.   Returns the emoji.\n"
      ]
    },
    {
      "cell_type": "code",
      "metadata": {
        "id": "F1W3sCT4zHGg",
        "colab_type": "code",
        "colab": {}
      },
      "source": [
        "def predict(sentence):\n",
        "  pred_idx = learn.predict(sentence)[1]\n",
        "  return data_clas.classes[pred_idx]"
      ],
      "execution_count": null,
      "outputs": []
    },
    {
      "cell_type": "code",
      "metadata": {
        "id": "ThtPhTYyTkAu",
        "colab_type": "code",
        "colab": {
          "base_uri": "https://localhost:8080/",
          "height": 35
        },
        "outputId": "138695f5-f6fc-44ea-d057-7a46b66c2828"
      },
      "source": [
        "predict(\"I had an accident!\")"
      ],
      "execution_count": null,
      "outputs": [
        {
          "output_type": "execute_result",
          "data": {
            "application/vnd.google.colaboratory.intrinsic+json": {
              "type": "string"
            },
            "text/plain": [
              "'😱'"
            ]
          },
          "metadata": {
            "tags": []
          },
          "execution_count": 23
        }
      ]
    },
    {
      "cell_type": "markdown",
      "metadata": {
        "id": "DCUZTqL64atX",
        "colab_type": "text"
      },
      "source": [
        "##Fine Tuning"
      ]
    },
    {
      "cell_type": "markdown",
      "metadata": {
        "id": "R4PokcX_ad1-",
        "colab_type": "text"
      },
      "source": [
        "Ok we've made it! 🎉\n",
        "\n",
        "But we can always try to improve the accuracy of our model.\n",
        "\n",
        "So let's call  `lr_find()` again to find out which learning rate is appropriate."
      ]
    },
    {
      "cell_type": "code",
      "metadata": {
        "id": "yGFmxFiRMSt9",
        "colab_type": "code",
        "colab": {
          "base_uri": "https://localhost:8080/",
          "height": 375
        },
        "outputId": "4233d883-a241-4f5d-b894-1c45980d163d"
      },
      "source": [
        "# find an appropriate learning rate\n",
        "learn.lr_find()\n",
        "learn.recorder.plot()"
      ],
      "execution_count": null,
      "outputs": [
        {
          "output_type": "display_data",
          "data": {
            "text/html": [
              "\n",
              "    <div>\n",
              "        <style>\n",
              "            /* Turns off some styling */\n",
              "            progress {\n",
              "                /* gets rid of default border in Firefox and Opera. */\n",
              "                border: none;\n",
              "                /* Needs to be in here for Safari polyfill so background images work as expected. */\n",
              "                background-size: auto;\n",
              "            }\n",
              "            .progress-bar-interrupted, .progress-bar-interrupted::-webkit-progress-bar {\n",
              "                background: #F44336;\n",
              "            }\n",
              "        </style>\n",
              "      <progress value='0' class='' max='1' style='width:300px; height:20px; vertical-align: middle;'></progress>\n",
              "      0.00% [0/1 00:00<00:00]\n",
              "    </div>\n",
              "    \n",
              "<table border=\"1\" class=\"dataframe\">\n",
              "  <thead>\n",
              "    <tr style=\"text-align: left;\">\n",
              "      <th>epoch</th>\n",
              "      <th>train_loss</th>\n",
              "      <th>valid_loss</th>\n",
              "      <th>accuracy</th>\n",
              "      <th>time</th>\n",
              "    </tr>\n",
              "  </thead>\n",
              "  <tbody>\n",
              "  </tbody>\n",
              "</table><p>\n",
              "\n",
              "    <div>\n",
              "        <style>\n",
              "            /* Turns off some styling */\n",
              "            progress {\n",
              "                /* gets rid of default border in Firefox and Opera. */\n",
              "                border: none;\n",
              "                /* Needs to be in here for Safari polyfill so background images work as expected. */\n",
              "                background-size: auto;\n",
              "            }\n",
              "            .progress-bar-interrupted, .progress-bar-interrupted::-webkit-progress-bar {\n",
              "                background: #F44336;\n",
              "            }\n",
              "        </style>\n",
              "      <progress value='91' class='' max='186' style='width:300px; height:20px; vertical-align: middle;'></progress>\n",
              "      48.92% [91/186 00:02<00:02 1.8755]\n",
              "    </div>\n",
              "    "
            ],
            "text/plain": [
              "<IPython.core.display.HTML object>"
            ]
          },
          "metadata": {
            "tags": []
          }
        },
        {
          "output_type": "stream",
          "text": [
            "LR Finder is complete, type {learner_name}.recorder.plot() to see the graph.\n"
          ],
          "name": "stdout"
        },
        {
          "output_type": "display_data",
          "data": {
            "image/png": "[encoded data removed]",
            "text/plain": [
              "<Figure size 432x288 with 1 Axes>"
            ]
          },
          "metadata": {
            "tags": [],
            "needs_background": "light"
          }
        }
      ]
    },
    {
      "cell_type": "markdown",
      "metadata": {
        "id": "kLKqD5ru2sSf",
        "colab_type": "text"
      },
      "source": [
        "Looks like `1e-3` is a good learning rate to choose in this case because it is the last sharp drop before an exponential increase."
      ]
    },
    {
      "cell_type": "markdown",
      "metadata": {
        "id": "XejywQWfbWQq",
        "colab_type": "text"
      },
      "source": [
        "Unfreeze to train more layers of our model. This will make our model more accurate."
      ]
    },
    {
      "cell_type": "code",
      "metadata": {
        "id": "B3JknGuZKIVm",
        "colab_type": "code",
        "colab": {
          "base_uri": "https://localhost:8080/",
          "height": 297
        },
        "outputId": "3f02f931-a6c9-4423-9827-fe8e12b646a3"
      },
      "source": [
        "learn.unfreeze()\n",
        "learn.fit_one_cycle(8, slice(1e-3/(2.6**4),1e-3))"
      ],
      "execution_count": null,
      "outputs": [
        {
          "output_type": "display_data",
          "data": {
            "text/html": [
              "<table border=\"1\" class=\"dataframe\">\n",
              "  <thead>\n",
              "    <tr style=\"text-align: left;\">\n",
              "      <th>epoch</th>\n",
              "      <th>train_loss</th>\n",
              "      <th>valid_loss</th>\n",
              "      <th>accuracy</th>\n",
              "      <th>time</th>\n",
              "    </tr>\n",
              "  </thead>\n",
              "  <tbody>\n",
              "    <tr>\n",
              "      <td>0</td>\n",
              "      <td>1.228175</td>\n",
              "      <td>1.213254</td>\n",
              "      <td>0.567134</td>\n",
              "      <td>00:14</td>\n",
              "    </tr>\n",
              "    <tr>\n",
              "      <td>1</td>\n",
              "      <td>1.154814</td>\n",
              "      <td>1.183909</td>\n",
              "      <td>0.570474</td>\n",
              "      <td>00:14</td>\n",
              "    </tr>\n",
              "    <tr>\n",
              "      <td>2</td>\n",
              "      <td>1.066858</td>\n",
              "      <td>1.141165</td>\n",
              "      <td>0.597862</td>\n",
              "      <td>00:13</td>\n",
              "    </tr>\n",
              "    <tr>\n",
              "      <td>3</td>\n",
              "      <td>0.966961</td>\n",
              "      <td>1.115286</td>\n",
              "      <td>0.615230</td>\n",
              "      <td>00:11</td>\n",
              "    </tr>\n",
              "    <tr>\n",
              "      <td>4</td>\n",
              "      <td>0.890373</td>\n",
              "      <td>1.108917</td>\n",
              "      <td>0.618570</td>\n",
              "      <td>00:13</td>\n",
              "    </tr>\n",
              "    <tr>\n",
              "      <td>5</td>\n",
              "      <td>0.827947</td>\n",
              "      <td>1.111292</td>\n",
              "      <td>0.621242</td>\n",
              "      <td>00:13</td>\n",
              "    </tr>\n",
              "    <tr>\n",
              "      <td>6</td>\n",
              "      <td>0.780169</td>\n",
              "      <td>1.108582</td>\n",
              "      <td>0.619238</td>\n",
              "      <td>00:12</td>\n",
              "    </tr>\n",
              "    <tr>\n",
              "      <td>7</td>\n",
              "      <td>0.753262</td>\n",
              "      <td>1.116989</td>\n",
              "      <td>0.626586</td>\n",
              "      <td>00:11</td>\n",
              "    </tr>\n",
              "  </tbody>\n",
              "</table>"
            ],
            "text/plain": [
              "<IPython.core.display.HTML object>"
            ]
          },
          "metadata": {
            "tags": []
          }
        }
      ]
    },
    {
      "cell_type": "markdown",
      "metadata": {
        "id": "KB3QROfdbs8U",
        "colab_type": "text"
      },
      "source": [
        "So After training our model again, give it one more shot and test it out with more challenging sentences to classify."
      ]
    },
    {
      "cell_type": "code",
      "metadata": {
        "id": "jmo4ZwklUZaa",
        "colab_type": "code",
        "colab": {
          "base_uri": "https://localhost:8080/",
          "height": 35
        },
        "outputId": "c78672e4-a892-403b-a811-ab38fa5e8ccd"
      },
      "source": [
        "predict(\"that is so sad, I'm sorry\")"
      ],
      "execution_count": null,
      "outputs": [
        {
          "output_type": "execute_result",
          "data": {
            "application/vnd.google.colaboratory.intrinsic+json": {
              "type": "string"
            },
            "text/plain": [
              "'😢'"
            ]
          },
          "metadata": {
            "tags": []
          },
          "execution_count": 26
        }
      ]
    },
    {
      "cell_type": "markdown",
      "metadata": {
        "colab_type": "text",
        "id": "URivN3ZlRXLw"
      },
      "source": [
        "# Your turn!"
      ]
    },
    {
      "cell_type": "markdown",
      "metadata": {
        "id": "AVpYHF6VTl1B",
        "colab_type": "text"
      },
      "source": [
        "## Setup"
      ]
    },
    {
      "cell_type": "markdown",
      "metadata": {
        "id": "u0PEcDdySClM",
        "colab_type": "text"
      },
      "source": [
        "We want to use Amazon reviews dataset and guess the ratings (out of 5) for each review."
      ]
    },
    {
      "cell_type": "code",
      "metadata": {
        "id": "Jr5ghweSS4Js",
        "colab_type": "code",
        "colab": {
          "base_uri": "https://localhost:8080/",
          "height": 34
        },
        "outputId": "80a060f6-9adf-46f6-b091-35220a29def2"
      },
      "source": [
        "# download and unzip the dataset\n",
        "path = untar_data(URLs.AMAZON_REVIEWS)\n",
        "\n",
        "# read the data using pandas\n",
        "data = pd.read_csv(path/'train.csv', header=None)\n",
        "\n",
        "# select a subset of the dat \n",
        "data = data.iloc[:100000]\n",
        "\n",
        "# fill in the missing values with 0\n",
        "data = data.fillna(0)\n",
        "\n",
        "# create validation entry (is_valid column)\n",
        "data.iloc[:,2] = False      \n",
        "data.iloc[80000:,2] = True\n",
        "\n",
        "# change the column names\n",
        "data.columns = ['label', 'text', 'is_valid']\n",
        "\n",
        "# save to csv\n",
        "data.to_csv('data.csv', index=False)"
      ],
      "execution_count": null,
      "outputs": [
        {
          "output_type": "stream",
          "text": [
            "Downloading https://s3.amazonaws.com/fast-ai-nlp/amazon_review_full_csv.tgz\n"
          ],
          "name": "stdout"
        },
        {
          "output_type": "display_data",
          "data": {
            "text/html": [
              ""
            ],
            "text/plain": [
              "<IPython.core.display.HTML object>"
            ]
          },
          "metadata": {
            "tags": []
          }
        }
      ]
    },
    {
      "cell_type": "markdown",
      "metadata": {
        "id": "OR-TaBrHTqWS",
        "colab_type": "text"
      },
      "source": [
        "## Data"
      ]
    },
    {
      "cell_type": "code",
      "metadata": {
        "id": "ThiBJew4Sr_e",
        "colab_type": "code",
        "colab": {}
      },
      "source": [
        "## Print the info() of the data \n",
        "### YOUR CODE HERE\n",
        "\n"
      ],
      "execution_count": null,
      "outputs": []
    },
    {
      "cell_type": "code",
      "metadata": {
        "id": "_PvcFVmOMWxa",
        "colab_type": "code",
        "colab": {}
      },
      "source": [
        "## Print the .head() of the data to have a quick look\n",
        "### YOUR CODE HERE\n",
        "\n"
      ],
      "execution_count": null,
      "outputs": []
    },
    {
      "cell_type": "code",
      "metadata": {
        "id": "CYqJLfxURCCN",
        "colab_type": "code",
        "colab": {}
      },
      "source": [
        "## show the last comment\n",
        "### YOUR CODE HERE\n",
        "\n"
      ],
      "execution_count": null,
      "outputs": []
    },
    {
      "cell_type": "code",
      "metadata": {
        "id": "3nAAwCaaziBE",
        "colab_type": "code",
        "colab": {}
      },
      "source": [
        "##show data group by label column\n",
        "### YOUR CODE HERE\n"
      ],
      "execution_count": null,
      "outputs": []
    },
    {
      "cell_type": "markdown",
      "metadata": {
        "id": "B8ceKQx9T97z",
        "colab_type": "text"
      },
      "source": [
        "## Model"
      ]
    },
    {
      "cell_type": "markdown",
      "metadata": {
        "id": "jDu935ui0IBm",
        "colab_type": "text"
      },
      "source": [
        "Setup the dataloaders"
      ]
    },
    {
      "cell_type": "code",
      "metadata": {
        "id": "jJgoANIXUDPE",
        "colab_type": "code",
        "colab": {
          "base_uri": "https://localhost:8080/",
          "height": 425
        },
        "outputId": "ad095fc2-8396-4df6-9b7e-0018a655a50d"
      },
      "source": [
        "# language model dataloader\n",
        "data_lm = TextLMDataBunch.from_csv('.', 'data.csv')\n",
        "\n",
        "# view a batch of it\n",
        "data_lm.show_batch()"
      ],
      "execution_count": null,
      "outputs": [
        {
          "output_type": "display_data",
          "data": {
            "text/html": [
              ""
            ],
            "text/plain": [
              "<IPython.core.display.HTML object>"
            ]
          },
          "metadata": {
            "tags": []
          }
        },
        {
          "output_type": "display_data",
          "data": {
            "text/html": [
              ""
            ],
            "text/plain": [
              "<IPython.core.display.HTML object>"
            ]
          },
          "metadata": {
            "tags": []
          }
        },
        {
          "output_type": "display_data",
          "data": {
            "text/html": [
              "<table border=\"1\" class=\"dataframe\">\n",
              "  <thead>\n",
              "    <tr style=\"text-align: right;\">\n",
              "      <th>idx</th>\n",
              "      <th>text</th>\n",
              "    </tr>\n",
              "  </thead>\n",
              "  <tbody>\n",
              "    <tr>\n",
              "      <td>0</td>\n",
              "      <td>a year xxbos xxmaj not all that great ... xxbos xxmaj stud finder xxbos xxmaj xxunk game playing &amp; xxunk xxbos l'amour xxmaj sacketts - xxmaj classic xxmaj cowboy xxbos xxmaj movie xxmaj blu ray disc is ok , the other 2 disc are not xxbos xxmaj the xxmaj xxunk people are our friends xxbos un xxrep 6 h xxbos xxmaj as advertised ... xxbos a boon for a start</td>\n",
              "    </tr>\n",
              "    <tr>\n",
              "      <td>1</td>\n",
              "      <td>thought it was xxbos xxmaj horrible textbook xxbos good xxbos xxmaj his worst effort to date xxbos never xxunk xxbos xxmaj always low or dead xxbos xxmaj the xxmaj sound of xxmaj music xxbos xxup great i xxup xxunk xxup know a 17 xxup year xxup old xxup could xxup write xxup this xxup good xxrep 4 ! xxbos xxmaj great xxbos xxmaj stunts cool ? ( xxmaj someone xxup</td>\n",
              "    </tr>\n",
              "    <tr>\n",
              "      <td>2</td>\n",
              "      <td>great xxbos xxmaj hudson xxmaj rules xxbos xxmaj great for xxmaj bionicle xxmaj lovers xxbos xxmaj these books are terrible ! xxbos xxmaj eh xxbos not as good as the old ones xxbos xxmaj it works ! xxbos xxmaj this is a magic blanket ! xxbos xxmaj worst xxmaj zombie xxmaj movie xxmaj ever xxrep 4 ! xxbos xxmaj the xxmaj queen of xxmaj death from xxmaj john xxmaj milne</td>\n",
              "    </tr>\n",
              "    <tr>\n",
              "      <td>3</td>\n",
              "      <td>9 a xxunk ... xxbos xxmaj xxunk to live xxrep 4 . xxbos xxmaj love xxmaj julia , not xxmaj julie xxbos xxmaj good xxmaj job xxbos xxmaj review of xxmaj xxunk guide to xxmaj dogs xxbos xxmaj xxunk xxmaj issues xxbos xxmaj flat xxmaj live xxmaj recordings xxbos xxmaj well written xxbos xxup the xxup gods xxup awaken xxbos xxmaj very good , but wrong ending . xxbos xxmaj</td>\n",
              "    </tr>\n",
              "    <tr>\n",
              "      <td>4</td>\n",
              "      <td>xxmaj flight of xxmaj grey xxmaj wolf xxbos a good year xxbos xxmaj ugh xxbos \" xxmaj what he 's saying , i know not ... \" xxbos xxmaj spider - xxmaj man xxup ii is a safe family film that stays fairly xxrep 4 . xxbos xxmaj very disappointing xxbos hard to understand xxbos xxmaj the xxmaj great xxmaj finale xxbos xxmaj tragic xxmaj production of a xxmaj great</td>\n",
              "    </tr>\n",
              "  </tbody>\n",
              "</table>"
            ],
            "text/plain": [
              "<IPython.core.display.HTML object>"
            ]
          },
          "metadata": {
            "tags": []
          }
        }
      ]
    },
    {
      "cell_type": "code",
      "metadata": {
        "id": "fSKtSlhf29S3",
        "colab_type": "code",
        "colab": {
          "base_uri": "https://localhost:8080/",
          "height": 289
        },
        "outputId": "9bdd447d-09e5-457e-ccff-96ce2ca063aa"
      },
      "source": [
        "# classifier dataloader\n",
        "data_clas = TextClasDataBunch.from_csv('.', 'data.csv', vocab=data_lm.train_ds.vocab, bs=32)\n",
        "\n",
        "# view a batch of it\n",
        "data_clas.show_batch()"
      ],
      "execution_count": null,
      "outputs": [
        {
          "output_type": "display_data",
          "data": {
            "text/html": [
              ""
            ],
            "text/plain": [
              "<IPython.core.display.HTML object>"
            ]
          },
          "metadata": {
            "tags": []
          }
        },
        {
          "output_type": "display_data",
          "data": {
            "text/html": [
              ""
            ],
            "text/plain": [
              "<IPython.core.display.HTML object>"
            ]
          },
          "metadata": {
            "tags": []
          }
        },
        {
          "output_type": "display_data",
          "data": {
            "text/html": [
              "<table border=\"1\" class=\"dataframe\">\n",
              "  <thead>\n",
              "    <tr style=\"text-align: right;\">\n",
              "      <th>text</th>\n",
              "      <th>target</th>\n",
              "    </tr>\n",
              "  </thead>\n",
              "  <tbody>\n",
              "    <tr>\n",
              "      <td>xxbos xxmaj motorola xxmaj xxunk xxup xxunk , xxmaj xxunk , xxmaj xxunk , xxmaj xxunk xxup xxunk , xxup xxunk , xxup xxunk xxmaj xxunk xxup xxunk , xxup xxunk , xxmaj xxunk , xxup xxunk , xxup xxunk , xxup xxunk - xxmaj xxunk xxup oem xxmaj original xxmaj auto xxmaj car xxmaj charger xxmaj xxunk</td>\n",
              "      <td>1</td>\n",
              "    </tr>\n",
              "    <tr>\n",
              "      <td>xxbos xxmaj ten xxmaj minutes of xxmaj action , xxmaj five xxmaj minutes of xxmaj drama , xxmaj two xxmaj hours and xxmaj twenty xxmaj minutes of xxmaj awkward xxmaj teenage xxmaj angst</td>\n",
              "      <td>2</td>\n",
              "    </tr>\n",
              "    <tr>\n",
              "      <td>xxbos xxmaj you need a giants hand to handle ; the xxunk of xxmaj xxunk to pick up ; precise vision to get it back on its cradle correctly</td>\n",
              "      <td>1</td>\n",
              "    </tr>\n",
              "    <tr>\n",
              "      <td>xxbos xxmaj do n't xxmaj buy xxmaj this xxmaj book ! xxmaj it will xxmaj scare the xxmaj xxunk xxmaj out of xxmaj you xxrep 6 !</td>\n",
              "      <td>1</td>\n",
              "    </tr>\n",
              "    <tr>\n",
              "      <td>xxbos [ xxmaj three - and - a - half out of five ] xxmaj updated attempt to copy xxmaj brotherhood of the xxmaj bell !</td>\n",
              "      <td>3</td>\n",
              "    </tr>\n",
              "  </tbody>\n",
              "</table>"
            ],
            "text/plain": [
              "<IPython.core.display.HTML object>"
            ]
          },
          "metadata": {
            "tags": []
          }
        }
      ]
    },
    {
      "cell_type": "markdown",
      "metadata": {
        "id": "oaSyLrhd2mvq",
        "colab_type": "text"
      },
      "source": [
        "Next you should\n",
        "\n",
        "1. Train your language model\n",
        "2. Train your classifier \n",
        "\n",
        "Follow the steps from above and write your own code!"
      ]
    },
    {
      "cell_type": "code",
      "metadata": {
        "colab_type": "code",
        "id": "Qd-EUOuYliu9",
        "colab": {}
      },
      "source": [
        "# fine-tune your language model here\n",
        "## YOUR CODE HERE\n",
        "\n",
        "# 1. define your learner\n",
        "# 2. find the appropriate learning rate\n",
        "# 3. train!\n",
        "# 4. save your language model"
      ],
      "execution_count": null,
      "outputs": []
    },
    {
      "cell_type": "code",
      "metadata": {
        "id": "ROWRf8e5OphO",
        "colab_type": "code",
        "colab": {}
      },
      "source": [
        "# create your classifier\n",
        "## YOUR CODE HERE\n",
        "\n",
        "# 1. define your learner\n",
        "# 2. load your language model\n",
        "# 2. find the appropriate learning rate\n",
        "# 3. train!"
      ],
      "execution_count": null,
      "outputs": []
    },
    {
      "cell_type": "markdown",
      "metadata": {
        "colab_type": "text",
        "id": "J71ttgg2aicH"
      },
      "source": [
        "# Summary"
      ]
    },
    {
      "cell_type": "markdown",
      "metadata": {
        "id": "3qEvUf3M4TJc",
        "colab_type": "text"
      },
      "source": [
        "Today we covered: \n",
        "* How to deal with more complex data \n",
        "* How to train a multi-class classifier, that is classifying multiple emojis rather than just positive/negative\n",
        "* Further fine-tuning both the language model and the classifier"
      ]
    }
  ]
}