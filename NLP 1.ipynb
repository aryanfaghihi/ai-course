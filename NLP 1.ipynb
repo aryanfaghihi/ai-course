{
  "nbformat": 4,
  "nbformat_minor": 0,
  "metadata": {
    "accelerator": "GPU",
    "colab": {
      "name": "NLP 1.ipynb",
      "provenance": [],
      "collapsed_sections": [],
      "toc_visible": true,
      "include_colab_link": true
    },
    "kernelspec": {
      "display_name": "Python 3",
      "language": "python",
      "name": "python3"
    },
    "language_info": {
      "codemirror_mode": {
        "name": "ipython",
        "version": 3
      },
      "file_extension": ".py",
      "mimetype": "text/x-python",
      "name": "python",
      "nbconvert_exporter": "python",
      "pygments_lexer": "ipython3",
      "version": "3.7.6"
    }
  },
  "cells": [
    {
      "cell_type": "markdown",
      "metadata": {
        "id": "view-in-github",
        "colab_type": "text"
      },
      "source": [
        "<a href=\"https://colab.research.google.com/github/aryanfaghihi/ai-course/blob/master/NLP%201.ipynb\" target=\"_parent\"><img src=\"https://colab.research.google.com/assets/colab-badge.svg\" alt=\"Open In Colab\"/></a>"
      ]
    },
    {
      "cell_type": "markdown",
      "metadata": {
        "colab_type": "text",
        "id": "sTszNUZBtMfS"
      },
      "source": [
        "# Setup"
      ]
    },
    {
      "cell_type": "markdown",
      "metadata": {
        "colab_type": "text",
        "id": "uDN1TG46HOAu"
      },
      "source": [
        "## Make a copy\n",
        "\n",
        "**Follow the following steps to make your own copy. You will lose your changes if you don't make your own copy!**\n",
        "\n",
        "From the tooltip above, you should see \n",
        "\n",
        "File | Edit | View | Insert | Runtime | Tools | Help\n",
        "\n",
        "1. Click on **File**\n",
        "2. Click on **Save a copy in Drive**"
      ]
    },
    {
      "cell_type": "markdown",
      "metadata": {
        "colab_type": "text",
        "id": "5g9LeA0xQx1M"
      },
      "source": [
        "## Import"
      ]
    },
    {
      "cell_type": "markdown",
      "metadata": {
        "colab_type": "text",
        "id": "CFXF94XNQzR1"
      },
      "source": [
        "Let's import the required packages and setup some settings that will help us in this notebook."
      ]
    },
    {
      "cell_type": "code",
      "metadata": {
        "colab_type": "code",
        "id": "KMFBdTxptTYE",
        "colab": {}
      },
      "source": [
        "# import the required packages\n",
        "from fastai.text import *\n",
        "import warnings\n",
        "\n",
        "# ignore Python warnings\n",
        "warnings.filterwarnings(\"ignore\")"
      ],
      "execution_count": null,
      "outputs": []
    },
    {
      "cell_type": "markdown",
      "metadata": {
        "colab_type": "text",
        "id": "tUvrK710tPOt"
      },
      "source": [
        "# Data"
      ]
    },
    {
      "cell_type": "markdown",
      "metadata": {
        "id": "qlxlGS_A-KLr",
        "colab_type": "text"
      },
      "source": [
        "You've probably heard of [IMDb](https://www.imdb.com/), a popular website where people write movie reviews for all kinds of movies. There are almost an infinite number of movie reviews on IMDb. Wouldn't be cool if we could build a model that can find out if a review is positive or negetive? Well, that's exactly what we'll be doing today!\n",
        "\n",
        "This is a great example use case for **Natural Language Processing (NLP)** which is the focus of this workshop."
      ]
    },
    {
      "cell_type": "markdown",
      "metadata": {
        "id": "GxkFsi-tHjvh",
        "colab_type": "text"
      },
      "source": [
        "Today we are going to train a Natural Language Processing Model to **classify IMDb reviews**."
      ]
    },
    {
      "cell_type": "markdown",
      "metadata": {
        "colab_type": "text",
        "id": "bF9_SrvyDD0j"
      },
      "source": [
        "\n",
        "> At the end of this session you will be able to write a movie review and the model will be able to find out whether your movie review is positive or negative.\n"
      ]
    },
    {
      "cell_type": "markdown",
      "metadata": {
        "colab_type": "text",
        "id": "rQ_8gtxtw209"
      },
      "source": [
        "## Looking at data"
      ]
    },
    {
      "cell_type": "markdown",
      "metadata": {
        "colab_type": "text",
        "id": "t-PG4Uy8El3j"
      },
      "source": [
        "First things first. Let's download our dataset and put it to `data` variable.\n",
        "  "
      ]
    },
    {
      "cell_type": "code",
      "metadata": {
        "colab_type": "code",
        "id": "oaWNmL55tQE8",
        "scrolled": false,
        "colab": {
          "base_uri": "https://localhost:8080/",
          "height": 34
        },
        "outputId": "77b0ee30-f826-4523-fc05-c620faa84a79"
      },
      "source": [
        "# Download IMDB dataset\n",
        "path = untar_data(URLs.IMDB_SAMPLE)\n",
        "data = pd.read_csv(path/'texts.csv')"
      ],
      "execution_count": null,
      "outputs": [
        {
          "output_type": "stream",
          "text": [
            "Downloading http://files.fast.ai/data/examples/imdb_sample.tgz\n"
          ],
          "name": "stdout"
        },
        {
          "output_type": "display_data",
          "data": {
            "text/html": [
              ""
            ],
            "text/plain": [
              "<IPython.core.display.HTML object>"
            ]
          },
          "metadata": {
            "tags": []
          }
        }
      ]
    },
    {
      "cell_type": "markdown",
      "metadata": {
        "id": "s1hJufH_Jh2f",
        "colab_type": "text"
      },
      "source": [
        "Here is a sample of our dataset:"
      ]
    },
    {
      "cell_type": "code",
      "metadata": {
        "id": "w-28r8POJuMs",
        "colab_type": "code",
        "colab": {
          "base_uri": "https://localhost:8080/",
          "height": 204
        },
        "outputId": "e53b6027-2c0b-4989-c92a-077bb067c70c"
      },
      "source": [
        "# look at the head of the data\n",
        "data.head()"
      ],
      "execution_count": null,
      "outputs": [
        {
          "output_type": "execute_result",
          "data": {
            "text/html": [
              "<div>\n",
              "<style scoped>\n",
              "    .dataframe tbody tr th:only-of-type {\n",
              "        vertical-align: middle;\n",
              "    }\n",
              "\n",
              "    .dataframe tbody tr th {\n",
              "        vertical-align: top;\n",
              "    }\n",
              "\n",
              "    .dataframe thead th {\n",
              "        text-align: right;\n",
              "    }\n",
              "</style>\n",
              "<table border=\"1\" class=\"dataframe\">\n",
              "  <thead>\n",
              "    <tr style=\"text-align: right;\">\n",
              "      <th></th>\n",
              "      <th>label</th>\n",
              "      <th>text</th>\n",
              "      <th>is_valid</th>\n",
              "    </tr>\n",
              "  </thead>\n",
              "  <tbody>\n",
              "    <tr>\n",
              "      <th>0</th>\n",
              "      <td>negative</td>\n",
              "      <td>Un-bleeping-believable! Meg Ryan doesn't even ...</td>\n",
              "      <td>False</td>\n",
              "    </tr>\n",
              "    <tr>\n",
              "      <th>1</th>\n",
              "      <td>positive</td>\n",
              "      <td>This is a extremely well-made film. The acting...</td>\n",
              "      <td>False</td>\n",
              "    </tr>\n",
              "    <tr>\n",
              "      <th>2</th>\n",
              "      <td>negative</td>\n",
              "      <td>Every once in a long while a movie will come a...</td>\n",
              "      <td>False</td>\n",
              "    </tr>\n",
              "    <tr>\n",
              "      <th>3</th>\n",
              "      <td>positive</td>\n",
              "      <td>Name just says it all. I watched this movie wi...</td>\n",
              "      <td>False</td>\n",
              "    </tr>\n",
              "    <tr>\n",
              "      <th>4</th>\n",
              "      <td>negative</td>\n",
              "      <td>This movie succeeds at being one of the most u...</td>\n",
              "      <td>False</td>\n",
              "    </tr>\n",
              "  </tbody>\n",
              "</table>\n",
              "</div>"
            ],
            "text/plain": [
              "      label                                               text  is_valid\n",
              "0  negative  Un-bleeping-believable! Meg Ryan doesn't even ...     False\n",
              "1  positive  This is a extremely well-made film. The acting...     False\n",
              "2  negative  Every once in a long while a movie will come a...     False\n",
              "3  positive  Name just says it all. I watched this movie wi...     False\n",
              "4  negative  This movie succeeds at being one of the most u...     False"
            ]
          },
          "metadata": {
            "tags": []
          },
          "execution_count": 4
        }
      ]
    },
    {
      "cell_type": "markdown",
      "metadata": {
        "id": "fWGg05_EJ5PL",
        "colab_type": "text"
      },
      "source": [
        "And this is one of those reviews:"
      ]
    },
    {
      "cell_type": "code",
      "metadata": {
        "colab_type": "code",
        "id": "P4bNn7WvxB5K",
        "scrolled": true,
        "colab": {
          "base_uri": "https://localhost:8080/",
          "height": 120
        },
        "outputId": "b55f5ae3-edf0-4e93-dc8c-025c66a39566"
      },
      "source": [
        "# grab the column text of the data\n",
        "data['text'][1]"
      ],
      "execution_count": null,
      "outputs": [
        {
          "output_type": "execute_result",
          "data": {
            "application/vnd.google.colaboratory.intrinsic+json": {
              "type": "string"
            },
            "text/plain": [
              "'This is a extremely well-made film. The acting, script and camera-work are all first-rate. The music is good, too, though it is mostly early in the film, when things are still relatively cheery. There are no really superstars in the cast, though several faces will be familiar. The entire cast does an excellent job with the script.<br /><br />But it is hard to watch, because there is no good end to a situation like the one presented. It is now fashionable to blame the British for setting Hindus and Muslims against each other, and then cruelly separating them into two countries. There is some merit in this view, but it\\'s also true that no one forced Hindus and Muslims in the region to mistreat each other as they did around the time of partition. It seems more likely that the British simply saw the tensions between the religions and were clever enough to exploit them to their own ends.<br /><br />The result is that there is much cruelty and inhumanity in the situation and this is very unpleasant to remember and to see on the screen. But it is never painted as a black-and-white case. There is baseness and nobility on both sides, and also the hope for change in the younger generation.<br /><br />There is redemption of a sort, in the end, when Puro has to make a hard choice between a man who has ruined her life, but also truly loved her, and her family which has disowned her, then later come looking for her. But by that point, she has no option that is without great pain for her.<br /><br />This film carries the message that both Muslims and Hindus have their grave faults, and also that both can be dignified and caring people. The reality of partition makes that realisation all the more wrenching, since there can never be real reconciliation across the India/Pakistan border. In that sense, it is similar to \"Mr & Mrs Iyer\".<br /><br />In the end, we were glad to have seen the film, even though the resolution was heartbreaking. If the UK and US could deal with their own histories of racism with this kind of frankness, they would certainly be better off.'"
            ]
          },
          "metadata": {
            "tags": []
          },
          "execution_count": 5
        }
      ]
    },
    {
      "cell_type": "markdown",
      "metadata": {
        "id": "YtVIE6MCKJaG",
        "colab_type": "text"
      },
      "source": [
        "Let's use the `describe()` method to get an overview of our data grouped by `label`."
      ]
    },
    {
      "cell_type": "code",
      "metadata": {
        "colab_type": "code",
        "id": "DfDrs03BxmIA",
        "scrolled": false,
        "colab": {
          "base_uri": "https://localhost:8080/",
          "height": 173
        },
        "outputId": "7e28145a-2166-433e-9182-ce87710d5122"
      },
      "source": [
        "data.groupby('label').describe()"
      ],
      "execution_count": null,
      "outputs": [
        {
          "output_type": "execute_result",
          "data": {
            "text/html": [
              "<div>\n",
              "<style scoped>\n",
              "    .dataframe tbody tr th:only-of-type {\n",
              "        vertical-align: middle;\n",
              "    }\n",
              "\n",
              "    .dataframe tbody tr th {\n",
              "        vertical-align: top;\n",
              "    }\n",
              "\n",
              "    .dataframe thead tr th {\n",
              "        text-align: left;\n",
              "    }\n",
              "\n",
              "    .dataframe thead tr:last-of-type th {\n",
              "        text-align: right;\n",
              "    }\n",
              "</style>\n",
              "<table border=\"1\" class=\"dataframe\">\n",
              "  <thead>\n",
              "    <tr>\n",
              "      <th></th>\n",
              "      <th colspan=\"4\" halign=\"left\">text</th>\n",
              "      <th colspan=\"4\" halign=\"left\">is_valid</th>\n",
              "    </tr>\n",
              "    <tr>\n",
              "      <th></th>\n",
              "      <th>count</th>\n",
              "      <th>unique</th>\n",
              "      <th>top</th>\n",
              "      <th>freq</th>\n",
              "      <th>count</th>\n",
              "      <th>unique</th>\n",
              "      <th>top</th>\n",
              "      <th>freq</th>\n",
              "    </tr>\n",
              "    <tr>\n",
              "      <th>label</th>\n",
              "      <th></th>\n",
              "      <th></th>\n",
              "      <th></th>\n",
              "      <th></th>\n",
              "      <th></th>\n",
              "      <th></th>\n",
              "      <th></th>\n",
              "      <th></th>\n",
              "    </tr>\n",
              "  </thead>\n",
              "  <tbody>\n",
              "    <tr>\n",
              "      <th>negative</th>\n",
              "      <td>524</td>\n",
              "      <td>524</td>\n",
              "      <td>The story goes something like this: A small-to...</td>\n",
              "      <td>1</td>\n",
              "      <td>524</td>\n",
              "      <td>2</td>\n",
              "      <td>False</td>\n",
              "      <td>417</td>\n",
              "    </tr>\n",
              "    <tr>\n",
              "      <th>positive</th>\n",
              "      <td>476</td>\n",
              "      <td>476</td>\n",
              "      <td>Everyday we can watch a great number of film, ...</td>\n",
              "      <td>1</td>\n",
              "      <td>476</td>\n",
              "      <td>2</td>\n",
              "      <td>False</td>\n",
              "      <td>383</td>\n",
              "    </tr>\n",
              "  </tbody>\n",
              "</table>\n",
              "</div>"
            ],
            "text/plain": [
              "          text         ... is_valid     \n",
              "         count unique  ...      top freq\n",
              "label                  ...              \n",
              "negative   524    524  ...    False  417\n",
              "positive   476    476  ...    False  383\n",
              "\n",
              "[2 rows x 8 columns]"
            ]
          },
          "metadata": {
            "tags": []
          },
          "execution_count": 6
        }
      ]
    },
    {
      "cell_type": "markdown",
      "metadata": {
        "id": "eVOgJIecDmKS",
        "colab_type": "text"
      },
      "source": [
        "---\n",
        "\n",
        "How many positive/negative reviews do we have? \n",
        "\n",
        "---"
      ]
    },
    {
      "cell_type": "markdown",
      "metadata": {
        "id": "69tVQ_lOLpbC",
        "colab_type": "text"
      },
      "source": [
        "\n",
        "##Tokenizing\n",
        "\n"
      ]
    },
    {
      "cell_type": "markdown",
      "metadata": {
        "id": "34SKJJgo0tVu",
        "colab_type": "text"
      },
      "source": [
        "Our dataset looks pretty clean, right? well although it is easy to read for us humans, computers disagree! Why? well, computers can only work with numbers (only 0s and 1s to be more precise). When we were working with `tabular` data you'd remember that we `cateogirized` our data which means we assigned a special number for each category. Here we do the exact same thing! However, because Deep Learning engineers like to give fancy names to everything, it is called **tokenization** in the context of NLP.\n",
        "\n",
        "How does it work you may ask? we go through our entire dataset to find the most common works. Let's say we find the following words to be the most commons ones:\n",
        "\n",
        "* `the` \n",
        "* `is`\n",
        "* `it`\n",
        "* ...\n",
        "\n",
        "Now, we assign a unique number for each word.\n",
        "\n",
        "* `the` -> 1\n",
        "* `is` -> 2\n",
        "* `it` -> 3\n",
        "* ...\n",
        "\n",
        "That's all! easy enough right? \n",
        "\n",
        "Well, given this process is quite manual, `fastai` has been kind enough to build this process right into `TextLMDataBunch` which automatically takes care of the process of `tokinization` process for us. All we have to do is to pass in the csv data to it! \n"
      ]
    },
    {
      "cell_type": "code",
      "metadata": {
        "id": "3JR0FFz8W0Xl",
        "colab_type": "code",
        "colab": {
          "base_uri": "https://localhost:8080/",
          "height": 17
        },
        "outputId": "2df34d7c-a638-4ef5-abd7-d60e18b5c2e8"
      },
      "source": [
        "# create the datataloder from the csv file + tokenization\n",
        "data_lm = TextLMDataBunch.from_csv(path,'texts.csv')"
      ],
      "execution_count": null,
      "outputs": [
        {
          "output_type": "display_data",
          "data": {
            "text/html": [
              ""
            ],
            "text/plain": [
              "<IPython.core.display.HTML object>"
            ]
          },
          "metadata": {
            "tags": []
          }
        },
        {
          "output_type": "display_data",
          "data": {
            "text/html": [
              ""
            ],
            "text/plain": [
              "<IPython.core.display.HTML object>"
            ]
          },
          "metadata": {
            "tags": []
          }
        }
      ]
    },
    {
      "cell_type": "markdown",
      "metadata": {
        "id": "rGjb6505Ja2d",
        "colab_type": "text"
      },
      "source": [
        "Ok, let's have a look at the result."
      ]
    },
    {
      "cell_type": "code",
      "metadata": {
        "id": "G8EYWk5MUqH0",
        "colab_type": "code",
        "colab": {
          "base_uri": "https://localhost:8080/",
          "height": 289
        },
        "outputId": "005e50bd-8e93-4526-cb01-8478c0cdf993"
      },
      "source": [
        "# look at a batch of the data\n",
        "data_lm.show_batch()"
      ],
      "execution_count": null,
      "outputs": [
        {
          "output_type": "display_data",
          "data": {
            "text/html": [
              "<table border=\"1\" class=\"dataframe\">\n",
              "  <thead>\n",
              "    <tr style=\"text-align: right;\">\n",
              "      <th>idx</th>\n",
              "      <th>text</th>\n",
              "    </tr>\n",
              "  </thead>\n",
              "  <tbody>\n",
              "    <tr>\n",
              "      <td>0</td>\n",
              "      <td>got to give . xxmaj mark - xxmaj paul xxmaj xxunk also stars as the mysterious architect . \\n \\n  xxmaj my opinion : xxmaj the xxmaj house xxmaj next xxmaj door works because of xxmaj lara xxmaj flynn xxmaj boyle and the locations ( beautiful house ) and stylish sets . xxmaj boyle is a talented and dynamic actress , not to mention absolutely stunning . xxmaj she</td>\n",
              "    </tr>\n",
              "    <tr>\n",
              "      <td>1</td>\n",
              "      <td>- cu - ler \" incident , the movie began to feel like xxunk , xxunk propaganda . i was looking for something bold . xxmaj actually , i was looking for something that might make me think , but i did n't find it here . xxmaj if you 're looking for mindless entertainment , stop here - it 's good for killing a rainy afternoon . xxmaj but</td>\n",
              "    </tr>\n",
              "    <tr>\n",
              "      <td>2</td>\n",
              "      <td>xxmaj xxunk and xxmaj pumba , the story with xxmaj xxunk and him having trouble sleeping was funny . xxmaj the xxunk bubble , and when xxmaj pumba leaves , the xxunk stop . xxmaj it 's all harmless fun , good for kids and some adults . i think this movie will last for a while because it is rather good for a straight to xxmaj video and xxup</td>\n",
              "    </tr>\n",
              "    <tr>\n",
              "      <td>3</td>\n",
              "      <td>country . xxmaj if you are looking for a good , traditional comedy , then xxmaj george xxmaj lopez is the show for you ! xxmaj the one bad thing is the title . xxmaj george xxmaj lopez ? xxmaj really ? xxmaj imagine the xxmaj fresh xxmaj prince of xxmaj xxunk - xxmaj air being \" xxmaj will xxmaj smith \" . xxmaj c'mon man ! xxmaj but otherwise</td>\n",
              "    </tr>\n",
              "    <tr>\n",
              "      <td>4</td>\n",
              "      <td>storyboard . xxmaj you certainly have the ability and desire - so do n't abuse your talent . xxbos i loved the first \" xxmaj azumi \" movie . i 've seen xxmaj ms. xxmaj ueto in a variety of her xxup tv appearances and i 've seen my fair share of samurai and ninja flicks . i have to say that this movie was much weaker than i 'd</td>\n",
              "    </tr>\n",
              "  </tbody>\n",
              "</table>"
            ],
            "text/plain": [
              "<IPython.core.display.HTML object>"
            ]
          },
          "metadata": {
            "tags": []
          }
        }
      ]
    },
    {
      "cell_type": "markdown",
      "metadata": {
        "id": "WxiTeFoHJioN",
        "colab_type": "text"
      },
      "source": [
        "But wait, I don't see any numbers here? \n",
        "\n",
        "Well, `fastai` is smart enough to convert the numbers back to words so that we can atually read the text. But, trust me, in the background all of these words have been turned into numbers.\n",
        "\n",
        "Just one last thing before we move on:\n",
        "\n",
        "> It's not a great idea to tokenize every single word, since some words are quite unique and don't add much meaning to the sentence. That's why we only tokenize a portion of the most common words. \n",
        "\n"
      ]
    },
    {
      "cell_type": "markdown",
      "metadata": {
        "id": "1tYfvtleKMsU",
        "colab_type": "text"
      },
      "source": [
        "---\n",
        "\n",
        "You might notice words in the batch above that start with `xx...`, what do you think these words represent? (hint, read the above statement)\n",
        "\n",
        "---"
      ]
    },
    {
      "cell_type": "markdown",
      "metadata": {
        "colab_type": "text",
        "id": "LghaC_ybwwUc"
      },
      "source": [
        "# Model"
      ]
    },
    {
      "cell_type": "markdown",
      "metadata": {
        "id": "KLJ6QaL1KqNE",
        "colab_type": "text"
      },
      "source": [
        "Our training process is going to be a 2-step process unlike `tabular` and `image` data that only had one step."
      ]
    },
    {
      "cell_type": "markdown",
      "metadata": {
        "id": "DyVBRrJeNa1q",
        "colab_type": "text"
      },
      "source": [
        "![NLP (2).jpg](data:image/jpeg;base64,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)"
      ]
    },
    {
      "cell_type": "markdown",
      "metadata": {
        "id": "U7cxL5eTNjzJ",
        "colab_type": "text"
      },
      "source": [
        "Here's the process: \n",
        "\n",
        "1. Start with a generic language model that understand English words and grammar\n",
        "2. Fine-tune the language model for our dataset\n",
        "3. Create a classifier for movie reviews"
      ]
    },
    {
      "cell_type": "markdown",
      "metadata": {
        "id": "WwqS6iTNN2h7",
        "colab_type": "text"
      },
      "source": [
        "---\n",
        "\n",
        "Why do you think we need start with a generic langauge model?\n",
        "\n",
        "---"
      ]
    },
    {
      "cell_type": "markdown",
      "metadata": {
        "id": "jARZirV4N6ax",
        "colab_type": "text"
      },
      "source": [
        "You don't have to! but it makes our life a lot easier. Not having a generic language model that understands English is like trying to show movie reviews to someone who doesn't speak English and expect them to differentiate them. You would expect them to first learn English, then the strucutre of movie reviews."
      ]
    },
    {
      "cell_type": "markdown",
      "metadata": {
        "id": "VaRY88EJOSSK",
        "colab_type": "text"
      },
      "source": [
        "The same applies here, we simply do the following:\n",
        "\n",
        "1. Learn English\n",
        "2. Learn how movie reviews are written\n",
        "3. Try to differentaite the positive and negative reviews"
      ]
    },
    {
      "cell_type": "markdown",
      "metadata": {
        "id": "WSfj9rtMOlQr",
        "colab_type": "text"
      },
      "source": [
        "Luckily for us, the generic language model that understands English has been trained by someone else so we simply have to do the following steps:\n",
        "\n",
        "1. **Language Model**: Train our language model on movie reviews\n",
        "2. **Classifier**: Train a classifier to differentiate postive and negative reviews"
      ]
    },
    {
      "cell_type": "markdown",
      "metadata": {
        "id": "AHaSILhRPuKk",
        "colab_type": "text"
      },
      "source": [
        "Ok, now that we know what we're doing, let's start with the Language Model."
      ]
    },
    {
      "cell_type": "markdown",
      "metadata": {
        "id": "wI1bCRmfPypy",
        "colab_type": "text"
      },
      "source": [
        "## Language Model"
      ]
    },
    {
      "cell_type": "markdown",
      "metadata": {
        "colab_type": "text",
        "id": "-wp5iT3NVmLg"
      },
      "source": [
        "Let's create our dataloader first. Note that, we will need two different dataloaders since we are actually training two different models."
      ]
    },
    {
      "cell_type": "code",
      "metadata": {
        "id": "xwf1ZLvBQOZu",
        "colab_type": "code",
        "colab": {
          "base_uri": "https://localhost:8080/",
          "height": 17
        },
        "outputId": "96b88682-d5ed-4c7c-f868-ebe35e9433f1"
      },
      "source": [
        "# create dataloader for language model\n",
        "data_lm = TextLMDataBunch.from_csv(path, 'texts.csv')"
      ],
      "execution_count": null,
      "outputs": [
        {
          "output_type": "display_data",
          "data": {
            "text/html": [
              ""
            ],
            "text/plain": [
              "<IPython.core.display.HTML object>"
            ]
          },
          "metadata": {
            "tags": []
          }
        },
        {
          "output_type": "display_data",
          "data": {
            "text/html": [
              ""
            ],
            "text/plain": [
              "<IPython.core.display.HTML object>"
            ]
          },
          "metadata": {
            "tags": []
          }
        }
      ]
    },
    {
      "cell_type": "markdown",
      "metadata": {
        "id": "WjQ4n4VaQXTK",
        "colab_type": "text"
      },
      "source": [
        "Now we're ready to define our model for fine-tuning our generic language model for the IMDb dataset."
      ]
    },
    {
      "cell_type": "code",
      "metadata": {
        "id": "_1OC99queRBf",
        "colab_type": "code",
        "colab": {
          "base_uri": "https://localhost:8080/",
          "height": 34
        },
        "outputId": "42787a7d-790b-453e-e33c-394e4f4b8329"
      },
      "source": [
        "# create model architecture for language model\n",
        "learn = language_model_learner(data_lm, AWD_LSTM, drop_mult=0.5)"
      ],
      "execution_count": null,
      "outputs": [
        {
          "output_type": "stream",
          "text": [
            "Downloading https://s3.amazonaws.com/fast-ai-modelzoo/wt103-fwd.tgz\n"
          ],
          "name": "stdout"
        },
        {
          "output_type": "display_data",
          "data": {
            "text/html": [
              ""
            ],
            "text/plain": [
              "<IPython.core.display.HTML object>"
            ]
          },
          "metadata": {
            "tags": []
          }
        }
      ]
    },
    {
      "cell_type": "markdown",
      "metadata": {
        "id": "9fOPi5jmQ0uo",
        "colab_type": "text"
      },
      "source": [
        "Advanced side note on the parameters:\n",
        "\n",
        "> * `AWD_LSTM` is the architecture we will be using for training our language model. The details of this architecture is well beyond the scope of this course\n",
        "* `drop_mult` is the rate for dropout. Again this is will beyond the scope of this unit. In practice though, this helps with reducing the chance of overfitting in our model."
      ]
    },
    {
      "cell_type": "markdown",
      "metadata": {
        "id": "MIPMdZ8pizWa",
        "colab_type": "text"
      },
      "source": [
        "Finding a suitable learning rate is very important when it comes to fine-tuning. Here, we are fine-tuning our langauge model. Therefore, we will need to use the `lr_find()` method to find a suitable learning rate for our use case."
      ]
    },
    {
      "cell_type": "code",
      "metadata": {
        "id": "85dGss1W4Jt_",
        "colab_type": "code",
        "colab": {
          "base_uri": "https://localhost:8080/",
          "height": 405
        },
        "outputId": "f78d206d-fa99-473b-bde6-f93b0c82d674"
      },
      "source": [
        "# find an appropriate learning rate\n",
        "learn.lr_find()\n",
        "learn.recorder.plot(skip_end=15)"
      ],
      "execution_count": null,
      "outputs": [
        {
          "output_type": "display_data",
          "data": {
            "text/html": [
              "\n",
              "    <div>\n",
              "        <style>\n",
              "            /* Turns off some styling */\n",
              "            progress {\n",
              "                /* gets rid of default border in Firefox and Opera. */\n",
              "                border: none;\n",
              "                /* Needs to be in here for Safari polyfill so background images work as expected. */\n",
              "                background-size: auto;\n",
              "            }\n",
              "            .progress-bar-interrupted, .progress-bar-interrupted::-webkit-progress-bar {\n",
              "                background: #F44336;\n",
              "            }\n",
              "        </style>\n",
              "      <progress value='1' class='' max='2' style='width:300px; height:20px; vertical-align: middle;'></progress>\n",
              "      50.00% [1/2 00:08<00:08]\n",
              "    </div>\n",
              "    \n",
              "<table border=\"1\" class=\"dataframe\">\n",
              "  <thead>\n",
              "    <tr style=\"text-align: left;\">\n",
              "      <th>epoch</th>\n",
              "      <th>train_loss</th>\n",
              "      <th>valid_loss</th>\n",
              "      <th>accuracy</th>\n",
              "      <th>time</th>\n",
              "    </tr>\n",
              "  </thead>\n",
              "  <tbody>\n",
              "    <tr>\n",
              "      <td>0</td>\n",
              "      <td>4.484319</td>\n",
              "      <td>#na#</td>\n",
              "      <td>00:08</td>\n",
              "    </tr>\n",
              "  </tbody>\n",
              "</table><p>\n",
              "\n",
              "    <div>\n",
              "        <style>\n",
              "            /* Turns off some styling */\n",
              "            progress {\n",
              "                /* gets rid of default border in Firefox and Opera. */\n",
              "                border: none;\n",
              "                /* Needs to be in here for Safari polyfill so background images work as expected. */\n",
              "                background-size: auto;\n",
              "            }\n",
              "            .progress-bar-interrupted, .progress-bar-interrupted::-webkit-progress-bar {\n",
              "                background: #F44336;\n",
              "            }\n",
              "        </style>\n",
              "      <progress value='40' class='' max='59' style='width:300px; height:20px; vertical-align: middle;'></progress>\n",
              "      67.80% [40/59 00:05<00:02 11.3684]\n",
              "    </div>\n",
              "    "
            ],
            "text/plain": [
              "<IPython.core.display.HTML object>"
            ]
          },
          "metadata": {
            "tags": []
          }
        },
        {
          "output_type": "stream",
          "text": [
            "LR Finder is complete, type {learner_name}.recorder.plot() to see the graph.\n"
          ],
          "name": "stdout"
        },
        {
          "output_type": "display_data",
          "data": {
            "image/png": "[encoded data removed]",
            "text/plain": [
              "<Figure size 432x288 with 1 Axes>"
            ]
          },
          "metadata": {
            "tags": [],
            "needs_background": "light"
          }
        }
      ]
    },
    {
      "cell_type": "markdown",
      "metadata": {
        "id": "Ec0Ly-M1cm6D",
        "colab_type": "text"
      },
      "source": [
        "---\n",
        "\n",
        "Do you remember how to use the plot above to choose an appropriate learning rate?\n",
        "\n",
        "---"
      ]
    },
    {
      "cell_type": "code",
      "metadata": {
        "id": "boWvCzcpV726",
        "colab_type": "code",
        "colab": {
          "base_uri": "https://localhost:8080/",
          "height": 80
        },
        "outputId": "37f6df38-aed3-4a71-aa55-c06e7f04c202"
      },
      "source": [
        "# train the language model\n",
        "learn.fit_one_cycle(1, 1e-02)"
      ],
      "execution_count": null,
      "outputs": [
        {
          "output_type": "display_data",
          "data": {
            "text/html": [
              "<table border=\"1\" class=\"dataframe\">\n",
              "  <thead>\n",
              "    <tr style=\"text-align: left;\">\n",
              "      <th>epoch</th>\n",
              "      <th>train_loss</th>\n",
              "      <th>valid_loss</th>\n",
              "      <th>accuracy</th>\n",
              "      <th>time</th>\n",
              "    </tr>\n",
              "  </thead>\n",
              "  <tbody>\n",
              "    <tr>\n",
              "      <td>0</td>\n",
              "      <td>4.341276</td>\n",
              "      <td>3.910723</td>\n",
              "      <td>0.284289</td>\n",
              "      <td>00:09</td>\n",
              "    </tr>\n",
              "  </tbody>\n",
              "</table>"
            ],
            "text/plain": [
              "<IPython.core.display.HTML object>"
            ]
          },
          "metadata": {
            "tags": []
          }
        }
      ]
    },
    {
      "cell_type": "markdown",
      "metadata": {
        "id": "73EPMEHFxwZx",
        "colab_type": "text"
      },
      "source": [
        "You might notice we only trained our model for one epoch. It's probably a good idea to train it for a few more epochs but we will skip that for now in the interest of time."
      ]
    },
    {
      "cell_type": "markdown",
      "metadata": {
        "id": "0fF8B1Moc9DW",
        "colab_type": "text"
      },
      "source": [
        "Lastly, we will save our language model to be used for the classifer in the next section."
      ]
    },
    {
      "cell_type": "code",
      "metadata": {
        "id": "6nipV0LKe4pn",
        "colab_type": "code",
        "colab": {}
      },
      "source": [
        "# save the language model\n",
        "learn.save_encoder('language_model')"
      ],
      "execution_count": null,
      "outputs": []
    },
    {
      "cell_type": "markdown",
      "metadata": {
        "colab_type": "text",
        "id": "ekXjpr4V883a"
      },
      "source": [
        "## Classifier"
      ]
    },
    {
      "cell_type": "markdown",
      "metadata": {
        "colab_type": "text",
        "id": "UAOH_jTUVmLi"
      },
      "source": [
        "Great so we've just finished training our language model on a generic language model\n",
        "\n",
        "* [x] **Language Model**: Train our language model on movie reviews\n",
        "* [ ] **Classifier**: Train a classifier to differentiate postive and negative reviews"
      ]
    },
    {
      "cell_type": "markdown",
      "metadata": {
        "id": "ykrmp-0-d5Nr",
        "colab_type": "text"
      },
      "source": [
        "It's time to train our **classifier**!"
      ]
    },
    {
      "cell_type": "markdown",
      "metadata": {
        "id": "DydU4jRBd_M_",
        "colab_type": "text"
      },
      "source": [
        "We need to find our dataloader for our classifier first."
      ]
    },
    {
      "cell_type": "code",
      "metadata": {
        "id": "ivIX_QkdRuQ5",
        "colab_type": "code",
        "colab": {
          "base_uri": "https://localhost:8080/",
          "height": 17
        },
        "outputId": "1879d34e-51ee-42de-b3ca-bc2df52a0761"
      },
      "source": [
        "# create dataloader for classifier \n",
        "data_clas = TextClasDataBunch.from_csv(path,         # path to dataset\n",
        "                                       'texts.csv',  # path to csv \n",
        "                                       vocab=data_lm.train_ds.vocab, # tokenizer vocab \n",
        "                                       bs=32)        # batch size"
      ],
      "execution_count": null,
      "outputs": [
        {
          "output_type": "display_data",
          "data": {
            "text/html": [
              ""
            ],
            "text/plain": [
              "<IPython.core.display.HTML object>"
            ]
          },
          "metadata": {
            "tags": []
          }
        },
        {
          "output_type": "display_data",
          "data": {
            "text/html": [
              ""
            ],
            "text/plain": [
              "<IPython.core.display.HTML object>"
            ]
          },
          "metadata": {
            "tags": []
          }
        }
      ]
    },
    {
      "cell_type": "markdown",
      "metadata": {
        "id": "RaFdRXrlespN",
        "colab_type": "text"
      },
      "source": [
        "Advanced side note on `vocab`:\n",
        "\n",
        "> remember *tokenization*? well, when you assign a unique number (token) to each word, it gets added to your **vocabulary**. We will need to use the same vocabulary for our classifier's dataloader. "
      ]
    },
    {
      "cell_type": "markdown",
      "metadata": {
        "id": "zZyM5UCnfoY9",
        "colab_type": "text"
      },
      "source": [
        "As always, let's view a batch of the data to make sure everything looks good."
      ]
    },
    {
      "cell_type": "code",
      "metadata": {
        "id": "XawfPy7_fVVi",
        "colab_type": "code",
        "colab": {
          "base_uri": "https://localhost:8080/",
          "height": 289
        },
        "outputId": "a8d7bb93-ab4e-4c22-f1be-705e2bc48f68"
      },
      "source": [
        "# view a batch of the data\n",
        "data_clas.show_batch()"
      ],
      "execution_count": null,
      "outputs": [
        {
          "output_type": "display_data",
          "data": {
            "text/html": [
              "<table border=\"1\" class=\"dataframe\">\n",
              "  <thead>\n",
              "    <tr style=\"text-align: right;\">\n",
              "      <th>text</th>\n",
              "      <th>target</th>\n",
              "    </tr>\n",
              "  </thead>\n",
              "  <tbody>\n",
              "    <tr>\n",
              "      <td>xxbos xxmaj raising xxmaj victor xxmaj vargas : a xxmaj review \\n \\n  xxmaj you know , xxmaj raising xxmaj victor xxmaj vargas is like sticking your hands into a big , steaming bowl of xxunk . xxmaj it 's warm and gooey , but you 're not sure if it feels right . xxmaj try as i might , no matter how warm and gooey xxmaj raising xxmaj</td>\n",
              "      <td>negative</td>\n",
              "    </tr>\n",
              "    <tr>\n",
              "      <td>xxbos xxup the xxup shop xxup around xxup the xxup corner is one of the xxunk and most feel - good romantic comedies ever made . xxmaj there 's just no getting around that , and it 's hard to actually put one 's feeling for this film into words . xxmaj it 's not one of those films that tries too hard , nor does it come up with</td>\n",
              "      <td>positive</td>\n",
              "    </tr>\n",
              "    <tr>\n",
              "      <td>xxbos xxmaj now that xxmaj che(2008 ) has finished its relatively short xxmaj australian cinema run ( extremely limited xxunk screen in xxmaj sydney , after xxunk ) , i can xxunk join both xxunk of \" xxmaj at xxmaj the xxmaj movies \" in taking xxmaj steven xxmaj soderbergh to task . \\n \\n  xxmaj it 's usually satisfying to watch a film director change his style /</td>\n",
              "      <td>negative</td>\n",
              "    </tr>\n",
              "    <tr>\n",
              "      <td>xxbos xxmaj this film sat on my xxmaj tivo for weeks before i watched it . i dreaded a self - indulgent xxunk flick about relationships gone bad . i was wrong ; this was an xxunk xxunk into the screwed - up xxunk of xxmaj new xxmaj yorkers . \\n \\n  xxmaj the format is the same as xxmaj max xxmaj xxunk ' \" xxmaj la xxmaj ronde</td>\n",
              "      <td>positive</td>\n",
              "    </tr>\n",
              "    <tr>\n",
              "      <td>xxbos xxmaj many neglect that this is n't just a classic due to the fact that it 's the first xxup 3d game , or even the first xxunk - up . xxmaj it 's also one of the first stealth games , one of the xxunk definitely the first ) truly claustrophobic games , and just a pretty well - rounded gaming experience in general . xxmaj with graphics</td>\n",
              "      <td>positive</td>\n",
              "    </tr>\n",
              "  </tbody>\n",
              "</table>"
            ],
            "text/plain": [
              "<IPython.core.display.HTML object>"
            ]
          },
          "metadata": {
            "tags": []
          }
        }
      ]
    },
    {
      "cell_type": "markdown",
      "metadata": {
        "id": "aCO2OVJffxuj",
        "colab_type": "text"
      },
      "source": [
        "--- \n",
        "\n",
        "Do you notice any differences between the output of `data_clas.show_batch()` and `data_lm.show_batch()`. Why do you think that is?\n",
        "\n",
        "---"
      ]
    },
    {
      "cell_type": "markdown",
      "metadata": {
        "id": "tvWcrjsjf7IX",
        "colab_type": "text"
      },
      "source": [
        "Awesome, finally we're at the point where we can train our classifier."
      ]
    },
    {
      "cell_type": "code",
      "metadata": {
        "id": "Oe5X_rCofOk5",
        "colab_type": "code",
        "colab": {}
      },
      "source": [
        "# create model architecture for classifier\n",
        "learn = text_classifier_learner(data_clas, AWD_LSTM, drop_mult=0.5)\n",
        "\n",
        "# load our language model from the previous section\n",
        "learn.load_encoder('language_model');"
      ],
      "execution_count": null,
      "outputs": []
    },
    {
      "cell_type": "markdown",
      "metadata": {
        "id": "7VOkuIJ-gWgY",
        "colab_type": "text"
      },
      "source": [
        "Looking good! now, we're read to train our classifier."
      ]
    },
    {
      "cell_type": "code",
      "metadata": {
        "colab_type": "code",
        "id": "FIh-ak8HvCYb",
        "colab": {
          "base_uri": "https://localhost:8080/",
          "height": 173
        },
        "outputId": "dc7b2433-afa9-44ab-e3ff-23d9d9cfa88f"
      },
      "source": [
        "# train the classifier\n",
        "learn.fit_one_cycle(4, 2e-2)"
      ],
      "execution_count": null,
      "outputs": [
        {
          "output_type": "display_data",
          "data": {
            "text/html": [
              "<table border=\"1\" class=\"dataframe\">\n",
              "  <thead>\n",
              "    <tr style=\"text-align: left;\">\n",
              "      <th>epoch</th>\n",
              "      <th>train_loss</th>\n",
              "      <th>valid_loss</th>\n",
              "      <th>accuracy</th>\n",
              "      <th>time</th>\n",
              "    </tr>\n",
              "  </thead>\n",
              "  <tbody>\n",
              "    <tr>\n",
              "      <td>0</td>\n",
              "      <td>0.628219</td>\n",
              "      <td>0.607672</td>\n",
              "      <td>0.626866</td>\n",
              "      <td>00:06</td>\n",
              "    </tr>\n",
              "    <tr>\n",
              "      <td>1</td>\n",
              "      <td>0.562227</td>\n",
              "      <td>0.610556</td>\n",
              "      <td>0.691542</td>\n",
              "      <td>00:06</td>\n",
              "    </tr>\n",
              "    <tr>\n",
              "      <td>2</td>\n",
              "      <td>0.502564</td>\n",
              "      <td>0.770984</td>\n",
              "      <td>0.711443</td>\n",
              "      <td>00:06</td>\n",
              "    </tr>\n",
              "    <tr>\n",
              "      <td>3</td>\n",
              "      <td>0.459810</td>\n",
              "      <td>0.680205</td>\n",
              "      <td>0.731343</td>\n",
              "      <td>00:06</td>\n",
              "    </tr>\n",
              "  </tbody>\n",
              "</table>"
            ],
            "text/plain": [
              "<IPython.core.display.HTML object>"
            ]
          },
          "metadata": {
            "tags": []
          }
        }
      ]
    },
    {
      "cell_type": "markdown",
      "metadata": {
        "id": "C1hyEvqFghrF",
        "colab_type": "text"
      },
      "source": [
        "Ok, remember previously we used to `unfreeze()` the entire model? so that we can fine-tune the entire model? well, here we will do something slightly different. \n",
        "\n",
        "Instead of unfreezing the entire model, we will only unfreeze the last few layers. This will help us fine-tune parts of the model while keeping our precious language model untouched. More details reasons as to why we did this is beyond the scope of this course :("
      ]
    },
    {
      "cell_type": "code",
      "metadata": {
        "colab_type": "code",
        "id": "Vy3Ay2y8yDB-",
        "colab": {
          "base_uri": "https://localhost:8080/",
          "height": 80
        },
        "outputId": "bf476259-4762-4dd0-8a16-dfcec725e0ad"
      },
      "source": [
        "# unfreeze the last two layers only\n",
        "learn.freeze_to(-2)\n",
        "\n",
        "# train the model on the last two layers\n",
        "learn.fit_one_cycle(1, slice(1e-2/(2.6**4),1e-2))"
      ],
      "execution_count": null,
      "outputs": [
        {
          "output_type": "display_data",
          "data": {
            "text/html": [
              "<table border=\"1\" class=\"dataframe\">\n",
              "  <thead>\n",
              "    <tr style=\"text-align: left;\">\n",
              "      <th>epoch</th>\n",
              "      <th>train_loss</th>\n",
              "      <th>valid_loss</th>\n",
              "      <th>accuracy</th>\n",
              "      <th>time</th>\n",
              "    </tr>\n",
              "  </thead>\n",
              "  <tbody>\n",
              "    <tr>\n",
              "      <td>0</td>\n",
              "      <td>0.523859</td>\n",
              "      <td>0.506364</td>\n",
              "      <td>0.741294</td>\n",
              "      <td>00:08</td>\n",
              "    </tr>\n",
              "  </tbody>\n",
              "</table>"
            ],
            "text/plain": [
              "<IPython.core.display.HTML object>"
            ]
          },
          "metadata": {
            "tags": []
          }
        }
      ]
    },
    {
      "cell_type": "markdown",
      "metadata": {
        "id": "RTg4xk01hMQQ",
        "colab_type": "text"
      },
      "source": [
        "Advanced side note on `learning rate`\n",
        "\n",
        "> here we chose a **discriminatory learning rate**. Meaning a different learning rate will be used for the first layers vs. the last layers of the model. That is what `slice` is donig here. This means (LR = learning rate):\n",
        "* `slice(LR for the first layers, LR for the last layers)`\n",
        "* The numbers chosen here can be found using the same `learn.lr_find()` as we've been using previously"
      ]
    },
    {
      "cell_type": "markdown",
      "metadata": {
        "colab_type": "text",
        "id": "h6jua1rO8_2t"
      },
      "source": [
        "## Testing"
      ]
    },
    {
      "cell_type": "markdown",
      "metadata": {
        "id": "ga7jZraYhlFV",
        "colab_type": "text"
      },
      "source": [
        "Now is your chance to test how our model is performing! We'e made a simple `predict()` function here that outputs: \n",
        "\n",
        "* Positive -> model classified the review as positive\n",
        "* Negative -> model classified the review as negative"
      ]
    },
    {
      "cell_type": "code",
      "metadata": {
        "id": "2joKzzdyyEWA",
        "colab_type": "code",
        "colab": {}
      },
      "source": [
        "def predict(sentence) :\n",
        "  if learn.predict(sentence)[0]==tensor(0):\n",
        "    print(\"Negetive\")\n",
        "  elif learn.predict(sentence)[0]==tensor(1):\n",
        "    print(\"Positive\")\n"
      ],
      "execution_count": null,
      "outputs": []
    },
    {
      "cell_type": "markdown",
      "metadata": {
        "id": "2o6oHws4i00E",
        "colab_type": "text"
      },
      "source": [
        "Go on, try your own sentence! "
      ]
    },
    {
      "cell_type": "code",
      "metadata": {
        "id": "SNzyu-7ivqfj",
        "colab_type": "code",
        "colab": {
          "base_uri": "https://localhost:8080/",
          "height": 34
        },
        "outputId": "a66b462e-c0c1-48f1-b2d4-6d78269d549a"
      },
      "source": [
        "predict(\"I love this movie!\")"
      ],
      "execution_count": null,
      "outputs": [
        {
          "output_type": "stream",
          "text": [
            "Positive\n"
          ],
          "name": "stdout"
        }
      ]
    },
    {
      "cell_type": "markdown",
      "metadata": {
        "id": "oiP0Eum3i3Pe",
        "colab_type": "text"
      },
      "source": [
        "Ok this is not bad, but we can improve our model by further fine-tuning it in the next section."
      ]
    },
    {
      "cell_type": "markdown",
      "metadata": {
        "id": "DCUZTqL64atX",
        "colab_type": "text"
      },
      "source": [
        "##Fine Tuning"
      ]
    },
    {
      "cell_type": "markdown",
      "metadata": {
        "id": "ZMG20bAKjn48",
        "colab_type": "text"
      },
      "source": [
        "Ok so let's just recap what we've been doing so far: \n",
        "\n",
        "* [x] **Language Model**: Train our language model on movie reviews\n",
        "* [x] **Classifier**: Train a classifier to differentiate postive and negative reviews\n",
        "\n",
        "The steps are actually done! but we've only trained our last few layers of our model. We can fine-tune the entire architecture of our model to hopefully get a better accuracy."
      ]
    },
    {
      "cell_type": "markdown",
      "metadata": {
        "id": "UuNCExwIjqHy",
        "colab_type": "text"
      },
      "source": [
        "As usual, for fine-tuning we need to figure out what learning rate we need. Let's use our friend `lr_finder()` to help us with this decision."
      ]
    },
    {
      "cell_type": "code",
      "metadata": {
        "id": "0nMzItREj0np",
        "colab_type": "code",
        "colab": {
          "base_uri": "https://localhost:8080/",
          "height": 498
        },
        "outputId": "6a533dac-c192-46bc-de71-376f641c3623"
      },
      "source": [
        "# find an appropriate learning rate\n",
        "learn.lr_find()\n",
        "learn.recorder.plot(skip_end=15)"
      ],
      "execution_count": null,
      "outputs": [
        {
          "output_type": "display_data",
          "data": {
            "text/html": [
              "\n",
              "    <div>\n",
              "        <style>\n",
              "            /* Turns off some styling */\n",
              "            progress {\n",
              "                /* gets rid of default border in Firefox and Opera. */\n",
              "                border: none;\n",
              "                /* Needs to be in here for Safari polyfill so background images work as expected. */\n",
              "                background-size: auto;\n",
              "            }\n",
              "            .progress-bar-interrupted, .progress-bar-interrupted::-webkit-progress-bar {\n",
              "                background: #F44336;\n",
              "            }\n",
              "        </style>\n",
              "      <progress value='4' class='' max='5' style='width:300px; height:20px; vertical-align: middle;'></progress>\n",
              "      80.00% [4/5 00:24<00:06]\n",
              "    </div>\n",
              "    \n",
              "<table border=\"1\" class=\"dataframe\">\n",
              "  <thead>\n",
              "    <tr style=\"text-align: left;\">\n",
              "      <th>epoch</th>\n",
              "      <th>train_loss</th>\n",
              "      <th>valid_loss</th>\n",
              "      <th>accuracy</th>\n",
              "      <th>time</th>\n",
              "    </tr>\n",
              "  </thead>\n",
              "  <tbody>\n",
              "    <tr>\n",
              "      <td>0</td>\n",
              "      <td>0.427100</td>\n",
              "      <td>#na#</td>\n",
              "      <td>00:05</td>\n",
              "    </tr>\n",
              "    <tr>\n",
              "      <td>1</td>\n",
              "      <td>0.450490</td>\n",
              "      <td>#na#</td>\n",
              "      <td>00:06</td>\n",
              "    </tr>\n",
              "    <tr>\n",
              "      <td>2</td>\n",
              "      <td>0.456258</td>\n",
              "      <td>#na#</td>\n",
              "      <td>00:06</td>\n",
              "    </tr>\n",
              "    <tr>\n",
              "      <td>3</td>\n",
              "      <td>1.423431</td>\n",
              "      <td>#na#</td>\n",
              "      <td>00:05</td>\n",
              "    </tr>\n",
              "  </tbody>\n",
              "</table><p>\n",
              "\n",
              "    <div>\n",
              "        <style>\n",
              "            /* Turns off some styling */\n",
              "            progress {\n",
              "                /* gets rid of default border in Firefox and Opera. */\n",
              "                border: none;\n",
              "                /* Needs to be in here for Safari polyfill so background images work as expected. */\n",
              "                background-size: auto;\n",
              "            }\n",
              "            .progress-bar-interrupted, .progress-bar-interrupted::-webkit-progress-bar {\n",
              "                background: #F44336;\n",
              "            }\n",
              "        </style>\n",
              "      <progress value='0' class='' max='24' style='width:300px; height:20px; vertical-align: middle;'></progress>\n",
              "      0.00% [0/24 00:00<00:00]\n",
              "    </div>\n",
              "    "
            ],
            "text/plain": [
              "<IPython.core.display.HTML object>"
            ]
          },
          "metadata": {
            "tags": []
          }
        },
        {
          "output_type": "stream",
          "text": [
            "LR Finder is complete, type {learner_name}.recorder.plot() to see the graph.\n"
          ],
          "name": "stdout"
        },
        {
          "output_type": "display_data",
          "data": {
            "image/png": "[encoded data removed]",
            "text/plain": [
              "<Figure size 432x288 with 1 Axes>"
            ]
          },
          "metadata": {
            "tags": [],
            "needs_background": "light"
          }
        }
      ]
    },
    {
      "cell_type": "markdown",
      "metadata": {
        "id": "_ENQaIf5j9ca",
        "colab_type": "text"
      },
      "source": [
        "You'd want to spot the point where there is a steep drop before the exponential increase at the end. Here, `1e-3` seems to be a good number. \n",
        "\n",
        "We can follow the template below to figure out our `slice()` parameters.\n",
        "\n",
        "> `slice(LR/(2.6**4), LR)`"
      ]
    },
    {
      "cell_type": "markdown",
      "metadata": {
        "id": "vbBtlu1bkWMz",
        "colab_type": "text"
      },
      "source": [
        "This is just a practical template that works and the reasonining behind the magic number of `2.6**4` is beyond the scope of this course."
      ]
    },
    {
      "cell_type": "code",
      "metadata": {
        "id": "r8vA3nrIfpE4",
        "colab_type": "code",
        "colab": {
          "base_uri": "https://localhost:8080/",
          "height": 359
        },
        "outputId": "33ba1b36-e812-4bcf-fed4-0cfdbea7efbb"
      },
      "source": [
        "# unfreeze the entire model\n",
        "learn.unfreeze()\n",
        "\n",
        "# start fine-tuning\n",
        "learn.fit_one_cycle(10, slice(1e-3/(2.6**4),1e-3))"
      ],
      "execution_count": null,
      "outputs": [
        {
          "output_type": "display_data",
          "data": {
            "text/html": [
              "<table border=\"1\" class=\"dataframe\">\n",
              "  <thead>\n",
              "    <tr style=\"text-align: left;\">\n",
              "      <th>epoch</th>\n",
              "      <th>train_loss</th>\n",
              "      <th>valid_loss</th>\n",
              "      <th>accuracy</th>\n",
              "      <th>time</th>\n",
              "    </tr>\n",
              "  </thead>\n",
              "  <tbody>\n",
              "    <tr>\n",
              "      <td>0</td>\n",
              "      <td>0.454072</td>\n",
              "      <td>0.553535</td>\n",
              "      <td>0.741294</td>\n",
              "      <td>00:14</td>\n",
              "    </tr>\n",
              "    <tr>\n",
              "      <td>1</td>\n",
              "      <td>0.416696</td>\n",
              "      <td>0.504356</td>\n",
              "      <td>0.756219</td>\n",
              "      <td>00:13</td>\n",
              "    </tr>\n",
              "    <tr>\n",
              "      <td>2</td>\n",
              "      <td>0.365860</td>\n",
              "      <td>0.509058</td>\n",
              "      <td>0.781095</td>\n",
              "      <td>00:15</td>\n",
              "    </tr>\n",
              "    <tr>\n",
              "      <td>3</td>\n",
              "      <td>0.352765</td>\n",
              "      <td>0.507131</td>\n",
              "      <td>0.810945</td>\n",
              "      <td>00:16</td>\n",
              "    </tr>\n",
              "    <tr>\n",
              "      <td>4</td>\n",
              "      <td>0.306557</td>\n",
              "      <td>0.416862</td>\n",
              "      <td>0.800995</td>\n",
              "      <td>00:14</td>\n",
              "    </tr>\n",
              "    <tr>\n",
              "      <td>5</td>\n",
              "      <td>0.275904</td>\n",
              "      <td>0.458308</td>\n",
              "      <td>0.815920</td>\n",
              "      <td>00:17</td>\n",
              "    </tr>\n",
              "    <tr>\n",
              "      <td>6</td>\n",
              "      <td>0.240412</td>\n",
              "      <td>0.446390</td>\n",
              "      <td>0.810945</td>\n",
              "      <td>00:14</td>\n",
              "    </tr>\n",
              "    <tr>\n",
              "      <td>7</td>\n",
              "      <td>0.213938</td>\n",
              "      <td>0.470843</td>\n",
              "      <td>0.805970</td>\n",
              "      <td>00:14</td>\n",
              "    </tr>\n",
              "    <tr>\n",
              "      <td>8</td>\n",
              "      <td>0.207015</td>\n",
              "      <td>0.508889</td>\n",
              "      <td>0.810945</td>\n",
              "      <td>00:17</td>\n",
              "    </tr>\n",
              "    <tr>\n",
              "      <td>9</td>\n",
              "      <td>0.190789</td>\n",
              "      <td>0.499546</td>\n",
              "      <td>0.805970</td>\n",
              "      <td>00:16</td>\n",
              "    </tr>\n",
              "  </tbody>\n",
              "</table>"
            ],
            "text/plain": [
              "<IPython.core.display.HTML object>"
            ]
          },
          "metadata": {
            "tags": []
          }
        }
      ]
    },
    {
      "cell_type": "markdown",
      "metadata": {
        "id": "49lWmzjFkgaE",
        "colab_type": "text"
      },
      "source": [
        "---\n",
        "\n",
        "Again, let's test our model! Choose your own sentences. Try some tricky ones to see how your model performs. You can always continue training the model to get better accuracy. \n",
        "\n",
        "---"
      ]
    },
    {
      "cell_type": "code",
      "metadata": {
        "id": "2DXA7ZZqcixe",
        "colab_type": "code",
        "colab": {
          "base_uri": "https://localhost:8080/",
          "height": 34
        },
        "outputId": "cdb6be92-7623-4668-c5da-a804715856fe"
      },
      "source": [
        "predict(\"The worst I have ever seen!\")"
      ],
      "execution_count": null,
      "outputs": [
        {
          "output_type": "stream",
          "text": [
            "Negetive\n"
          ],
          "name": "stdout"
        }
      ]
    },
    {
      "cell_type": "markdown",
      "metadata": {
        "colab_type": "text",
        "id": "URivN3ZlRXLw"
      },
      "source": [
        "# Your turn!"
      ]
    },
    {
      "cell_type": "markdown",
      "metadata": {
        "id": "AVpYHF6VTl1B",
        "colab_type": "text"
      },
      "source": [
        "## Setup"
      ]
    },
    {
      "cell_type": "markdown",
      "metadata": {
        "id": "u0PEcDdySClM",
        "colab_type": "text"
      },
      "source": [
        "It's your turn now to play around with your dataset! Here we will be working with a subset of reviews from [Yelp](https://www.yelp.com/). The structure of the data is very similar to the IMDb dataset which we looked at previously.\n",
        "\n",
        "Let's explore the data"
      ]
    },
    {
      "cell_type": "code",
      "metadata": {
        "id": "Jr5ghweSS4Js",
        "colab_type": "code",
        "colab": {
          "base_uri": "https://localhost:8080/",
          "height": 85
        },
        "outputId": "0478631c-5dcf-477b-a074-beb599d78a97"
      },
      "source": [
        "# download and unzip the dataset\n",
        "path = untar_data(URLs.YELP_REVIEWS_POLARITY)\n",
        "\n",
        "# look at the path structure\n",
        "path.ls()"
      ],
      "execution_count": null,
      "outputs": [
        {
          "output_type": "stream",
          "text": [
            "Downloading https://s3.amazonaws.com/fast-ai-nlp/yelp_review_polarity_csv.tgz\n"
          ],
          "name": "stdout"
        },
        {
          "output_type": "display_data",
          "data": {
            "text/html": [
              ""
            ],
            "text/plain": [
              "<IPython.core.display.HTML object>"
            ]
          },
          "metadata": {
            "tags": []
          }
        },
        {
          "output_type": "execute_result",
          "data": {
            "text/plain": [
              "[PosixPath('/root/.fastai/data/yelp_review_polarity_csv/readme.txt'),\n",
              " PosixPath('/root/.fastai/data/yelp_review_polarity_csv/train.csv'),\n",
              " PosixPath('/root/.fastai/data/yelp_review_polarity_csv/test.csv')]"
            ]
          },
          "metadata": {
            "tags": []
          },
          "execution_count": 4
        }
      ]
    },
    {
      "cell_type": "code",
      "metadata": {
        "id": "bN3ru6O9WO6w",
        "colab_type": "code",
        "colab": {}
      },
      "source": [
        "# read the train.csv file\n",
        "data = pd.read_csv(path/'train.csv', header=None)"
      ],
      "execution_count": null,
      "outputs": []
    },
    {
      "cell_type": "code",
      "metadata": {
        "id": "N0ugjc_xWOu6",
        "colab_type": "code",
        "colab": {
          "base_uri": "https://localhost:8080/",
          "height": 204
        },
        "outputId": "02985771-9961-4b9d-815a-af683ca6ef4c"
      },
      "source": [
        "# print the .head of the data\n",
        "### YOUR CODE HERE\n",
        "data.head()"
      ],
      "execution_count": null,
      "outputs": [
        {
          "output_type": "execute_result",
          "data": {
            "text/html": [
              "<div>\n",
              "<style scoped>\n",
              "    .dataframe tbody tr th:only-of-type {\n",
              "        vertical-align: middle;\n",
              "    }\n",
              "\n",
              "    .dataframe tbody tr th {\n",
              "        vertical-align: top;\n",
              "    }\n",
              "\n",
              "    .dataframe thead th {\n",
              "        text-align: right;\n",
              "    }\n",
              "</style>\n",
              "<table border=\"1\" class=\"dataframe\">\n",
              "  <thead>\n",
              "    <tr style=\"text-align: right;\">\n",
              "      <th></th>\n",
              "      <th>0</th>\n",
              "      <th>1</th>\n",
              "    </tr>\n",
              "  </thead>\n",
              "  <tbody>\n",
              "    <tr>\n",
              "      <th>0</th>\n",
              "      <td>1</td>\n",
              "      <td>Unfortunately, the frustration of being Dr. Go...</td>\n",
              "    </tr>\n",
              "    <tr>\n",
              "      <th>1</th>\n",
              "      <td>2</td>\n",
              "      <td>Been going to Dr. Goldberg for over 10 years. ...</td>\n",
              "    </tr>\n",
              "    <tr>\n",
              "      <th>2</th>\n",
              "      <td>1</td>\n",
              "      <td>I don't know what Dr. Goldberg was like before...</td>\n",
              "    </tr>\n",
              "    <tr>\n",
              "      <th>3</th>\n",
              "      <td>1</td>\n",
              "      <td>I'm writing this review to give you a heads up...</td>\n",
              "    </tr>\n",
              "    <tr>\n",
              "      <th>4</th>\n",
              "      <td>2</td>\n",
              "      <td>All the food is great here. But the best thing...</td>\n",
              "    </tr>\n",
              "  </tbody>\n",
              "</table>\n",
              "</div>"
            ],
            "text/plain": [
              "   0                                                  1\n",
              "0  1  Unfortunately, the frustration of being Dr. Go...\n",
              "1  2  Been going to Dr. Goldberg for over 10 years. ...\n",
              "2  1  I don't know what Dr. Goldberg was like before...\n",
              "3  1  I'm writing this review to give you a heads up...\n",
              "4  2  All the food is great here. But the best thing..."
            ]
          },
          "metadata": {
            "tags": []
          },
          "execution_count": 8
        }
      ]
    },
    {
      "cell_type": "code",
      "metadata": {
        "id": "VUE7PBTZwH3_",
        "colab_type": "code",
        "colab": {}
      },
      "source": [
        "# group by column 0 and count the number of each label\n",
        "## YOUR CODE HERE\n",
        "data.groupby(0).describe()"
      ],
      "execution_count": null,
      "outputs": []
    },
    {
      "cell_type": "markdown",
      "metadata": {
        "id": "B8ceKQx9T97z",
        "colab_type": "text"
      },
      "source": [
        "## Data"
      ]
    },
    {
      "cell_type": "markdown",
      "metadata": {
        "id": "P5AYbRoTwT6z",
        "colab_type": "text"
      },
      "source": [
        "Since the original dataset is too large, we will select the first 10,000 rows of it. Otherwise it will take a couple of hours to train everything! \n",
        "\n",
        "But you should also try training the model using the entire dataset after this workshop and compare the performance."
      ]
    },
    {
      "cell_type": "code",
      "metadata": {
        "id": "EF4zjaElpwWH",
        "colab_type": "code",
        "colab": {}
      },
      "source": [
        "# reduce the original dataset\n",
        "data = data[:10000]"
      ],
      "execution_count": null,
      "outputs": []
    },
    {
      "cell_type": "markdown",
      "metadata": {
        "id": "JQGSWZzVwurz",
        "colab_type": "text"
      },
      "source": [
        "Define the test and training set. We will need to do this for this dataset manually as it has not been done for us."
      ]
    },
    {
      "cell_type": "code",
      "metadata": {
        "id": "R8wPKsGOoJNC",
        "colab_type": "code",
        "colab": {
          "base_uri": "https://localhost:8080/",
          "height": 51
        },
        "outputId": "4c813a5f-0fb6-4fbd-e198-f8b9d9af167c"
      },
      "source": [
        "# train/valid split ratio\n",
        "split = int(0.8*len(data))\n",
        "\n",
        "train_df = data[:split].copy()\n",
        "valid_df = data[split:].copy()\n",
        "\n",
        "print('Training data length:', len(train_df))\n",
        "print('Validation data length:', len(valid_df))"
      ],
      "execution_count": null,
      "outputs": [
        {
          "output_type": "stream",
          "text": [
            "Training data length: 8000\n",
            "Validation data length: 2000\n"
          ],
          "name": "stdout"
        }
      ]
    },
    {
      "cell_type": "markdown",
      "metadata": {
        "id": "4ruAZIQJqt8g",
        "colab_type": "text"
      },
      "source": [
        "### Language Model dataloader"
      ]
    },
    {
      "cell_type": "markdown",
      "metadata": {
        "id": "aO0pRTC4wog5",
        "colab_type": "text"
      },
      "source": [
        "Let's setup our Language Model dataset for training the Language Model."
      ]
    },
    {
      "cell_type": "code",
      "metadata": {
        "id": "jJgoANIXUDPE",
        "colab_type": "code",
        "colab": {
          "base_uri": "https://localhost:8080/",
          "height": 17
        },
        "outputId": "571b76c0-02d5-415e-fd1c-9100a4bfea3c"
      },
      "source": [
        "# Language model data\n",
        "data_lm = TextLMDataBunch.from_df(path, \n",
        "                                  train_df,     # training dataframe\n",
        "                                  valid_df,     # validation dataframe\n",
        "                                  text_cols=1,  # columns to learn from\n",
        "                                  label_cols=0) # column for label"
      ],
      "execution_count": null,
      "outputs": [
        {
          "output_type": "display_data",
          "data": {
            "text/html": [
              ""
            ],
            "text/plain": [
              "<IPython.core.display.HTML object>"
            ]
          },
          "metadata": {
            "tags": []
          }
        },
        {
          "output_type": "display_data",
          "data": {
            "text/html": [
              ""
            ],
            "text/plain": [
              "<IPython.core.display.HTML object>"
            ]
          },
          "metadata": {
            "tags": []
          }
        }
      ]
    },
    {
      "cell_type": "code",
      "metadata": {
        "id": "TSn5uyAqpj0R",
        "colab_type": "code",
        "colab": {}
      },
      "source": [
        "# display a batch of the language model\n",
        "## YOUR CODE HERE\n",
        "data_lm.show_batch()"
      ],
      "execution_count": null,
      "outputs": []
    },
    {
      "cell_type": "markdown",
      "metadata": {
        "id": "nN8AnVeQw1dD",
        "colab_type": "text"
      },
      "source": [
        "---\n",
        "\n",
        "Can you see the labels here? If not, why not?\n",
        "\n",
        "---"
      ]
    },
    {
      "cell_type": "markdown",
      "metadata": {
        "id": "6WawxjUpqzUO",
        "colab_type": "text"
      },
      "source": [
        "### Classifier dataloader"
      ]
    },
    {
      "cell_type": "markdown",
      "metadata": {
        "id": "Wa-AH674w8f4",
        "colab_type": "text"
      },
      "source": [
        "Define the data for the classifier"
      ]
    },
    {
      "cell_type": "code",
      "metadata": {
        "id": "_TtZffhEqN6Z",
        "colab_type": "code",
        "colab": {
          "base_uri": "https://localhost:8080/",
          "height": 17
        },
        "outputId": "af87b0ae-9ac5-4cd8-bcf3-7640d0eec7e4"
      },
      "source": [
        "# classifier data\n",
        "data_cl = TextClasDataBunch.from_df(path, \n",
        "                                    train_df, # training dataframe\n",
        "                                    valid_df, # validation dataframe\n",
        "                                    text_cols=1, # columns to learn from\n",
        "                                    label_cols=0, # column for label\n",
        "                                    vocab=data_lm.train_ds.vocab, \n",
        "                                    bs=32)"
      ],
      "execution_count": null,
      "outputs": [
        {
          "output_type": "display_data",
          "data": {
            "text/html": [
              ""
            ],
            "text/plain": [
              "<IPython.core.display.HTML object>"
            ]
          },
          "metadata": {
            "tags": []
          }
        },
        {
          "output_type": "display_data",
          "data": {
            "text/html": [
              ""
            ],
            "text/plain": [
              "<IPython.core.display.HTML object>"
            ]
          },
          "metadata": {
            "tags": []
          }
        }
      ]
    },
    {
      "cell_type": "code",
      "metadata": {
        "id": "U3WWE6_Tqfja",
        "colab_type": "code",
        "colab": {
          "base_uri": "https://localhost:8080/",
          "height": 374
        },
        "outputId": "86593bfc-9089-4f51-dcb0-5f8fea7bae49"
      },
      "source": [
        "# view a barch of the data_cl\n",
        "## YOUR CODE HERE\n",
        "data_cl.show_batch()"
      ],
      "execution_count": null,
      "outputs": [
        {
          "output_type": "display_data",
          "data": {
            "text/html": [
              "<table border=\"1\" class=\"dataframe\">\n",
              "  <thead>\n",
              "    <tr style=\"text-align: right;\">\n",
              "      <th>text</th>\n",
              "      <th>target</th>\n",
              "    </tr>\n",
              "  </thead>\n",
              "  <tbody>\n",
              "    <tr>\n",
              "      <td>xxbos i xxup am xxup boycotting xxup alexander xxup 's xxup for xxup life ! ! ! xxmaj the manager xxup screamed xxup at xxup me at the top of his lungs in an epic meltdown that lasted 10 minutes ! \\n \\n  xxmaj on xxmaj sat . , xxmaj april 12 , 2014 , i attended the 50th birthday party for my dear friend , xxmaj david xxmaj</td>\n",
              "      <td>1</td>\n",
              "    </tr>\n",
              "    <tr>\n",
              "      <td>xxbos i am confused . i am baffled . i am in shock . i am disappointed . \\n  xxmaj when i read the reviews i was a little surprised but i figured somehow i must have looked over this place after all these years and i was actually regretting it ! xxmaj now ... not so much . i quickly realized there was a reason i grew up</td>\n",
              "      <td>1</td>\n",
              "    </tr>\n",
              "    <tr>\n",
              "      <td>xxbos xxmaj for many years , my best friend and her mother were season ticket holders and when her mother reached a point in age where she could no longer fully appreciate theater ( sight and hearing ) , i became the theater companion . xxmaj we 've been going now for three years , and although the overall ' experience ' of the xxmaj public is pleasant , the</td>\n",
              "      <td>1</td>\n",
              "    </tr>\n",
              "    <tr>\n",
              "      <td>xxbos xxup eta 2 / 23 / 12 : xxmaj rather than shop here once a week for $ 25 ( down from my 100 - 200 bill 5 years ago ) i now shop exclusively xxmaj whole xxmaj foods , xxmaj trader xxmaj joe 's and the new xxmaj target . xxmaj there is never any reason to set foot in this xxmaj giant xxmaj eagle ever again .</td>\n",
              "      <td>1</td>\n",
              "    </tr>\n",
              "    <tr>\n",
              "      <td>xxbos xxmaj the xxmaj pleasure xxmaj bar is absolutely not a 5 star restaurant , but it gets 5 stars from me bc every time i 've dined there i 've left happy , full of delicious food , and not broke . \\n \\n  xxmaj everyone in xxmaj bloomfield knows about the xxmaj pleasure xxmaj bar , but i 'm not sure anyone outside of xxmaj bloomfield knows</td>\n",
              "      <td>2</td>\n",
              "    </tr>\n",
              "  </tbody>\n",
              "</table>"
            ],
            "text/plain": [
              "<IPython.core.display.HTML object>"
            ]
          },
          "metadata": {
            "tags": []
          }
        }
      ]
    },
    {
      "cell_type": "markdown",
      "metadata": {
        "id": "2-nZcUQYr82x",
        "colab_type": "text"
      },
      "source": [
        "## Model"
      ]
    },
    {
      "cell_type": "markdown",
      "metadata": {
        "id": "eoqVtKogr-iv",
        "colab_type": "text"
      },
      "source": [
        "### Language Model"
      ]
    },
    {
      "cell_type": "markdown",
      "metadata": {
        "id": "Xt7T6rjpxQdf",
        "colab_type": "text"
      },
      "source": [
        "Great, we're now ready to train our language model!"
      ]
    },
    {
      "cell_type": "code",
      "metadata": {
        "id": "AsHNUgGVr9-n",
        "colab_type": "code",
        "colab": {
          "base_uri": "https://localhost:8080/",
          "height": 97
        },
        "outputId": "a13560eb-b326-4f31-f31e-f84bc1e97d56"
      },
      "source": [
        "# train the language model\n",
        "learn = language_model_learner(data_lm, AWD_LSTM, drop_mult=0.5)\n",
        "learn.fit_one_cycle(1, 1e-2)"
      ],
      "execution_count": null,
      "outputs": [
        {
          "output_type": "stream",
          "text": [
            "Downloading https://s3.amazonaws.com/fast-ai-modelzoo/wt103-fwd.tgz\n"
          ],
          "name": "stdout"
        },
        {
          "output_type": "display_data",
          "data": {
            "text/html": [
              ""
            ],
            "text/plain": [
              "<IPython.core.display.HTML object>"
            ]
          },
          "metadata": {
            "tags": []
          }
        },
        {
          "output_type": "display_data",
          "data": {
            "text/html": [
              "<table border=\"1\" class=\"dataframe\">\n",
              "  <thead>\n",
              "    <tr style=\"text-align: left;\">\n",
              "      <th>epoch</th>\n",
              "      <th>train_loss</th>\n",
              "      <th>valid_loss</th>\n",
              "      <th>accuracy</th>\n",
              "      <th>time</th>\n",
              "    </tr>\n",
              "  </thead>\n",
              "  <tbody>\n",
              "    <tr>\n",
              "      <td>0</td>\n",
              "      <td>4.139825</td>\n",
              "      <td>3.943250</td>\n",
              "      <td>0.274909</td>\n",
              "      <td>00:58</td>\n",
              "    </tr>\n",
              "  </tbody>\n",
              "</table>"
            ],
            "text/plain": [
              "<IPython.core.display.HTML object>"
            ]
          },
          "metadata": {
            "tags": []
          }
        }
      ]
    },
    {
      "cell_type": "code",
      "metadata": {
        "id": "sDDxRaKSsqkx",
        "colab_type": "code",
        "colab": {}
      },
      "source": [
        "# save language model to be used for classifier later on\n",
        "learn.save_encoder('language_model')"
      ],
      "execution_count": null,
      "outputs": []
    },
    {
      "cell_type": "markdown",
      "metadata": {
        "id": "OqXTc633slDH",
        "colab_type": "text"
      },
      "source": [
        "### Classifier"
      ]
    },
    {
      "cell_type": "markdown",
      "metadata": {
        "id": "q8nSjYVUxS-_",
        "colab_type": "text"
      },
      "source": [
        "Now that we have our language model ready, we can proceed with creating our classifier."
      ]
    },
    {
      "cell_type": "code",
      "metadata": {
        "id": "DIh-HdS-smoz",
        "colab_type": "code",
        "colab": {}
      },
      "source": [
        "# setup the learner for classification\n",
        "learn = text_classifier_learner(data_cl, AWD_LSTM, drop_mult=0.5)\n",
        "\n",
        "# load the language model into the classifier\n",
        "learn.load_encoder('language_model');"
      ],
      "execution_count": null,
      "outputs": []
    },
    {
      "cell_type": "code",
      "metadata": {
        "id": "DrcTfe7RtOuB",
        "colab_type": "code",
        "colab": {
          "base_uri": "https://localhost:8080/",
          "height": 80
        },
        "outputId": "97d3c42d-b65c-4077-91cc-b294f6a5982c"
      },
      "source": [
        "# train the last two layers\n",
        "learn.freeze_to(-2)\n",
        "learn.fit_one_cycle(1, slice(1e-2/(2.6**4),1e-2))"
      ],
      "execution_count": null,
      "outputs": [
        {
          "output_type": "display_data",
          "data": {
            "text/html": [
              "<table border=\"1\" class=\"dataframe\">\n",
              "  <thead>\n",
              "    <tr style=\"text-align: left;\">\n",
              "      <th>epoch</th>\n",
              "      <th>train_loss</th>\n",
              "      <th>valid_loss</th>\n",
              "      <th>accuracy</th>\n",
              "      <th>time</th>\n",
              "    </tr>\n",
              "  </thead>\n",
              "  <tbody>\n",
              "    <tr>\n",
              "      <td>0</td>\n",
              "      <td>0.339061</td>\n",
              "      <td>0.256568</td>\n",
              "      <td>0.889000</td>\n",
              "      <td>00:34</td>\n",
              "    </tr>\n",
              "  </tbody>\n",
              "</table>"
            ],
            "text/plain": [
              "<IPython.core.display.HTML object>"
            ]
          },
          "metadata": {
            "tags": []
          }
        }
      ]
    },
    {
      "cell_type": "markdown",
      "metadata": {
        "id": "7-o6jfdnxZtu",
        "colab_type": "text"
      },
      "source": [
        "Feel free to rerun the cells above to train for longer to get better accuracy."
      ]
    },
    {
      "cell_type": "markdown",
      "metadata": {
        "id": "eKHPYabgmDnD",
        "colab_type": "text"
      },
      "source": [
        "---\n",
        "\n",
        "Next, fine-tune your model by:\n",
        "\n",
        "1. Finding an appropriate learning rate using `lr_finder()`\n",
        "2. Using the template `slice(LR/(2.6**4), LR)` create the classifer learner\n",
        "\n",
        "---"
      ]
    },
    {
      "cell_type": "code",
      "metadata": {
        "id": "sEkwW22zmXv3",
        "colab_type": "code",
        "colab": {}
      },
      "source": [
        "# 1. find an appropriate learning rate\n",
        "### YOUR CODE HERE\n"
      ],
      "execution_count": null,
      "outputs": []
    },
    {
      "cell_type": "code",
      "metadata": {
        "id": "kRQqo-hBmbuz",
        "colab_type": "code",
        "colab": {}
      },
      "source": [
        "# 2. fine-tune your model\n",
        "### YOUR CODE HERE\n"
      ],
      "execution_count": null,
      "outputs": []
    },
    {
      "cell_type": "markdown",
      "metadata": {
        "id": "z6sMrakctuGD",
        "colab_type": "text"
      },
      "source": [
        "## Testing"
      ]
    },
    {
      "cell_type": "markdown",
      "metadata": {
        "id": "O0G0EFO0xe6e",
        "colab_type": "text"
      },
      "source": [
        "Below is a helper function to help us decode the model's prediction."
      ]
    },
    {
      "cell_type": "code",
      "metadata": {
        "id": "oGBY0Aw9t0D1",
        "colab_type": "code",
        "colab": {}
      },
      "source": [
        "# helper function to predict the results\n",
        "def predict(sentence) :\n",
        "  if learn.predict(sentence)[0]==tensor(0):\n",
        "    print(\"Negetive\")\n",
        "  elif learn.predict(sentence)[0]==tensor(1):\n",
        "    print(\"Positive\")"
      ],
      "execution_count": null,
      "outputs": []
    },
    {
      "cell_type": "markdown",
      "metadata": {
        "id": "eNDoyvysx_M6",
        "colab_type": "text"
      },
      "source": [
        "Try your own sentences!"
      ]
    },
    {
      "cell_type": "code",
      "metadata": {
        "id": "7glC6MjntvUI",
        "colab_type": "code",
        "colab": {
          "base_uri": "https://localhost:8080/",
          "height": 34
        },
        "outputId": "e5bc885b-ca8d-48b8-9a7b-b8b4dcfdc6f9"
      },
      "source": [
        "# pass in your sentence to predict!\n",
        "predict(\"This product is actually not good\")"
      ],
      "execution_count": null,
      "outputs": [
        {
          "output_type": "stream",
          "text": [
            "Negetive\n"
          ],
          "name": "stdout"
        }
      ]
    },
    {
      "cell_type": "markdown",
      "metadata": {
        "colab_type": "text",
        "id": "J71ttgg2aicH"
      },
      "source": [
        "# Summary"
      ]
    },
    {
      "cell_type": "markdown",
      "metadata": {
        "id": "di-6nagM3lLL",
        "colab_type": "text"
      },
      "source": [
        "Today we covered:\n",
        "* Basics of Natural Language Processing (NLP)\n",
        "* What Tokenization is\n",
        "* How to train an NLP model which includes:\n",
        "  * Langauge model: to undertand English\n",
        "  * Classifier: to classify a setence \n",
        "* The two step training process which consisted of: \n",
        "  * fine-tuning a language model for our purpose\n",
        "  * training a classifier using our fine-tuned language model"
      ]
    }
  ]
}