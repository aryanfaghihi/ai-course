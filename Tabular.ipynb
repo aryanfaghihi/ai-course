{
  "nbformat": 4,
  "nbformat_minor": 0,
  "metadata": {
    "kernelspec": {
      "display_name": "Python 3",
      "language": "python",
      "name": "python3"
    },
    "colab": {
      "name": "Tabular.ipynb",
      "provenance": [],
      "collapsed_sections": [],
      "toc_visible": true,
      "include_colab_link": true
    }
  },
  "cells": [
    {
      "cell_type": "markdown",
      "metadata": {
        "id": "view-in-github",
        "colab_type": "text"
      },
      "source": [
        "<a href=\"https://colab.research.google.com/github/aryanfaghihi/ai-course/blob/master/Tabular.ipynb\" target=\"_parent\"><img src=\"https://colab.research.google.com/assets/colab-badge.svg\" alt=\"Open In Colab\"/></a>"
      ]
    },
    {
      "cell_type": "markdown",
      "metadata": {
        "id": "UsPyui-BHTRm",
        "colab_type": "text"
      },
      "source": [
        "# Setup\n"
      ]
    },
    {
      "cell_type": "markdown",
      "metadata": {
        "id": "uDN1TG46HOAu",
        "colab_type": "text"
      },
      "source": [
        "## Make a copy\n",
        "\n",
        "**Follow the following steps to make your own copy. You will lose your changes if you don't make your own copy!**\n",
        "\n",
        "From the tooltip above, you should see \n",
        "\n",
        "File | Edit | View | Insert | Runtime | Tools | Help\n",
        "\n",
        "1. Click on **File**\n",
        "2. Click on **Save a copy in Drive**"
      ]
    },
    {
      "cell_type": "markdown",
      "metadata": {
        "id": "CUgSmgI1IJHt",
        "colab_type": "text"
      },
      "source": [
        "## Import"
      ]
    },
    {
      "cell_type": "markdown",
      "metadata": {
        "id": "4jkDj28D0sTi",
        "colab_type": "text"
      },
      "source": [
        "Let's import the packages we need for today. We will be using [`fastai`](https://www.fast.ai/) to create our AI model. This library makes it easy to get started. As the creators of `fastai` have put it:\n",
        "\n",
        "> `fastai` - Making neural nets uncool again!\n",
        "\n"
      ]
    },
    {
      "cell_type": "code",
      "metadata": {
        "id": "wwiGqvnA0sTj",
        "colab_type": "code",
        "colab": {}
      },
      "source": [
        "from fastai.tabular import *"
      ],
      "execution_count": 51,
      "outputs": []
    },
    {
      "cell_type": "markdown",
      "metadata": {
        "id": "HZtew2TG7nwT",
        "colab_type": "text"
      },
      "source": [
        "# Data"
      ]
    },
    {
      "cell_type": "markdown",
      "metadata": {
        "id": "lMyc11ea7tde",
        "colab_type": "text"
      },
      "source": [
        "## Looking at data"
      ]
    },
    {
      "cell_type": "markdown",
      "metadata": {
        "id": "JQQIFUkU0sTm",
        "colab_type": "text"
      },
      "source": [
        "Today we will be exploring a dataset called `Adult Data Set`.\n",
        "\n",
        "> The aim is to predict whether income exceeds $50K/yr based on census data from the US\n",
        "\n",
        "The dataset has the following attributes\n",
        "\n",
        "Attribute name | Attribute type\n",
        "--- | ---\n",
        "age | continuous (number)\n",
        "workclass | 8 categories\n",
        "fnlwgt | continuous (number)\n",
        "education | 16 categories\n",
        "education-num | continuous (number)\n",
        "marital-status | 7 categories\n",
        "occupation | 14 categories\n",
        "relationship | 6 categories\n",
        "race | 5 categories\n",
        "sex | 2 categories\n",
        "capital-gain | continuous (number)\n",
        "capital-loss | continuous (number)\n",
        "hours-per-week | continuous (number)\n",
        "native-country | 41 categories\n",
        "salary | 2 categories\n"
      ]
    },
    {
      "cell_type": "code",
      "metadata": {
        "id": "2DSh4pqR0sTn",
        "colab_type": "code",
        "colab": {}
      },
      "source": [
        "# Downloading and unzipping the dataset\n",
        "path = untar_data(URLs.ADULT_SAMPLE)\n",
        "\n",
        "# Reading the csv dataset\n",
        "data = pd.read_csv(path/'adult.csv')"
      ],
      "execution_count": 52,
      "outputs": []
    },
    {
      "cell_type": "markdown",
      "metadata": {
        "id": "rD0R1dEoGDn4",
        "colab_type": "text"
      },
      "source": [
        "---\n",
        "\n",
        "⭐ Print the first few rows of the data. \n",
        "\n",
        "---\n",
        "\n",
        "Hint: you can use the [`head` method](https://pandas.pydata.org/pandas-docs/stable/reference/api/pandas.DataFrame.head.html)."
      ]
    },
    {
      "cell_type": "code",
      "metadata": {
        "id": "DZAKfoBi6Gtb",
        "colab_type": "code",
        "colab": {}
      },
      "source": [
        "# print the first few rows of `data`\n",
        "### YOUR CODE HERE\n",
        "\n"
      ],
      "execution_count": 123,
      "outputs": []
    },
    {
      "cell_type": "markdown",
      "metadata": {
        "id": "sKTU_Y-zFSQo",
        "colab_type": "text"
      },
      "source": [
        "## Categorical vs. Continuous "
      ]
    },
    {
      "cell_type": "markdown",
      "metadata": {
        "id": "M3U4tBQqFdd2",
        "colab_type": "text"
      },
      "source": [
        "This is a very important concept for both Tabular data as well as other Deep Learning models. In short:\n",
        "* **Categorical** variables contain a *finite* number of categories or distinct groups.\n",
        "* **Continuous** variables are numeric variables that have an *infinite* number of values.\n",
        "\n",
        "Examples\n",
        "* **Categorical**: Race\n",
        "* **Continuous**: Age\n",
        "\n",
        "\n",
        "\n",
        "\n"
      ]
    },
    {
      "cell_type": "markdown",
      "metadata": {
        "id": "aEVHPBK2JByT",
        "colab_type": "text"
      },
      "source": [
        "---\n",
        "\n",
        "⭐ Can you think of any other examples for Categorical and Continuous variables?\n",
        "\n",
        "---"
      ]
    },
    {
      "cell_type": "markdown",
      "metadata": {
        "id": "fbpnT69PJlDu",
        "colab_type": "text"
      },
      "source": [
        "## Categorical Variables"
      ]
    },
    {
      "cell_type": "markdown",
      "metadata": {
        "id": "7EPzoD0vGjYq",
        "colab_type": "text"
      },
      "source": [
        "Ok, let's look at some of the features of categorical data in our dataset. You can use the [`value_counts()`](https://pandas.pydata.org/pandas-docs/stable/reference/api/pandas.Series.value_counts.html) to count the number of each category in your categorical data."
      ]
    },
    {
      "cell_type": "code",
      "metadata": {
        "id": "7iXkMjzNEW1S",
        "colab_type": "code",
        "colab": {
          "base_uri": "https://localhost:8080/",
          "height": 68
        },
        "outputId": "303261ce-4a9a-41e4-8e6a-30f10dd50d20"
      },
      "source": [
        "data['salary'].value_counts()"
      ],
      "execution_count": 54,
      "outputs": [
        {
          "output_type": "execute_result",
          "data": {
            "text/plain": [
              "<50k     24720\n",
              ">=50k     7841\n",
              "Name: salary, dtype: int64"
            ]
          },
          "metadata": {
            "tags": []
          },
          "execution_count": 54
        }
      ]
    },
    {
      "cell_type": "markdown",
      "metadata": {
        "id": "zIEgFHpoI4Pa",
        "colab_type": "text"
      },
      "source": [
        "Here, we can see that most people have a salary of less than 50K in the US according to this dataset."
      ]
    },
    {
      "cell_type": "markdown",
      "metadata": {
        "id": "P69bluGXFKaT",
        "colab_type": "text"
      },
      "source": [
        "---\n",
        "\n",
        "⭐ Choose another categorical variable from `data` and count its categories.\n",
        "\n",
        "---"
      ]
    },
    {
      "cell_type": "code",
      "metadata": {
        "id": "dXFHLQbqJOLn",
        "colab_type": "code",
        "colab": {}
      },
      "source": [
        "### Count the number of categories in another categorical variable\n",
        "### YOUR CODE HERE\n",
        "\n",
        "\n",
        "# Hint: you can refer to the table above to find another variable name"
      ],
      "execution_count": 55,
      "outputs": []
    },
    {
      "cell_type": "markdown",
      "metadata": {
        "id": "kCWwWu9lJhkQ",
        "colab_type": "text"
      },
      "source": [
        "## Continuous Variables"
      ]
    },
    {
      "cell_type": "markdown",
      "metadata": {
        "id": "sr1kIdIUJxW-",
        "colab_type": "text"
      },
      "source": [
        "Let's now look at one of the continuous variables in our dataset."
      ]
    },
    {
      "cell_type": "code",
      "metadata": {
        "id": "pwIykWF1J8lP",
        "colab_type": "code",
        "colab": {
          "base_uri": "https://localhost:8080/",
          "height": 170
        },
        "outputId": "a4acaf61-1f80-43ba-a24d-34dd86cc9d0c"
      },
      "source": [
        "data['age'].describe()"
      ],
      "execution_count": 56,
      "outputs": [
        {
          "output_type": "execute_result",
          "data": {
            "text/plain": [
              "count    32561.000000\n",
              "mean        38.581647\n",
              "std         13.640433\n",
              "min         17.000000\n",
              "25%         28.000000\n",
              "50%         37.000000\n",
              "75%         48.000000\n",
              "max         90.000000\n",
              "Name: age, dtype: float64"
            ]
          },
          "metadata": {
            "tags": []
          },
          "execution_count": 56
        }
      ]
    },
    {
      "cell_type": "markdown",
      "metadata": {
        "id": "WfDUK1JYKNOZ",
        "colab_type": "text"
      },
      "source": [
        "Oh wow, ok let's unpack what all of these stats mean. This might seem a little abstract and useless but don't forget that as a Deep Learning engineer, you will spend at least half of your time on your datasets! So knowing how to find the information you need from your data is an essential skill that you must have."
      ]
    },
    {
      "cell_type": "markdown",
      "metadata": {
        "id": "bsx6YwNxLLlu",
        "colab_type": "text"
      },
      "source": [
        "Stat | Meaning\n",
        "--- | ---\n",
        "mean | average\n",
        "std | standard deviation. It measures how much your data is spread around the average.\n",
        "min | minimum\n",
        "25% | 25 percentile. 25% of your data values fall below this value\n",
        "50% | 50 percentile\n",
        "75% | 75 percentile\n",
        "max | maximum\n"
      ]
    },
    {
      "cell_type": "markdown",
      "metadata": {
        "colab_type": "text",
        "id": "Eyh6OjuEMnQ5"
      },
      "source": [
        "---\n",
        "\n",
        "⭐ Choose another continuous variable from `data` and [`descibre()`](https://pandas.pydata.org/pandas-docs/stable/reference/api/pandas.DataFrame.describe.html) it\n",
        "\n",
        "---"
      ]
    },
    {
      "cell_type": "code",
      "metadata": {
        "id": "w1EdsX9wMuc4",
        "colab_type": "code",
        "colab": {}
      },
      "source": [
        "### Describe() another continuous variable\n",
        "### YOUR CODE HERE\n",
        "\n",
        "\n",
        "# Hint: you can refer to the table above to find another variable name"
      ],
      "execution_count": 57,
      "outputs": []
    },
    {
      "cell_type": "markdown",
      "metadata": {
        "id": "n9NDBHS5TSZ1",
        "colab_type": "text"
      },
      "source": [
        "## Summary\n",
        "\n",
        "* We looked at how we can import a dataset\n",
        "* We discussed the difference between categorical and continuous variables\n",
        "* We explored some basic ways of exploring our dataset"
      ]
    },
    {
      "cell_type": "markdown",
      "metadata": {
        "id": "oMVF6VEwUAxv",
        "colab_type": "text"
      },
      "source": [
        "# Model"
      ]
    },
    {
      "cell_type": "markdown",
      "metadata": {
        "id": "nz4o6UMQWm9Y",
        "colab_type": "text"
      },
      "source": [
        "## Training and Validation dataset\n",
        "\n",
        "Wait, I thought we're ready to train our model! Don't worry, we're almost there, I promise. \n",
        "\n",
        "* **Training** dataset is the subset of your data that is used to **train** your model.\n",
        "* **Validation** dataset is the subset of your data that is set aside to **evaluate** your model's performance after training it"
      ]
    },
    {
      "cell_type": "markdown",
      "metadata": {
        "id": "nSBr-EO5XMMF",
        "colab_type": "text"
      },
      "source": [
        "---\n",
        "\n",
        "⭐ Why is it important to have a validation set that is separate from the training set?\n",
        "\n",
        "---"
      ]
    },
    {
      "cell_type": "markdown",
      "metadata": {
        "id": "5ahHAxFdY7mj",
        "colab_type": "text"
      },
      "source": [
        "In practice, usually we use 80% of the original dataset for **training** and 20% for **validation**.\n",
        "\n"
      ]
    },
    {
      "cell_type": "code",
      "metadata": {
        "id": "voABoRU7eO3K",
        "colab_type": "code",
        "colab": {
          "base_uri": "https://localhost:8080/",
          "height": 68
        },
        "outputId": "713a56e8-9251-4af4-e812-d72408836c8d"
      },
      "source": [
        "# Here we are using 80% split\n",
        "# you can change this number and experiment\n",
        "training_split = 0.8\n",
        "\n",
        "# Find the indices for training set\n",
        "train_idx_start = 0\n",
        "train_idx_end = int(training_split*len(data))\n",
        "\n",
        "# Find the indices for validation set\n",
        "valid_idx_start = train_idx_end\n",
        "valid_idx_end = len(data)\n",
        "valid_idx = range(valid_idx_start, valid_idx_end) # this will be useful for us later\n",
        "\n",
        "print('Split percentage used:', training_split)\n",
        "print('Training dataset indices', train_idx_start, train_idx_end)\n",
        "print('Validation dataset indices', valid_idx_start, valid_idx_end)"
      ],
      "execution_count": 118,
      "outputs": [
        {
          "output_type": "stream",
          "text": [
            "Split percentage used: 0.8\n",
            "Training dataset indices 0 26048\n",
            "Validation dataset indices 26048 32561\n"
          ],
          "name": "stdout"
        }
      ]
    },
    {
      "cell_type": "markdown",
      "metadata": {
        "id": "-PcRTaVGV3mx",
        "colab_type": "text"
      },
      "source": [
        "## Dataloader"
      ]
    },
    {
      "cell_type": "markdown",
      "metadata": {
        "id": "XihmSyW8UFIE",
        "colab_type": "text"
      },
      "source": [
        "In this section, we will train a Deep Learning model to predict the output of one of the columns based on the other columns. For example, we can use the data in the `education`, `occupation` and `workclass` to predict the `salary`. This particularly example can be written as:\n",
        "\n",
        "> `salary` ~ `education` + `occupation` + `workclass`\n",
        "\n",
        "* **Dependent** variable: `salary`\n",
        "* **Independent** variables: `education` `occupation` `workclass`"
      ]
    },
    {
      "cell_type": "markdown",
      "metadata": {
        "id": "t5V-AZiZVKQf",
        "colab_type": "text"
      },
      "source": [
        "Let's use this example to demonstrate how you can use `fastai` to train a model using these variables. Let's start with assigining these column names into variable to be used later."
      ]
    },
    {
      "cell_type": "code",
      "metadata": {
        "id": "H-g6zKx-0sTq",
        "colab_type": "code",
        "colab": {}
      },
      "source": [
        "# DEPEDENT VARIABLE\n",
        "dependent_variable = 'salary'\n",
        "\n",
        "# INDEPENDENT VARIABLES\n",
        "## Categorical\n",
        "categorical_variables = ['workclass', 'education', 'occupation']\n",
        "\n",
        "## Continuous\n",
        "continuous_variables = []"
      ],
      "execution_count": 96,
      "outputs": []
    },
    {
      "cell_type": "markdown",
      "metadata": {
        "id": "xj2gV4P8gK2J",
        "colab_type": "text"
      },
      "source": [
        "Notice that `continuous_variables` is empty. This is because none of the independent variables that we chose for this particular example are continuous. However, if you do have continuous variables, you must append them to `continuous_variables` list instead."
      ]
    },
    {
      "cell_type": "markdown",
      "metadata": {
        "id": "cpT1xg3Ggr_q",
        "colab_type": "text"
      },
      "source": [
        "Below, we will use the built-in functionality of `fastai` to import the data for our model's use. But why? Up until this point, we've been working with data by using Python's built-in functionality as well as `pandas`. But now that we have to train a Deep Learning model, we have to pass the data into `fastai`. This is done through `dataloaders`. These functions will take care of all the complexity of data pipelines for training your model."
      ]
    },
    {
      "cell_type": "code",
      "metadata": {
        "id": "ghRsJI6P0sTu",
        "colab_type": "code",
        "colab": {}
      },
      "source": [
        "## DATALOADER\n",
        "dataloader = TabularDataBunch.from_df(path,                             # path to csv file\n",
        "                                      data,                             # original data\n",
        "                                      dependent_variable,               # chosen dependent variable\n",
        "                                      cont_names=continuous_variables,  # continuous variables\n",
        "                                      cat_names=categorical_variables,  # continuous variables\n",
        "                                      valid_idx=valid_idx,              # indices for validation set\n",
        "                                      procs=[Categorify])"
      ],
      "execution_count": 120,
      "outputs": []
    },
    {
      "cell_type": "markdown",
      "metadata": {
        "id": "Ky5lJOub-fCL",
        "colab_type": "text"
      },
      "source": [
        "You don't really need to know what all of these parameters do. In fact, even actual Deep Learning engineers look these up all the time. It's more important to know the high-level concepts like Training and Validation sets and differences between categorical and continuous variables.\n",
        "\n",
        "---\n",
        "🤓 Advanced (only for those interested)\n",
        "\n",
        "But for those of you who want to know more, listed below is a brief descrpition of each option\n",
        "* `cat_names`: specify categorical variables (names)\n",
        "* `cont_names`: specify continuous variablese (names)\n",
        "* `procs`: list of pre-processes to be done data. Here we are passing `Categorify` which turns the category values into numbers because computers can only work with numbers. There is a range of `procs` which we will cover in this course.\n",
        "* `valid_idx`: list of indices (rows) for to be used for validation set. This means `fastai` will take care of splitting the data for us.\n",
        "---"
      ]
    },
    {
      "cell_type": "markdown",
      "metadata": {
        "id": "8U6GCT-4BWAD",
        "colab_type": "text"
      },
      "source": [
        "Last thing before we train our model, I promise. \n",
        "\n",
        "It is **always** a good practice to look at a batch of your dataloader to make sure everything looks right. That is, make sure the correct columns have been selected and more importantly, the correct dependent variable (or `target`) has been selected."
      ]
    },
    {
      "cell_type": "code",
      "metadata": {
        "id": "01N67yLc0sTx",
        "colab_type": "code",
        "colab": {
          "base_uri": "https://localhost:8080/",
          "height": 204
        },
        "outputId": "d7efacb4-8dea-4e58-e3ac-22ea3895b1bb"
      },
      "source": [
        "dataloader.show_batch()"
      ],
      "execution_count": 121,
      "outputs": [
        {
          "output_type": "display_data",
          "data": {
            "text/html": [
              "<table border=\"1\" class=\"dataframe\">\n",
              "  <thead>\n",
              "    <tr style=\"text-align: right;\">\n",
              "      <th>workclass</th>\n",
              "      <th>education</th>\n",
              "      <th>occupation</th>\n",
              "      <th>target</th>\n",
              "    </tr>\n",
              "  </thead>\n",
              "  <tbody>\n",
              "    <tr>\n",
              "      <td>Private</td>\n",
              "      <td>Assoc-acdm</td>\n",
              "      <td>Handlers-cleaners</td>\n",
              "      <td>&lt;50k</td>\n",
              "    </tr>\n",
              "    <tr>\n",
              "      <td>Private</td>\n",
              "      <td>Bachelors</td>\n",
              "      <td>Prof-specialty</td>\n",
              "      <td>&lt;50k</td>\n",
              "    </tr>\n",
              "    <tr>\n",
              "      <td>Private</td>\n",
              "      <td>HS-grad</td>\n",
              "      <td>Sales</td>\n",
              "      <td>&lt;50k</td>\n",
              "    </tr>\n",
              "    <tr>\n",
              "      <td>Self-emp-not-inc</td>\n",
              "      <td>Bachelors</td>\n",
              "      <td>Prof-specialty</td>\n",
              "      <td>&lt;50k</td>\n",
              "    </tr>\n",
              "    <tr>\n",
              "      <td>Private</td>\n",
              "      <td>HS-grad</td>\n",
              "      <td>Machine-op-inspct</td>\n",
              "      <td>&lt;50k</td>\n",
              "    </tr>\n",
              "  </tbody>\n",
              "</table>"
            ],
            "text/plain": [
              "<IPython.core.display.HTML object>"
            ]
          },
          "metadata": {
            "tags": []
          }
        }
      ]
    },
    {
      "cell_type": "markdown",
      "metadata": {
        "id": "fSZ4vP6TBu6_",
        "colab_type": "text"
      },
      "source": [
        "## Training"
      ]
    },
    {
      "cell_type": "markdown",
      "metadata": {
        "id": "xfSvtsdbB3Wz",
        "colab_type": "text"
      },
      "source": [
        "Ok so, this is what we have done so far:\n",
        "\n",
        "- [x] Looked at our dataset\n",
        "- [x] Learnt the difference between categorical and continuous variables\n",
        "- [x] Training and validation dataset\n",
        "\n",
        "We are finally ready to train our model. "
      ]
    },
    {
      "cell_type": "code",
      "metadata": {
        "id": "w5EZngz60sTz",
        "colab_type": "code",
        "colab": {
          "base_uri": "https://localhost:8080/",
          "height": 204
        },
        "outputId": "72ce2b9c-d321-4a76-d144-948d09897e9f"
      },
      "source": [
        "learn = tabular_learner(data_loader, layers=[200,100], metrics=accuracy)\n",
        "learn.fit(5)"
      ],
      "execution_count": 122,
      "outputs": [
        {
          "output_type": "display_data",
          "data": {
            "text/html": [
              "<table border=\"1\" class=\"dataframe\">\n",
              "  <thead>\n",
              "    <tr style=\"text-align: left;\">\n",
              "      <th>epoch</th>\n",
              "      <th>train_loss</th>\n",
              "      <th>valid_loss</th>\n",
              "      <th>accuracy</th>\n",
              "      <th>time</th>\n",
              "    </tr>\n",
              "  </thead>\n",
              "  <tbody>\n",
              "    <tr>\n",
              "      <td>0</td>\n",
              "      <td>0.470965</td>\n",
              "      <td>0.466522</td>\n",
              "      <td>0.781500</td>\n",
              "      <td>00:04</td>\n",
              "    </tr>\n",
              "    <tr>\n",
              "      <td>1</td>\n",
              "      <td>0.445849</td>\n",
              "      <td>0.469465</td>\n",
              "      <td>0.783000</td>\n",
              "      <td>00:04</td>\n",
              "    </tr>\n",
              "    <tr>\n",
              "      <td>2</td>\n",
              "      <td>0.465674</td>\n",
              "      <td>0.470756</td>\n",
              "      <td>0.781000</td>\n",
              "      <td>00:04</td>\n",
              "    </tr>\n",
              "    <tr>\n",
              "      <td>3</td>\n",
              "      <td>0.466378</td>\n",
              "      <td>0.464945</td>\n",
              "      <td>0.787000</td>\n",
              "      <td>00:04</td>\n",
              "    </tr>\n",
              "    <tr>\n",
              "      <td>4</td>\n",
              "      <td>0.453778</td>\n",
              "      <td>0.458896</td>\n",
              "      <td>0.786000</td>\n",
              "      <td>00:04</td>\n",
              "    </tr>\n",
              "  </tbody>\n",
              "</table>"
            ],
            "text/plain": [
              "<IPython.core.display.HTML object>"
            ]
          },
          "metadata": {
            "tags": []
          }
        }
      ]
    },
    {
      "cell_type": "markdown",
      "metadata": {
        "id": "-K1mi3xBIcuT",
        "colab_type": "text"
      },
      "source": [
        "🎉 We just trained our first model!\n",
        "\n",
        "You should be getting around 80% accuracy. What does this mean? Well it means that you have been able to predict `salary` correctly 80% of the time using your independent categorical and continuous variables.\n",
        "\n",
        "Ok but what about `layers`?\n",
        "> We will cover it throughout the course but for now you can think of them as how *powerful your model is*. The higher these values the better. But of course, with great power comes great resposibility and we will discuss those in the next sections.\n",
        "\n",
        "What is `epoch`?\n",
        "> Epoch is defined as the number of times you train your model. In other words, it is the number of times your model *learns* from each data point. We cover this in more detail in the next section. For now you can stick with 5-10 epochs for training your models."
      ]
    },
    {
      "cell_type": "markdown",
      "metadata": {
        "id": "8LHoP-Sz0sT4",
        "colab_type": "text"
      },
      "source": [
        "## Testing"
      ]
    },
    {
      "cell_type": "markdown",
      "metadata": {
        "id": "Ir8RviX5KV9l",
        "colab_type": "text"
      },
      "source": [
        "Ok so we just covered how you can train your model, and we saw how you can get 80% accuracy. But wouldn't it better if you could just make up your own data and pass it through the model to see what it predicts? That is what we're going to be doing now."
      ]
    },
    {
      "cell_type": "code",
      "metadata": {
        "id": "vpk9K7tu0sT5",
        "colab_type": "code",
        "colab": {}
      },
      "source": [
        "row = df.iloc[0]"
      ],
      "execution_count": null,
      "outputs": []
    },
    {
      "cell_type": "code",
      "metadata": {
        "id": "WCIJh1Jm0sT7",
        "colab_type": "code",
        "colab": {},
        "outputId": "70e0db49-bf30-414d-d06a-58ebedbb7c6e"
      },
      "source": [
        "learn.predict(row)"
      ],
      "execution_count": null,
      "outputs": [
        {
          "output_type": "execute_result",
          "data": {
            "text/plain": [
              "(Category >=50k, tensor(1), tensor([0.4402, 0.5598]))"
            ]
          },
          "metadata": {
            "tags": []
          },
          "execution_count": 0
        }
      ]
    },
    {
      "cell_type": "code",
      "metadata": {
        "id": "gpV4nmmp0sT9",
        "colab_type": "code",
        "colab": {}
      },
      "source": [
        ""
      ],
      "execution_count": null,
      "outputs": []
    }
  ]
}