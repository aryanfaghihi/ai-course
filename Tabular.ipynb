{
  "nbformat": 4,
  "nbformat_minor": 0,
  "metadata": {
    "kernelspec": {
      "display_name": "Python 3",
      "language": "python",
      "name": "python3"
    },
    "colab": {
      "name": "Copy of lesson4-tabular.ipynb",
      "provenance": [],
      "toc_visible": true,
      "include_colab_link": true
    }
  },
  "cells": [
    {
      "cell_type": "markdown",
      "metadata": {
        "id": "view-in-github",
        "colab_type": "text"
      },
      "source": [
        "<a href=\"https://colab.research.google.com/github/aryanfaghihi/ai-course/blob/master/Tabular.ipynb\" target=\"_parent\"><img src=\"https://colab.research.google.com/assets/colab-badge.svg\" alt=\"Open In Colab\"/></a>"
      ]
    },
    {
      "cell_type": "markdown",
      "metadata": {
        "id": "4jkDj28D0sTi",
        "colab_type": "text"
      },
      "source": [
        "# Tabular models"
      ]
    },
    {
      "cell_type": "code",
      "metadata": {
        "id": "wwiGqvnA0sTj",
        "colab_type": "code",
        "colab": {}
      },
      "source": [
        "from fastai.tabular import *"
      ],
      "execution_count": null,
      "outputs": []
    },
    {
      "cell_type": "markdown",
      "metadata": {
        "id": "JQQIFUkU0sTm",
        "colab_type": "text"
      },
      "source": [
        "Tabular data should be in a Pandas `DataFrame`."
      ]
    },
    {
      "cell_type": "code",
      "metadata": {
        "id": "2DSh4pqR0sTn",
        "colab_type": "code",
        "colab": {}
      },
      "source": [
        "path = untar_data(URLs.ADULT_SAMPLE)\n",
        "df = pd.read_csv(path/'adult.csv')"
      ],
      "execution_count": null,
      "outputs": []
    },
    {
      "cell_type": "code",
      "metadata": {
        "id": "H-g6zKx-0sTq",
        "colab_type": "code",
        "colab": {}
      },
      "source": [
        "dep_var = 'salary'\n",
        "cat_names = ['workclass', 'education', 'marital-status', 'occupation', 'relationship', 'race']\n",
        "cont_names = ['age', 'fnlwgt', 'education-num']\n",
        "procs = [FillMissing, Categorify, Normalize]"
      ],
      "execution_count": null,
      "outputs": []
    },
    {
      "cell_type": "code",
      "metadata": {
        "id": "e4H-QdBx0sTs",
        "colab_type": "code",
        "colab": {}
      },
      "source": [
        "test = TabularList.from_df(df.iloc[800:1000].copy(), path=path, cat_names=cat_names, cont_names=cont_names)"
      ],
      "execution_count": null,
      "outputs": []
    },
    {
      "cell_type": "code",
      "metadata": {
        "id": "ghRsJI6P0sTu",
        "colab_type": "code",
        "colab": {}
      },
      "source": [
        "data = (TabularList.from_df(df, path=path, cat_names=cat_names, cont_names=cont_names, procs=procs)\n",
        "                           .split_by_idx(list(range(800,1000)))\n",
        "                           .label_from_df(cols=dep_var)\n",
        "                           .add_test(test)\n",
        "                           .databunch())"
      ],
      "execution_count": null,
      "outputs": []
    },
    {
      "cell_type": "code",
      "metadata": {
        "id": "01N67yLc0sTx",
        "colab_type": "code",
        "colab": {},
        "outputId": "fc65a32b-7e06-4333-e21f-047281dbc555"
      },
      "source": [
        "data.show_batch(rows=10)"
      ],
      "execution_count": null,
      "outputs": [
        {
          "output_type": "display_data",
          "data": {
            "text/html": [
              "<table>  <col width='10%'>  <col width='10%'>  <col width='10%'>  <col width='10%'>  <col width='10%'>  <col width='10%'>  <col width='10%'>  <col width='10%'>  <col width='10%'>  <col width='10%'>  <col width='10%'>  <tr>\n",
              "    <th>workclass</th>\n",
              "    <th>education</th>\n",
              "    <th>marital-status</th>\n",
              "    <th>occupation</th>\n",
              "    <th>relationship</th>\n",
              "    <th>race</th>\n",
              "    <th>education-num_na</th>\n",
              "    <th>age</th>\n",
              "    <th>fnlwgt</th>\n",
              "    <th>education-num</th>\n",
              "    <th>target</th>\n",
              "  </tr>\n",
              "  <tr>\n",
              "    <th> Private</th>\n",
              "    <th> HS-grad</th>\n",
              "    <th> Never-married</th>\n",
              "    <th> Sales</th>\n",
              "    <th> Not-in-family</th>\n",
              "    <th> White</th>\n",
              "    <th>False</th>\n",
              "    <th>-1.2158</th>\n",
              "    <th>1.1004</th>\n",
              "    <th>-0.4224</th>\n",
              "    <th><50k</th>\n",
              "  </tr>\n",
              "  <tr>\n",
              "    <th> ?</th>\n",
              "    <th> HS-grad</th>\n",
              "    <th> Widowed</th>\n",
              "    <th> ?</th>\n",
              "    <th> Not-in-family</th>\n",
              "    <th> White</th>\n",
              "    <th>False</th>\n",
              "    <th>1.8627</th>\n",
              "    <th>0.0976</th>\n",
              "    <th>-0.4224</th>\n",
              "    <th><50k</th>\n",
              "  </tr>\n",
              "  <tr>\n",
              "    <th> Self-emp-not-inc</th>\n",
              "    <th> HS-grad</th>\n",
              "    <th> Never-married</th>\n",
              "    <th> Craft-repair</th>\n",
              "    <th> Own-child</th>\n",
              "    <th> Black</th>\n",
              "    <th>False</th>\n",
              "    <th>0.0303</th>\n",
              "    <th>0.2092</th>\n",
              "    <th>-0.4224</th>\n",
              "    <th><50k</th>\n",
              "  </tr>\n",
              "  <tr>\n",
              "    <th> Private</th>\n",
              "    <th> HS-grad</th>\n",
              "    <th> Married-civ-spouse</th>\n",
              "    <th> Protective-serv</th>\n",
              "    <th> Husband</th>\n",
              "    <th> White</th>\n",
              "    <th>False</th>\n",
              "    <th>1.5695</th>\n",
              "    <th>-0.5938</th>\n",
              "    <th>-0.4224</th>\n",
              "    <th><50k</th>\n",
              "  </tr>\n",
              "  <tr>\n",
              "    <th> Private</th>\n",
              "    <th> HS-grad</th>\n",
              "    <th> Married-civ-spouse</th>\n",
              "    <th> Handlers-cleaners</th>\n",
              "    <th> Husband</th>\n",
              "    <th> White</th>\n",
              "    <th>False</th>\n",
              "    <th>-0.9959</th>\n",
              "    <th>-0.0318</th>\n",
              "    <th>-0.4224</th>\n",
              "    <th><50k</th>\n",
              "  </tr>\n",
              "  <tr>\n",
              "    <th> Private</th>\n",
              "    <th> 10th</th>\n",
              "    <th> Married-civ-spouse</th>\n",
              "    <th> Farming-fishing</th>\n",
              "    <th> Wife</th>\n",
              "    <th> White</th>\n",
              "    <th>False</th>\n",
              "    <th>-0.7027</th>\n",
              "    <th>0.6071</th>\n",
              "    <th>-1.5958</th>\n",
              "    <th><50k</th>\n",
              "  </tr>\n",
              "  <tr>\n",
              "    <th> Private</th>\n",
              "    <th> HS-grad</th>\n",
              "    <th> Married-civ-spouse</th>\n",
              "    <th> Machine-op-inspct</th>\n",
              "    <th> Husband</th>\n",
              "    <th> White</th>\n",
              "    <th>False</th>\n",
              "    <th>0.1036</th>\n",
              "    <th>-0.0968</th>\n",
              "    <th>-0.4224</th>\n",
              "    <th><50k</th>\n",
              "  </tr>\n",
              "  <tr>\n",
              "    <th> Private</th>\n",
              "    <th> Some-college</th>\n",
              "    <th> Married-civ-spouse</th>\n",
              "    <th> Exec-managerial</th>\n",
              "    <th> Own-child</th>\n",
              "    <th> White</th>\n",
              "    <th>False</th>\n",
              "    <th>-0.7760</th>\n",
              "    <th>-0.6653</th>\n",
              "    <th>-0.0312</th>\n",
              "    <th>>=50k</th>\n",
              "  </tr>\n",
              "  <tr>\n",
              "    <th> State-gov</th>\n",
              "    <th> Some-college</th>\n",
              "    <th> Never-married</th>\n",
              "    <th> Tech-support</th>\n",
              "    <th> Own-child</th>\n",
              "    <th> White</th>\n",
              "    <th>False</th>\n",
              "    <th>-0.8493</th>\n",
              "    <th>-1.4959</th>\n",
              "    <th>-0.0312</th>\n",
              "    <th><50k</th>\n",
              "  </tr>\n",
              "  <tr>\n",
              "    <th> Private</th>\n",
              "    <th> 11th</th>\n",
              "    <th> Never-married</th>\n",
              "    <th> Machine-op-inspct</th>\n",
              "    <th> Not-in-family</th>\n",
              "    <th> White</th>\n",
              "    <th>False</th>\n",
              "    <th>-1.0692</th>\n",
              "    <th>-0.9516</th>\n",
              "    <th>-1.2046</th>\n",
              "    <th><50k</th>\n",
              "  </tr>\n",
              "</table>\n"
            ],
            "text/plain": [
              "<IPython.core.display.HTML object>"
            ]
          },
          "metadata": {
            "tags": []
          }
        }
      ]
    },
    {
      "cell_type": "code",
      "metadata": {
        "id": "w5EZngz60sTz",
        "colab_type": "code",
        "colab": {}
      },
      "source": [
        "learn = tabular_learner(data, layers=[200,100], metrics=accuracy)"
      ],
      "execution_count": null,
      "outputs": []
    },
    {
      "cell_type": "code",
      "metadata": {
        "id": "zgrbkzgz0sT2",
        "colab_type": "code",
        "colab": {},
        "outputId": "8dca638d-3daa-437e-ff7c-070fc58c0f81"
      },
      "source": [
        "learn.fit(1, 1e-2)"
      ],
      "execution_count": null,
      "outputs": [
        {
          "output_type": "display_data",
          "data": {
            "text/html": [
              "Total time: 00:03 <p><table style='width:300px; margin-bottom:10px'>\n",
              "  <tr>\n",
              "    <th>epoch</th>\n",
              "    <th>train_loss</th>\n",
              "    <th>valid_loss</th>\n",
              "    <th>accuracy</th>\n",
              "  </tr>\n",
              "  <tr>\n",
              "    <th>1</th>\n",
              "    <th>0.354604</th>\n",
              "    <th>0.378520</th>\n",
              "    <th>0.820000</th>\n",
              "  </tr>\n",
              "</table>\n"
            ],
            "text/plain": [
              "<IPython.core.display.HTML object>"
            ]
          },
          "metadata": {
            "tags": []
          }
        }
      ]
    },
    {
      "cell_type": "markdown",
      "metadata": {
        "id": "8LHoP-Sz0sT4",
        "colab_type": "text"
      },
      "source": [
        "## Inference"
      ]
    },
    {
      "cell_type": "code",
      "metadata": {
        "id": "vpk9K7tu0sT5",
        "colab_type": "code",
        "colab": {}
      },
      "source": [
        "row = df.iloc[0]"
      ],
      "execution_count": null,
      "outputs": []
    },
    {
      "cell_type": "code",
      "metadata": {
        "id": "WCIJh1Jm0sT7",
        "colab_type": "code",
        "colab": {},
        "outputId": "70e0db49-bf30-414d-d06a-58ebedbb7c6e"
      },
      "source": [
        "learn.predict(row)"
      ],
      "execution_count": null,
      "outputs": [
        {
          "output_type": "execute_result",
          "data": {
            "text/plain": [
              "(Category >=50k, tensor(1), tensor([0.4402, 0.5598]))"
            ]
          },
          "metadata": {
            "tags": []
          },
          "execution_count": 0
        }
      ]
    },
    {
      "cell_type": "code",
      "metadata": {
        "id": "gpV4nmmp0sT9",
        "colab_type": "code",
        "colab": {}
      },
      "source": [
        ""
      ],
      "execution_count": null,
      "outputs": []
    }
  ]
}