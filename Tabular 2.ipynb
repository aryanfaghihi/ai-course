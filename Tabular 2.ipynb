{
  "nbformat": 4,
  "nbformat_minor": 0,
  "metadata": {
    "colab": {
      "name": "Tabular 2.ipynb",
      "provenance": [],
      "collapsed_sections": [],
      "toc_visible": true,
      "authorship_tag": "ABX9TyP5G4kASOVFlTPrLK6sJ8hg",
      "include_colab_link": true
    },
    "kernelspec": {
      "name": "python3",
      "display_name": "Python 3"
    }
  },
  "cells": [
    {
      "cell_type": "markdown",
      "metadata": {
        "id": "view-in-github",
        "colab_type": "text"
      },
      "source": [
        "<a href=\"https://colab.research.google.com/github/aryanfaghihi/ai-course/blob/master/Tabular%202.ipynb\" target=\"_parent\"><img src=\"https://colab.research.google.com/assets/colab-badge.svg\" alt=\"Open In Colab\"/></a>"
      ]
    },
    {
      "cell_type": "markdown",
      "metadata": {
        "id": "UsPyui-BHTRm",
        "colab_type": "text"
      },
      "source": [
        "# Setup\n"
      ]
    },
    {
      "cell_type": "markdown",
      "metadata": {
        "id": "uDN1TG46HOAu",
        "colab_type": "text"
      },
      "source": [
        "## Make a copy\n",
        "\n",
        "**Follow the following steps to make your own copy. You will lose your changes if you don't make your own copy!**\n",
        "\n",
        "From the tooltip above, you should see \n",
        "\n",
        "File | Edit | View | Insert | Runtime | Tools | Help\n",
        "\n",
        "1. Click on **File**\n",
        "2. Click on **Save a copy in Drive**"
      ]
    },
    {
      "cell_type": "markdown",
      "metadata": {
        "id": "CUgSmgI1IJHt",
        "colab_type": "text"
      },
      "source": [
        "## Import"
      ]
    },
    {
      "cell_type": "markdown",
      "metadata": {
        "id": "4jkDj28D0sTi",
        "colab_type": "text"
      },
      "source": [
        "Let's import the packages we need for today. We will be using [`fastai`](https://www.fast.ai/) to create our AI model. This library makes it easy to get started. As the creators of `fastai` have put it:\n",
        "\n",
        "> `fastai` - Making neural nets uncool again!\n",
        "\n"
      ]
    },
    {
      "cell_type": "code",
      "metadata": {
        "id": "wwiGqvnA0sTj",
        "colab_type": "code",
        "colab": {
          "base_uri": "https://localhost:8080/",
          "height": 71
        },
        "outputId": "7697e46a-70f2-4f7b-f5bc-8cb5926adaec"
      },
      "source": [
        "from fastai.tabular import *\n",
        "import matplotlib as mpl\n",
        "import matplotlib.pyplot as plt \n",
        "import seaborn as sns"
      ],
      "execution_count": 6,
      "outputs": [
        {
          "output_type": "stream",
          "text": [
            "/usr/local/lib/python3.6/dist-packages/statsmodels/tools/_testing.py:19: FutureWarning: pandas.util.testing is deprecated. Use the functions in the public API at pandas.testing instead.\n",
            "  import pandas.util.testing as tm\n"
          ],
          "name": "stderr"
        }
      ]
    },
    {
      "cell_type": "markdown",
      "metadata": {
        "id": "6CiCvWRUxKLT",
        "colab_type": "text"
      },
      "source": [
        "# Data"
      ]
    },
    {
      "cell_type": "markdown",
      "metadata": {
        "id": "_pIBUhm0xOaa",
        "colab_type": "text"
      },
      "source": [
        "As always, the first we will do is to explore the dataset. We will be using the same dataset as before [(`The Adult Dataset`)](https://archive.ics.uci.edu/ml/datasets/adult). Since you are already familiar with the dataset, we will be focusing on more advanced topics today. "
      ]
    },
    {
      "cell_type": "code",
      "metadata": {
        "id": "ko1IPpDEydba",
        "colab_type": "code",
        "colab": {
          "base_uri": "https://localhost:8080/",
          "height": 34
        },
        "outputId": "da51503b-f180-4ed5-9bbb-e33984f423dc"
      },
      "source": [
        "# Downloading and unzipping the dataset\n",
        "path = untar_data(URLs.ADULT_SAMPLE)\n",
        "\n",
        "# Reading the csv dataset\n",
        "data = pd.read_csv(path/'adult.csv')"
      ],
      "execution_count": 2,
      "outputs": [
        {
          "output_type": "stream",
          "text": [
            "Downloading http://files.fast.ai/data/examples/adult_sample.tgz\n"
          ],
          "name": "stdout"
        },
        {
          "output_type": "display_data",
          "data": {
            "text/html": [
              ""
            ],
            "text/plain": [
              "<IPython.core.display.HTML object>"
            ]
          },
          "metadata": {
            "tags": []
          }
        }
      ]
    },
    {
      "cell_type": "markdown",
      "metadata": {
        "id": "LQ1EhQW8y3V0",
        "colab_type": "text"
      },
      "source": [
        "Let's remind ourselves of our dataset columns"
      ]
    },
    {
      "cell_type": "code",
      "metadata": {
        "id": "KVjDJdaiy8yL",
        "colab_type": "code",
        "colab": {
          "base_uri": "https://localhost:8080/",
          "height": 391
        },
        "outputId": "7bfa7bf2-a077-4cee-8dc1-7340e5d5f88b"
      },
      "source": [
        "data.info()"
      ],
      "execution_count": 5,
      "outputs": [
        {
          "output_type": "stream",
          "text": [
            "<class 'pandas.core.frame.DataFrame'>\n",
            "RangeIndex: 32561 entries, 0 to 32560\n",
            "Data columns (total 15 columns):\n",
            " #   Column          Non-Null Count  Dtype  \n",
            "---  ------          --------------  -----  \n",
            " 0   age             32561 non-null  int64  \n",
            " 1   workclass       32561 non-null  object \n",
            " 2   fnlwgt          32561 non-null  int64  \n",
            " 3   education       32561 non-null  object \n",
            " 4   education-num   32074 non-null  float64\n",
            " 5   marital-status  32561 non-null  object \n",
            " 6   occupation      32049 non-null  object \n",
            " 7   relationship    32561 non-null  object \n",
            " 8   race            32561 non-null  object \n",
            " 9   sex             32561 non-null  object \n",
            " 10  capital-gain    32561 non-null  int64  \n",
            " 11  capital-loss    32561 non-null  int64  \n",
            " 12  hours-per-week  32561 non-null  int64  \n",
            " 13  native-country  32561 non-null  object \n",
            " 14  salary          32561 non-null  object \n",
            "dtypes: float64(1), int64(5), object(9)\n",
            "memory usage: 3.7+ MB\n"
          ],
          "name": "stdout"
        }
      ]
    },
    {
      "cell_type": "markdown",
      "metadata": {
        "id": "lOtJ1y-gzuVb",
        "colab_type": "text"
      },
      "source": [
        "> Side note on `Non-Null Count`\n",
        "* Notice that most columns do not have any missing values. However some columns such as `occupation` have some missing (null) values\n",
        "* We will cover how to deal with missing values today"
      ]
    },
    {
      "cell_type": "markdown",
      "metadata": {
        "id": "dc0rRcb_zFus",
        "colab_type": "text"
      },
      "source": [
        "> Side note on `Dtype`\n",
        "* int64: integer (numerical/continuous)\n",
        "* float64: decimal (numerical/continuous)\n",
        "* object: text/string (categorical)"
      ]
    },
    {
      "cell_type": "markdown",
      "metadata": {
        "id": "0bj99lh4x-fG",
        "colab_type": "text"
      },
      "source": [
        "## Plotting"
      ]
    },
    {
      "cell_type": "markdown",
      "metadata": {
        "id": "dgjn_PdvyBXq",
        "colab_type": "text"
      },
      "source": [
        "Plotting helps us visualise the datasets much more quickly and make adjustments to our analysis. This is sometimes referred to as **Feature engineering** since we already have some understanding of the dataset and what each number means. "
      ]
    },
    {
      "cell_type": "code",
      "metadata": {
        "id": "j6HoJsDpwnkO",
        "colab_type": "code",
        "colab": {
          "base_uri": "https://localhost:8080/",
          "height": 265
        },
        "outputId": "fc550e10-736c-4135-cbf8-d0a8f85b1c7b"
      },
      "source": [
        "plt.hist(data['age']);"
      ],
      "execution_count": 9,
      "outputs": [
        {
          "output_type": "display_data",
          "data": {
            "image/png": "[encoded data removed]",
            "text/plain": [
              "<Figure size 432x288 with 1 Axes>"
            ]
          },
          "metadata": {
            "tags": [],
            "needs_background": "light"
          }
        }
      ]
    },
    {
      "cell_type": "markdown",
      "metadata": {
        "id": "TeJX0sr41XyX",
        "colab_type": "text"
      },
      "source": [
        "---\n",
        "\n",
        "⭐  Do you see any issues here?\n",
        "\n",
        "---"
      ]
    },
    {
      "cell_type": "code",
      "metadata": {
        "id": "qedt1E9k1TkG",
        "colab_type": "code",
        "colab": {}
      },
      "source": [
        ""
      ],
      "execution_count": null,
      "outputs": []
    }
  ]
}