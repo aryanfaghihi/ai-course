{
  "nbformat": 4,
  "nbformat_minor": 0,
  "metadata": {
    "colab": {
      "name": "Tabular 2.ipynb",
      "provenance": [],
      "collapsed_sections": [],
      "toc_visible": true,
      "authorship_tag": "ABX9TyNpKRW8owyTGdz0bTw0m8UH",
      "include_colab_link": true
    },
    "kernelspec": {
      "name": "python3",
      "display_name": "Python 3"
    }
  },
  "cells": [
    {
      "cell_type": "markdown",
      "metadata": {
        "id": "view-in-github",
        "colab_type": "text"
      },
      "source": [
        "<a href=\"https://colab.research.google.com/github/aryanfaghihi/ai-course/blob/master/Tabular%202.ipynb\" target=\"_parent\"><img src=\"https://colab.research.google.com/assets/colab-badge.svg\" alt=\"Open In Colab\"/></a>"
      ]
    },
    {
      "cell_type": "markdown",
      "metadata": {
        "id": "UsPyui-BHTRm",
        "colab_type": "text"
      },
      "source": [
        "# Setup\n"
      ]
    },
    {
      "cell_type": "markdown",
      "metadata": {
        "id": "uDN1TG46HOAu",
        "colab_type": "text"
      },
      "source": [
        "## Make a copy\n",
        "\n",
        "**Follow the following steps to make your own copy. You will lose your changes if you don't make your own copy!**\n",
        "\n",
        "From the tooltip above, you should see \n",
        "\n",
        "File | Edit | View | Insert | Runtime | Tools | Help\n",
        "\n",
        "1. Click on **File**\n",
        "2. Click on **Save a copy in Drive**"
      ]
    },
    {
      "cell_type": "markdown",
      "metadata": {
        "id": "CUgSmgI1IJHt",
        "colab_type": "text"
      },
      "source": [
        "## Import"
      ]
    },
    {
      "cell_type": "markdown",
      "metadata": {
        "id": "4jkDj28D0sTi",
        "colab_type": "text"
      },
      "source": [
        "Let's import the packages we need for today. We will be using [`fastai`](https://www.fast.ai/) to create our AI model. This library makes it easy to get started. As the creators of `fastai` have put it:\n",
        "\n",
        "> `fastai` - Making neural nets uncool again!\n",
        "\n"
      ]
    },
    {
      "cell_type": "code",
      "metadata": {
        "id": "wwiGqvnA0sTj",
        "colab_type": "code",
        "colab": {
          "base_uri": "https://localhost:8080/",
          "height": 71
        },
        "outputId": "b24d3e5b-70aa-42bb-8b79-dd9c6ce93f77"
      },
      "source": [
        "from fastai.tabular import *\n",
        "import matplotlib.pyplot as plt \n",
        "import seaborn as sns"
      ],
      "execution_count": null,
      "outputs": [
        {
          "output_type": "stream",
          "text": [
            "/usr/local/lib/python3.6/dist-packages/statsmodels/tools/_testing.py:19: FutureWarning: pandas.util.testing is deprecated. Use the functions in the public API at pandas.testing instead.\n",
            "  import pandas.util.testing as tm\n"
          ],
          "name": "stderr"
        }
      ]
    },
    {
      "cell_type": "markdown",
      "metadata": {
        "id": "6CiCvWRUxKLT",
        "colab_type": "text"
      },
      "source": [
        "# Data"
      ]
    },
    {
      "cell_type": "markdown",
      "metadata": {
        "id": "x8LjKeb94Z8R",
        "colab_type": "text"
      },
      "source": [
        "## Setup"
      ]
    },
    {
      "cell_type": "markdown",
      "metadata": {
        "id": "_pIBUhm0xOaa",
        "colab_type": "text"
      },
      "source": [
        "As always, the first we will do is to explore the dataset. We will be using the same dataset as before [(`The Adult Dataset`)](https://archive.ics.uci.edu/ml/datasets/adult). Since you are already familiar with the dataset, we will be focusing on more advanced topics today. "
      ]
    },
    {
      "cell_type": "code",
      "metadata": {
        "id": "ko1IPpDEydba",
        "colab_type": "code",
        "colab": {
          "base_uri": "https://localhost:8080/",
          "height": 34
        },
        "outputId": "d28cdb3f-a98c-44e3-dd34-338ef3efaf9c"
      },
      "source": [
        "# Downloading and unzipping the dataset\n",
        "path = untar_data(URLs.ADULT_SAMPLE)\n",
        "\n",
        "# Reading the csv dataset\n",
        "data = pd.read_csv(path/'adult.csv')"
      ],
      "execution_count": null,
      "outputs": [
        {
          "output_type": "stream",
          "text": [
            "Downloading http://files.fast.ai/data/examples/adult_sample.tgz\n"
          ],
          "name": "stdout"
        },
        {
          "output_type": "display_data",
          "data": {
            "text/html": [
              ""
            ],
            "text/plain": [
              "<IPython.core.display.HTML object>"
            ]
          },
          "metadata": {
            "tags": []
          }
        }
      ]
    },
    {
      "cell_type": "markdown",
      "metadata": {
        "id": "LQ1EhQW8y3V0",
        "colab_type": "text"
      },
      "source": [
        "Let's remind ourselves of our dataset columns"
      ]
    },
    {
      "cell_type": "code",
      "metadata": {
        "id": "KVjDJdaiy8yL",
        "colab_type": "code",
        "colab": {
          "base_uri": "https://localhost:8080/",
          "height": 391
        },
        "outputId": "61916a08-df35-4173-dcfd-2d81b6e28039"
      },
      "source": [
        "data.info()"
      ],
      "execution_count": null,
      "outputs": [
        {
          "output_type": "stream",
          "text": [
            "<class 'pandas.core.frame.DataFrame'>\n",
            "RangeIndex: 32561 entries, 0 to 32560\n",
            "Data columns (total 15 columns):\n",
            " #   Column          Non-Null Count  Dtype  \n",
            "---  ------          --------------  -----  \n",
            " 0   age             32561 non-null  int64  \n",
            " 1   workclass       32561 non-null  object \n",
            " 2   fnlwgt          32561 non-null  int64  \n",
            " 3   education       32561 non-null  object \n",
            " 4   education-num   32074 non-null  float64\n",
            " 5   marital-status  32561 non-null  object \n",
            " 6   occupation      32049 non-null  object \n",
            " 7   relationship    32561 non-null  object \n",
            " 8   race            32561 non-null  object \n",
            " 9   sex             32561 non-null  object \n",
            " 10  capital-gain    32561 non-null  int64  \n",
            " 11  capital-loss    32561 non-null  int64  \n",
            " 12  hours-per-week  32561 non-null  int64  \n",
            " 13  native-country  32561 non-null  object \n",
            " 14  salary          32561 non-null  object \n",
            "dtypes: float64(1), int64(5), object(9)\n",
            "memory usage: 3.7+ MB\n"
          ],
          "name": "stdout"
        }
      ]
    },
    {
      "cell_type": "markdown",
      "metadata": {
        "id": "lOtJ1y-gzuVb",
        "colab_type": "text"
      },
      "source": [
        "> Side note on `Non-Null Count`\n",
        "* Notice that most columns do not have any missing values. However some columns such as `occupation` have some missing (null) values\n",
        "* We will cover how to deal with missing values today"
      ]
    },
    {
      "cell_type": "markdown",
      "metadata": {
        "id": "dc0rRcb_zFus",
        "colab_type": "text"
      },
      "source": [
        "> Side note on `Dtype`\n",
        "* int64: integer (numerical/continuous)\n",
        "* float64: decimal (numerical/continuous)\n",
        "* object: text/string (categorical)"
      ]
    },
    {
      "cell_type": "markdown",
      "metadata": {
        "id": "0bj99lh4x-fG",
        "colab_type": "text"
      },
      "source": [
        "## Plotting"
      ]
    },
    {
      "cell_type": "markdown",
      "metadata": {
        "id": "dgjn_PdvyBXq",
        "colab_type": "text"
      },
      "source": [
        "Plotting helps us visualise the datasets much more quickly and make adjustments to our analysis. This is sometimes referred to as **Feature engineering** since we already have some understanding of the dataset and what each number means. "
      ]
    },
    {
      "cell_type": "markdown",
      "metadata": {
        "id": "coTAJ8uV4jhA",
        "colab_type": "text"
      },
      "source": [
        "### Age"
      ]
    },
    {
      "cell_type": "code",
      "metadata": {
        "id": "j6HoJsDpwnkO",
        "colab_type": "code",
        "colab": {
          "base_uri": "https://localhost:8080/",
          "height": 279
        },
        "outputId": "0da2ad79-7038-41a8-dca3-4e87619f0c49"
      },
      "source": [
        "## plotting a histogram of the age data\n",
        "sns.distplot(data['age']);"
      ],
      "execution_count": null,
      "outputs": [
        {
          "output_type": "display_data",
          "data": {
            "image/png": "[encoded data removed]",
            "text/plain": [
              "<Figure size 432x288 with 1 Axes>"
            ]
          },
          "metadata": {
            "tags": [],
            "needs_background": "light"
          }
        }
      ]
    },
    {
      "cell_type": "markdown",
      "metadata": {
        "id": "TeJX0sr41XyX",
        "colab_type": "text"
      },
      "source": [
        "---\n",
        "\n",
        "⭐  Do you see any issues here?\n",
        "\n",
        "---"
      ]
    },
    {
      "cell_type": "markdown",
      "metadata": {
        "id": "pk-9yoJP3KM4",
        "colab_type": "text"
      },
      "source": [
        "You might notice that the data is **skewed**. This means that our age data is not symmetrical. There are more values between the age group of 20-40 that there are between 50-80. Whenever we see data that does not look symmetrical, we will need to **normalise** our data. One way to do this is to pass the data into a `log` function. Let's see if that works."
      ]
    },
    {
      "cell_type": "code",
      "metadata": {
        "id": "qedt1E9k1TkG",
        "colab_type": "code",
        "colab": {
          "base_uri": "https://localhost:8080/",
          "height": 279
        },
        "outputId": "1c96ece1-bb67-473a-b95a-a1f861ed80da"
      },
      "source": [
        "## attemp to normalise the age data\n",
        "sns.distplot(log(data['age']));"
      ],
      "execution_count": null,
      "outputs": [
        {
          "output_type": "display_data",
          "data": {
            "image/png": "[encoded data removed]",
            "text/plain": [
              "<Figure size 432x288 with 1 Axes>"
            ]
          },
          "metadata": {
            "tags": [],
            "needs_background": "light"
          }
        }
      ]
    },
    {
      "cell_type": "markdown",
      "metadata": {
        "id": "ndXRXhkf32b9",
        "colab_type": "text"
      },
      "source": [
        "This looks a lot better! Now our data is more symmetrical than before. There are other ways of normalising data but `log` is used by most Deep Learning engineers whenever **normalisation** is required."
      ]
    },
    {
      "cell_type": "markdown",
      "metadata": {
        "id": "bKrIZ2_C5Mos",
        "colab_type": "text"
      },
      "source": [
        "### Workclass"
      ]
    },
    {
      "cell_type": "markdown",
      "metadata": {
        "id": "aT4TkrlB5O60",
        "colab_type": "text"
      },
      "source": [
        "How do we plot a categorical value? We need at least one numeric value. To do so we can convert our `salary` using the following logic\n",
        "* `salary < 50k = 0`\n",
        "* `salary >= 50k = 1`"
      ]
    },
    {
      "cell_type": "code",
      "metadata": {
        "id": "oepG_pOe7srS",
        "colab_type": "code",
        "colab": {}
      },
      "source": [
        "## Make a copy of the data\n",
        "data_mod = data.copy() \n",
        "\n",
        "## Replacing salary column with 0 and 1 taking 50k is the threshold\n",
        "data_mod['salary'] = data_mod['salary'].apply(lambda x: 1 if x=='>=50k' else 0)"
      ],
      "execution_count": null,
      "outputs": []
    },
    {
      "cell_type": "markdown",
      "metadata": {
        "id": "E3Oll3Eo-1Rh",
        "colab_type": "text"
      },
      "source": [
        "Ok, now we can plot a categorical plot. You can also call this a bar chart with categories in x axis."
      ]
    },
    {
      "cell_type": "code",
      "metadata": {
        "id": "kUVjokOQ3xne",
        "colab_type": "code",
        "colab": {
          "base_uri": "https://localhost:8080/",
          "height": 499
        },
        "outputId": "6ab2bb34-b84f-458a-e322-30ea8556cc24"
      },
      "source": [
        "## Plot the categorical plot\n",
        "sns.catplot(x=\"workclass\", y=\"salary\", kind='bar', height=6, data=data_mod)\n",
        "\n",
        "## Rotate the x axis by 45 degree to more easily see the labels\n",
        "plt.xticks(rotation=45);"
      ],
      "execution_count": null,
      "outputs": [
        {
          "output_type": "display_data",
          "data": {
            "image/png": "[encoded data removed]",
            "text/plain": [
              "<Figure size 432x432 with 1 Axes>"
            ]
          },
          "metadata": {
            "tags": [],
            "needs_background": "light"
          }
        }
      ]
    },
    {
      "cell_type": "markdown",
      "metadata": {
        "id": "vvj9CxpO_es_",
        "colab_type": "text"
      },
      "source": [
        "This plot shows the variatiob of each `workclass` category in their `salary`. The black line at the top of each bar chart indicates the *variation* in data. The smaller the black line the closer most data points are to the average value."
      ]
    },
    {
      "cell_type": "markdown",
      "metadata": {
        "id": "jWL84lyK_GHX",
        "colab_type": "text"
      },
      "source": [
        "---\n",
        "\n",
        "⭐  Can we merge `Without-pay` and `Never-worked` in this case?\n",
        "\n",
        "---"
      ]
    },
    {
      "cell_type": "markdown",
      "metadata": {
        "id": "pRn02p8FBJnj",
        "colab_type": "text"
      },
      "source": [
        "### Education"
      ]
    },
    {
      "cell_type": "markdown",
      "metadata": {
        "id": "cW7kOXkhBQCp",
        "colab_type": "text"
      },
      "source": [
        "---\n",
        "\n",
        "⭐  Plot a categorical bar chart for `education`\n",
        "\n",
        "---"
      ]
    },
    {
      "cell_type": "code",
      "metadata": {
        "id": "N_ZOphXz8Ohe",
        "colab_type": "code",
        "colab": {
          "base_uri": "https://localhost:8080/",
          "height": 232
        },
        "outputId": "156655cf-6fd3-4f84-adc4-c5b5997c485a"
      },
      "source": [
        "#################\n",
        "#### YOUR TURN\n",
        "################\n",
        "## Fill in the ___ below \n",
        "sns.catplot(x=____, y=____, kind=____, height=7, data=data_mod)\n",
        "\n",
        "## Rotate the x axis by 45 degree to more easily see the labels\n",
        "plt.xticks(rotation=60);\n",
        "\n",
        "## Hint: look at the previous section"
      ],
      "execution_count": null,
      "outputs": [
        {
          "output_type": "error",
          "ename": "NameError",
          "evalue": "ignored",
          "traceback": [
            "\u001b[0;31m---------------------------------------------------------------------------\u001b[0m",
            "\u001b[0;31mNameError\u001b[0m                                 Traceback (most recent call last)",
            "\u001b[0;32m<ipython-input-10-e6216be3988b>\u001b[0m in \u001b[0;36m<module>\u001b[0;34m()\u001b[0m\n\u001b[1;32m      3\u001b[0m \u001b[0;31m################\u001b[0m\u001b[0;34m\u001b[0m\u001b[0;34m\u001b[0m\u001b[0;34m\u001b[0m\u001b[0m\n\u001b[1;32m      4\u001b[0m \u001b[0;31m## Fill in the ___ below\u001b[0m\u001b[0;34m\u001b[0m\u001b[0;34m\u001b[0m\u001b[0;34m\u001b[0m\u001b[0m\n\u001b[0;32m----> 5\u001b[0;31m \u001b[0msns\u001b[0m\u001b[0;34m.\u001b[0m\u001b[0mcatplot\u001b[0m\u001b[0;34m(\u001b[0m\u001b[0mx\u001b[0m\u001b[0;34m=\u001b[0m\u001b[0m____\u001b[0m\u001b[0;34m,\u001b[0m \u001b[0my\u001b[0m\u001b[0;34m=\u001b[0m\u001b[0m____\u001b[0m\u001b[0;34m,\u001b[0m \u001b[0mkind\u001b[0m\u001b[0;34m=\u001b[0m\u001b[0m____\u001b[0m\u001b[0;34m,\u001b[0m \u001b[0mheight\u001b[0m\u001b[0;34m=\u001b[0m\u001b[0;36m7\u001b[0m\u001b[0;34m,\u001b[0m \u001b[0mdata\u001b[0m\u001b[0;34m=\u001b[0m\u001b[0mdata_mod\u001b[0m\u001b[0;34m)\u001b[0m\u001b[0;34m\u001b[0m\u001b[0;34m\u001b[0m\u001b[0m\n\u001b[0m\u001b[1;32m      6\u001b[0m \u001b[0;34m\u001b[0m\u001b[0m\n\u001b[1;32m      7\u001b[0m \u001b[0;31m## Rotate the x axis by 45 degree to more easily see the labels\u001b[0m\u001b[0;34m\u001b[0m\u001b[0;34m\u001b[0m\u001b[0;34m\u001b[0m\u001b[0m\n",
            "\u001b[0;31mNameError\u001b[0m: name '____' is not defined"
          ]
        }
      ]
    },
    {
      "cell_type": "markdown",
      "metadata": {
        "id": "m6Pagxu3CBsh",
        "colab_type": "text"
      },
      "source": [
        "You should always look at your dataset and see if it makes sense to you. You should always look out for **outliers** and **missing values**. These issues can lead to an inccurate model later when you start training."
      ]
    },
    {
      "cell_type": "markdown",
      "metadata": {
        "id": "4NT4wdDFCqBH",
        "colab_type": "text"
      },
      "source": [
        "### Occupation"
      ]
    },
    {
      "cell_type": "code",
      "metadata": {
        "id": "_-ApgiywBa8_",
        "colab_type": "code",
        "colab": {}
      },
      "source": [
        "## Plot the categorical plot\n",
        "sns.catplot(x=\"occupation\", y=\"salary\", kind='bar', height=7, data=data_mod)\n",
        "\n",
        "## Rotate the x axis by 45 degree to more easily see the labels\n",
        "plt.xticks(rotation=80);"
      ],
      "execution_count": null,
      "outputs": []
    },
    {
      "cell_type": "markdown",
      "metadata": {
        "id": "ikjdwI7aC6np",
        "colab_type": "text"
      },
      "source": [
        "Which `occupation` is more likely to have a higher salary? It is probably no surprise that `Exec-managerial` jobs have the highest paid out of all the other options."
      ]
    },
    {
      "cell_type": "markdown",
      "metadata": {
        "id": "gO6oaT42DZeM",
        "colab_type": "text"
      },
      "source": [
        "---\n",
        "\n",
        "⭐  Pick a categorical column and apply the same categorical plot\n",
        "\n",
        "---"
      ]
    },
    {
      "cell_type": "code",
      "metadata": {
        "id": "oK7EdKFjCuzR",
        "colab_type": "code",
        "colab": {}
      },
      "source": [
        "## This list might help you find some other categorical variables\n",
        "data_mod.info()"
      ],
      "execution_count": null,
      "outputs": []
    },
    {
      "cell_type": "code",
      "metadata": {
        "id": "q_O2XdKUEgn2",
        "colab_type": "code",
        "colab": {}
      },
      "source": [
        "#################\n",
        "#### YOUR TURN\n",
        "################\n",
        "## Fill in the ___ below \n",
        "sns.catplot(x=____, y=____, kind=____, height=____, data=data_mod)\n",
        "\n",
        "## Rotate the x axis\n",
        "plt.xticks(rotation=____);\n",
        "\n",
        "## Hint: look at the sections above"
      ],
      "execution_count": null,
      "outputs": []
    },
    {
      "cell_type": "markdown",
      "metadata": {
        "id": "ABzEHlkPzGbh",
        "colab_type": "text"
      },
      "source": [
        "### Multiple Variables"
      ]
    },
    {
      "cell_type": "markdown",
      "metadata": {
        "id": "HXfEYv2xzL15",
        "colab_type": "text"
      },
      "source": [
        "You also have another awesome tool in your toolkit and that is the `pairplot` function. This function will plot all variables against your chosen variable. Here we care about the `salary`. Of course, this might be an overkill for your data and often quite messy if you have a lot of variables like this example. \n",
        "\n",
        "When would you use it? It's useful to get a sense of data distribution and spotting outliers. You generally want to spot these issues and then dig deeper using the functions described in the earlier sections such as the `catplot()`."
      ]
    },
    {
      "cell_type": "code",
      "metadata": {
        "id": "Fgs80FylyyBx",
        "colab_type": "code",
        "colab": {}
      },
      "source": [
        "sns.pairplot(data_mod, hue=\"salary\");"
      ],
      "execution_count": null,
      "outputs": []
    },
    {
      "cell_type": "markdown",
      "metadata": {
        "id": "dPD1Ug8Wyfb-",
        "colab_type": "text"
      },
      "source": [
        "# Model"
      ]
    },
    {
      "cell_type": "markdown",
      "metadata": {
        "id": "GP1GBqtlyiWa",
        "colab_type": "text"
      },
      "source": [
        "## Preprocessing"
      ]
    },
    {
      "cell_type": "markdown",
      "metadata": {
        "id": "W4JrfZww0o_B",
        "colab_type": "text"
      },
      "source": [
        "**Preprocessing** is an important step in any Deep Learning task where we try to prepare our dataset for training the model. Notice that in the previous section we noticed some issues with our data and that is precisely why we need preprocessing to fix those problems. Some common preprocessing techniques are: \n",
        "\n",
        "* Normalization\n",
        "* Filling missing values\n",
        "* Categorization of categorical values\n",
        "\n",
        "We will dedicate this subsection in exploring what all of these actually mean. This will make it easier for you to create models with higher accuracy."
      ]
    },
    {
      "cell_type": "markdown",
      "metadata": {
        "id": "mouepgLy7Jxg",
        "colab_type": "text"
      },
      "source": [
        "### Normalization"
      ]
    },
    {
      "cell_type": "markdown",
      "metadata": {
        "id": "id_4fIfo7L4H",
        "colab_type": "text"
      },
      "source": [
        "Previously, we briefly discussed what normalization and how you can use `log` to normalize your data.\n",
        "> Normalization reduces the spread of data. This helps with generalisation of your model prediction"
      ]
    },
    {
      "cell_type": "markdown",
      "metadata": {
        "id": "LblA4AnP7zyB",
        "colab_type": "text"
      },
      "source": [
        "Let's look at the `age` column of our data again."
      ]
    },
    {
      "cell_type": "markdown",
      "metadata": {
        "id": "SNGXXViF-mpS",
        "colab_type": "text"
      },
      "source": [
        "---\n",
        "\n",
        "⭐ use the `head()` method to view column `age` of the data.\n",
        "\n",
        "---"
      ]
    },
    {
      "cell_type": "code",
      "metadata": {
        "id": "gMU65zXK9jtI",
        "colab_type": "code",
        "colab": {}
      },
      "source": [
        "## Use the head function to view column head of the data\n",
        "### YOUR CODE HERE\n",
        "data['age'].head()\n"
      ],
      "execution_count": null,
      "outputs": []
    },
    {
      "cell_type": "code",
      "metadata": {
        "id": "Sw2OY412yhES",
        "colab_type": "code",
        "colab": {}
      },
      "source": [
        "# make a copy of the data\n",
        "data_norm = data.copy()\n",
        "\n",
        "# normalise the age column\n",
        "Normalize([], ['age'])(data_norm)\n",
        "\n",
        "# view the head of the age column\n",
        "data_norm['age'].head()"
      ],
      "execution_count": null,
      "outputs": []
    },
    {
      "cell_type": "markdown",
      "metadata": {
        "id": "-BkvNEPn_OqC",
        "colab_type": "text"
      },
      "source": [
        "What changed? \n",
        "\n",
        "The `Normalize` function reduced the spread of data. It changed the spread from 20-100 to -3 to 3. This means the following mappings have occured:\n",
        "* 40 -> 0\n",
        "* 80 -> 3\n",
        "* 20 -> -2 \n",
        "* and so on...'\n",
        "\n",
        "Why do we do this? Because it helps your model in the traning phase. But why? because continuous variablese can have any value and in any range. Yes, this does not apply to `age` but what about someone's income? this could range from 0 to millions of dollar a year! Having such a large spread of data in a column makes it very difficult to learn anything. However, the smaller the spread for example -3 to 3 is much easier to work with and to learn from.\n",
        "\n",
        "> In practice, normalization is essential for continuous variables.\n",
        "\n"
      ]
    },
    {
      "cell_type": "markdown",
      "metadata": {
        "id": "G0sV31UMdz81",
        "colab_type": "text"
      },
      "source": [
        "---\n",
        "\n",
        "⭐  Your turn to apply normalization to another continuous column.\n",
        "\n",
        "---"
      ]
    },
    {
      "cell_type": "code",
      "metadata": {
        "id": "Wm5u3cQf8SCt",
        "colab_type": "code",
        "colab": {}
      },
      "source": [
        "## Pick a column with a continous variable and print its head\n",
        "### YOUR CODE HERE\n"
      ],
      "execution_count": null,
      "outputs": []
    },
    {
      "cell_type": "code",
      "metadata": {
        "id": "xoKKAbAveHsh",
        "colab_type": "code",
        "colab": {}
      },
      "source": [
        "## Pick a column with a continous variable and print its head\n",
        "# make a copy of the data\n",
        "data_norm = data.copy()\n",
        "\n",
        "# normalise the your chosen column\n",
        "### YOUR CODE HERE\n",
        "\n",
        "\n",
        "# view the head of the your normalized column\n",
        "### YOUR CODE HERE\n",
        "\n",
        "\n",
        "# Hint: look at the above example and follow its template"
      ],
      "execution_count": null,
      "outputs": []
    },
    {
      "cell_type": "markdown",
      "metadata": {
        "id": "xgnL6bnveeft",
        "colab_type": "text"
      },
      "source": [
        "### Missing Values"
      ]
    },
    {
      "cell_type": "markdown",
      "metadata": {
        "id": "4io-TPIfe0sr",
        "colab_type": "text"
      },
      "source": [
        "As you might have noticed, some cells in our dataset contains `NaN` (not a number) or `?` or sometimes it's completely empty (`null`). These are referred to as **missing values**. Dealing with these missing values are extremely important. Because if you don't replace them with anything, that row of data will *not* be used to train your model. Now would you really want to get rid of so many rows of your data just because one value is missing? Someties you do. But most of the time you don't. \n"
      ]
    },
    {
      "cell_type": "markdown",
      "metadata": {
        "id": "3ESBU0iCgm7c",
        "colab_type": "text"
      },
      "source": [
        "---\n",
        "\n",
        "⭐  How do we deal with missing values?\n",
        "\n",
        "---"
      ]
    },
    {
      "cell_type": "markdown",
      "metadata": {
        "id": "3jSuTrqRg95t",
        "colab_type": "text"
      },
      "source": [
        "Let's view the `data` once more but this time notice the missing values (`NaN`)"
      ]
    },
    {
      "cell_type": "code",
      "metadata": {
        "id": "yj_rwd4cehu7",
        "colab_type": "code",
        "colab": {}
      },
      "source": [
        "data.head()"
      ],
      "execution_count": null,
      "outputs": []
    },
    {
      "cell_type": "markdown",
      "metadata": {
        "id": "UVIZ06wChOzy",
        "colab_type": "text"
      },
      "source": [
        "Notice `education-num` in row `2` is equal to `NaN`."
      ]
    },
    {
      "cell_type": "markdown",
      "metadata": {
        "id": "0T96pPC5hmGu",
        "colab_type": "text"
      },
      "source": [
        "---\n",
        "\n",
        "⭐  Print the value of `education-num` in row `2`. \n",
        "\n",
        "---"
      ]
    },
    {
      "cell_type": "code",
      "metadata": {
        "id": "yYrEVnkYhDax",
        "colab_type": "code",
        "colab": {}
      },
      "source": [
        "## Use iloc[] to grab row 2 and print the value of column `education-num`\n",
        "### YOUR CODE HERE\n",
        "data.iloc[2]['education-num']\n"
      ],
      "execution_count": null,
      "outputs": []
    },
    {
      "cell_type": "markdown",
      "metadata": {
        "id": "-LsspxVJh8XM",
        "colab_type": "text"
      },
      "source": [
        "Ok, great we found a missing value. What can we do about it? \n",
        "\n",
        "There are multiple **strategies** to deal with missing values:\n",
        "* *MEDIAN*: nans are replaced by the median value of the column (median is found by sorting all column values and then choose the middle one)\n",
        "* *COMMON*: nans are replaced by the most common value of the column (also known as Mode, this is great for categorical columns)\n",
        "* *CONSTNAT*: nans are replaced by your chosen value\n",
        "\n",
        "Which one should you use?\n",
        "\n",
        "It's very much dependent on your dataset and whichever one would makes the most sense to you. It always helps to try to imagine you are manually trying to predict the output and think about which of these strategies would help you the most in your application. Sometimes it helps to try all of them and see which one works best (like a real scientist!)"
      ]
    },
    {
      "cell_type": "markdown",
      "metadata": {
        "id": "I6ywzfC0jI8a",
        "colab_type": "text"
      },
      "source": [
        "Ok, let's try replacing the missing values in the `education-num` column with the `MEDIAN`."
      ]
    },
    {
      "cell_type": "code",
      "metadata": {
        "id": "OzigllHZh1nU",
        "colab_type": "code",
        "colab": {}
      },
      "source": [
        "# make a copy of the data\n",
        "data_fillmiss = data.copy()\n",
        "\n",
        "# normalise the age column\n",
        "FillMissing([], ['education-num'], fill_strategy=FillStrategy.MEDIAN)(data_fillmiss)\n",
        "\n",
        "# view the head of the age column\n",
        "data_fillmiss['education-num'].head()"
      ],
      "execution_count": null,
      "outputs": []
    },
    {
      "cell_type": "markdown",
      "metadata": {
        "id": "BMw4kTi_kjUM",
        "colab_type": "text"
      },
      "source": [
        "Notice the value of row 2 changed to `10.0`. "
      ]
    },
    {
      "cell_type": "markdown",
      "metadata": {
        "id": "yproRPBWkxIu",
        "colab_type": "text"
      },
      "source": [
        "---\n",
        "\n",
        "⭐  Try the `COMMON` strategy for filling the missing values for `education-num`.\n",
        "\n",
        "---"
      ]
    },
    {
      "cell_type": "code",
      "metadata": {
        "id": "ib8Qns5Oj8L1",
        "colab_type": "code",
        "colab": {}
      },
      "source": [
        "## Pick a column with a continous variable and print its head\n",
        "# make a copy of the data\n",
        "data_fillmiss_v2 = data.copy()\n",
        "\n",
        "# normalise the your chosen column\n",
        "### YOUR CODE HERE\n",
        "\n",
        "\n",
        "# view the head of the your normalized column\n",
        "### YOUR CODE HERE\n",
        "\n",
        "\n",
        "\n",
        "# Hint 1: look at the above example and follow its template\n",
        "# Hint 2: FillStrategy.COMMON might come in handy"
      ],
      "execution_count": null,
      "outputs": []
    },
    {
      "cell_type": "markdown",
      "metadata": {
        "id": "z6TNJFLGlisn",
        "colab_type": "text"
      },
      "source": [
        "---\n",
        "\n",
        "⭐  Compare the difference between the two strategies.\n",
        "\n",
        "---"
      ]
    },
    {
      "cell_type": "markdown",
      "metadata": {
        "id": "ZbYUylRZluPR",
        "colab_type": "text"
      },
      "source": [
        "### Categorization"
      ]
    },
    {
      "cell_type": "markdown",
      "metadata": {
        "id": "__SZK6s5l8CZ",
        "colab_type": "text"
      },
      "source": [
        "Categorization is the process of replacing category values with numbers. Why? because models only work with number. We can't just input a text into it. We map each category name to a unique value. For example we map:\n",
        "* `Female` -> 1\n",
        "* `Male` -> 2\n",
        "* and so on...\n",
        "\n",
        "To help us with this process we can use the `Categorify()` method in `fastai`."
      ]
    },
    {
      "cell_type": "markdown",
      "metadata": {
        "id": "3rZecDg3nuke",
        "colab_type": "text"
      },
      "source": [
        "Let's select the `head()` of the `sex` column."
      ]
    },
    {
      "cell_type": "code",
      "metadata": {
        "id": "xo7WUKtdmK6d",
        "colab_type": "code",
        "colab": {}
      },
      "source": [
        "data['sex'].head()"
      ],
      "execution_count": null,
      "outputs": []
    },
    {
      "cell_type": "markdown",
      "metadata": {
        "id": "eWcW_B20n0J7",
        "colab_type": "text"
      },
      "source": [
        "And use a similar process as before to `Categorify` the `sex` column."
      ]
    },
    {
      "cell_type": "code",
      "metadata": {
        "id": "Xik7vmbUl-U1",
        "colab_type": "code",
        "colab": {}
      },
      "source": [
        "# make a copy of the data\n",
        "data_cat = data.copy()\n",
        "\n",
        "# normalise the sex column\n",
        "Categorify(['sex'], [])(data_cat)\n",
        "\n",
        "# view the head of the sex column\n",
        "data_cat['sex'].head()"
      ],
      "execution_count": null,
      "outputs": []
    },
    {
      "cell_type": "markdown",
      "metadata": {
        "id": "u4D3_HqVoBLw",
        "colab_type": "text"
      },
      "source": [
        "But wait, nothing changed? \n",
        "\n",
        "If you look closely, you can see that `dtype` changed from `object` to `category`. \n",
        "\n",
        "This is enough for `fastai` to internally allocate a unique number for both categories. \n",
        "\n",
        "If you're curious about what numbers actually get allocated, you can use `.cat.categories` to get exact index values for each category."
      ]
    },
    {
      "cell_type": "code",
      "metadata": {
        "id": "kRT1_JARmQOB",
        "colab_type": "code",
        "colab": {}
      },
      "source": [
        "data_cat['sex'].cat.categories"
      ],
      "execution_count": null,
      "outputs": []
    },
    {
      "cell_type": "markdown",
      "metadata": {
        "id": "3wCfnCtTojx8",
        "colab_type": "text"
      },
      "source": [
        "Here we can see the mapping:\n",
        "* 0 -> Female\n",
        "* 1 -> Male\n"
      ]
    },
    {
      "cell_type": "markdown",
      "metadata": {
        "id": "KthqQx-Novty",
        "colab_type": "text"
      },
      "source": [
        "## Training"
      ]
    },
    {
      "cell_type": "markdown",
      "metadata": {
        "id": "-L9ttFD_IRX-",
        "colab_type": "text"
      },
      "source": [
        "Finally, we are going to train our model. But this time we will be using the preprocessing techniques that we just covered."
      ]
    },
    {
      "cell_type": "markdown",
      "metadata": {
        "id": "VIUFsVmnJ2eX",
        "colab_type": "text"
      },
      "source": [
        "Let's continue with the same variables as last time plus `age`.\n",
        "\n",
        "> `salary` ~ `education` + `occupation` + `workclass` + `age`\n",
        "\n",
        "* **Dependent** variable: `salary`\n",
        "* **Independent** variables: `education` `occupation` `workclass` `age`"
      ]
    },
    {
      "cell_type": "code",
      "metadata": {
        "id": "cyret_PsoSN_",
        "colab_type": "code",
        "colab": {}
      },
      "source": [
        "# DEPEDENT VARIABLE (don't change this)\n",
        "dependent_variable = 'salary'\n",
        "\n",
        "# INDEPENDENT VARIABLES\n",
        "## Categorical\n",
        "categorical_variables = ['education', 'occupation', 'workclass']\n",
        "\n",
        "## Continuous\n",
        "continuous_variables = ['age']"
      ],
      "execution_count": null,
      "outputs": []
    },
    {
      "cell_type": "markdown",
      "metadata": {
        "id": "ax7O1Z98K5sQ",
        "colab_type": "text"
      },
      "source": [
        "How about the preprocessing? Well lucky for us `fastai` has made it super easy to add preprocessing to your pipeline. All we have to do is to pass a list of preprocessing operations we want into the dataloader."
      ]
    },
    {
      "cell_type": "code",
      "metadata": {
        "id": "oVpxEvcULNTK",
        "colab_type": "code",
        "colab": {
          "base_uri": "https://localhost:8080/",
          "height": 204
        },
        "outputId": "7310ee2e-51f6-4b0f-b7ff-4258ca281e17"
      },
      "source": [
        "## Preprocessing\n",
        "procs = [FillMissing, Categorify, Normalize]\n",
        "\n",
        "## Find validation subset indices\n",
        "training_split = 0.8\n",
        "valid_idx = range(int(training_split*len(data)), len(data)) # this will be useful for us later\n",
        "\n",
        "\n",
        "## DATALOADER\n",
        "dataloader = TabularDataBunch.from_df(path,                             # path to the csv file\n",
        "                                      data,                             # original data\n",
        "                                      dependent_variable,               # chosen dependent variable\n",
        "                                      cont_names=continuous_variables,  # continuous variables\n",
        "                                      cat_names=categorical_variables,  # continuous variables\n",
        "                                      valid_idx=valid_idx,              # indices for validation set\n",
        "                                      procs=procs)                      # list of preprocessing operations\n",
        "\n",
        "## Display a batch of data\n",
        "dataloader.show_batch()"
      ],
      "execution_count": null,
      "outputs": [
        {
          "output_type": "display_data",
          "data": {
            "text/html": [
              "<table border=\"1\" class=\"dataframe\">\n",
              "  <thead>\n",
              "    <tr style=\"text-align: right;\">\n",
              "      <th>education</th>\n",
              "      <th>occupation</th>\n",
              "      <th>workclass</th>\n",
              "      <th>age</th>\n",
              "      <th>target</th>\n",
              "    </tr>\n",
              "  </thead>\n",
              "  <tbody>\n",
              "    <tr>\n",
              "      <td>Some-college</td>\n",
              "      <td>Prof-specialty</td>\n",
              "      <td>Private</td>\n",
              "      <td>0.3155</td>\n",
              "      <td>&gt;=50k</td>\n",
              "    </tr>\n",
              "    <tr>\n",
              "      <td>HS-grad</td>\n",
              "      <td>Adm-clerical</td>\n",
              "      <td>Private</td>\n",
              "      <td>-0.4159</td>\n",
              "      <td>&lt;50k</td>\n",
              "    </tr>\n",
              "    <tr>\n",
              "      <td>Some-college</td>\n",
              "      <td>?</td>\n",
              "      <td>?</td>\n",
              "      <td>2.2904</td>\n",
              "      <td>&lt;50k</td>\n",
              "    </tr>\n",
              "    <tr>\n",
              "      <td>Some-college</td>\n",
              "      <td>Other-service</td>\n",
              "      <td>Private</td>\n",
              "      <td>0.2424</td>\n",
              "      <td>&lt;50k</td>\n",
              "    </tr>\n",
              "    <tr>\n",
              "      <td>Assoc-voc</td>\n",
              "      <td>Craft-repair</td>\n",
              "      <td>Private</td>\n",
              "      <td>-0.0502</td>\n",
              "      <td>&gt;=50k</td>\n",
              "    </tr>\n",
              "  </tbody>\n",
              "</table>"
            ],
            "text/plain": [
              "<IPython.core.display.HTML object>"
            ]
          },
          "metadata": {
            "tags": []
          }
        }
      ]
    },
    {
      "cell_type": "markdown",
      "metadata": {
        "id": "uDS9JAF7LaNu",
        "colab_type": "text"
      },
      "source": [
        "Now we are ready to train our model."
      ]
    },
    {
      "cell_type": "code",
      "metadata": {
        "id": "f_Je1XLoLcZZ",
        "colab_type": "code",
        "colab": {
          "base_uri": "https://localhost:8080/",
          "height": 204
        },
        "outputId": "dd0f4ead-e8d0-488a-993d-9a1973e8faaa"
      },
      "source": [
        "learn = tabular_learner(dataloader, layers=[200,100], metrics=accuracy)\n",
        "learn.fit(5)"
      ],
      "execution_count": null,
      "outputs": [
        {
          "output_type": "display_data",
          "data": {
            "text/html": [
              "<table border=\"1\" class=\"dataframe\">\n",
              "  <thead>\n",
              "    <tr style=\"text-align: left;\">\n",
              "      <th>epoch</th>\n",
              "      <th>train_loss</th>\n",
              "      <th>valid_loss</th>\n",
              "      <th>accuracy</th>\n",
              "      <th>time</th>\n",
              "    </tr>\n",
              "  </thead>\n",
              "  <tbody>\n",
              "    <tr>\n",
              "      <td>0</td>\n",
              "      <td>0.432111</td>\n",
              "      <td>0.418458</td>\n",
              "      <td>0.794718</td>\n",
              "      <td>00:05</td>\n",
              "    </tr>\n",
              "    <tr>\n",
              "      <td>1</td>\n",
              "      <td>0.428837</td>\n",
              "      <td>0.407404</td>\n",
              "      <td>0.808230</td>\n",
              "      <td>00:04</td>\n",
              "    </tr>\n",
              "    <tr>\n",
              "      <td>2</td>\n",
              "      <td>0.424983</td>\n",
              "      <td>0.409632</td>\n",
              "      <td>0.804545</td>\n",
              "      <td>00:04</td>\n",
              "    </tr>\n",
              "    <tr>\n",
              "      <td>3</td>\n",
              "      <td>0.418051</td>\n",
              "      <td>0.409607</td>\n",
              "      <td>0.805773</td>\n",
              "      <td>00:04</td>\n",
              "    </tr>\n",
              "    <tr>\n",
              "      <td>4</td>\n",
              "      <td>0.421099</td>\n",
              "      <td>0.407764</td>\n",
              "      <td>0.805620</td>\n",
              "      <td>00:04</td>\n",
              "    </tr>\n",
              "  </tbody>\n",
              "</table>"
            ],
            "text/plain": [
              "<IPython.core.display.HTML object>"
            ]
          },
          "metadata": {
            "tags": []
          }
        }
      ]
    },
    {
      "cell_type": "markdown",
      "metadata": {
        "id": "Zh2eN03kNJNi",
        "colab_type": "text"
      },
      "source": [
        "A couple of things here\n",
        "\n",
        "**What are layers?**\n",
        "> They are the number of learnable units you have in your model. The larger these values, the more empty \"brain cells\" you have in your model to learn from the data. There should be balance between the number of layers and the size of your dataset. If you do not have enough data to learn from, having more \"brain cells\" will not help you, in fact, in makes it more difficult to learn as the other \"brain cells\" interfere. Deep Learning engineers sometimes spend months on findin the correct number of layers for their datasets so don't expect to get it right the first time!\n",
        "\n",
        "**what is loss?**\n",
        "> It's the difference between what the model predicted and the correct answer. You would want to minimise this number."
      ]
    },
    {
      "cell_type": "markdown",
      "metadata": {
        "id": "vZrT6S29OFAw",
        "colab_type": "text"
      },
      "source": [
        "---\n",
        "\n",
        "⭐  What is the difference between `train_loss` and `valid_loss`?\n",
        "\n",
        "---"
      ]
    },
    {
      "cell_type": "markdown",
      "metadata": {
        "id": "8FAxqZzION5t",
        "colab_type": "text"
      },
      "source": [
        "You should always look at the `valid_loss` as this indicates the true loss of your model (since the model has not seen this dataset). The moment your `valid_loss` starts to increase you should stop training your model. Why? "
      ]
    },
    {
      "cell_type": "markdown",
      "metadata": {
        "id": "AqaG0gbZPBiQ",
        "colab_type": "text"
      },
      "source": [
        "We will discuss the importance of `valid_loss` and `train_loss` in the following lessons but for now just remember that once your `valid_loss` starts to increase consistently, you should stop training because you are essentially memorising the training dataset."
      ]
    },
    {
      "cell_type": "markdown",
      "metadata": {
        "id": "vcfaSlW6QeU4",
        "colab_type": "text"
      },
      "source": [
        "# Your Turn"
      ]
    },
    {
      "cell_type": "markdown",
      "metadata": {
        "id": "AVpYHF6VTl1B",
        "colab_type": "text"
      },
      "source": [
        "## Setup"
      ]
    },
    {
      "cell_type": "markdown",
      "metadata": {
        "id": "u0PEcDdySClM",
        "colab_type": "text"
      },
      "source": [
        "Who survived Titanic?!\n",
        "\n",
        "Here you have a chance to predict who survived Titanic based on their information. \n",
        "\n",
        "More information on the dataset [here](https://web.stanford.edu/class/archive/cs/cs109/cs109.1166/problem12.html)"
      ]
    },
    {
      "cell_type": "code",
      "metadata": {
        "id": "kNghwFBjQdw7",
        "colab_type": "code",
        "colab": {}
      },
      "source": [
        "dataset_url = 'https://web.stanford.edu/class/archive/cs/cs109/cs109.1166/stuff/titanic.csv'\n",
        "data = pd.read_csv(dataset_url)"
      ],
      "execution_count": null,
      "outputs": []
    },
    {
      "cell_type": "markdown",
      "metadata": {
        "id": "SgyQNEYPSeaz",
        "colab_type": "text"
      },
      "source": [
        "---\n",
        "\n",
        "⭐ Let's walk through this together\n",
        "\n",
        "---"
      ]
    },
    {
      "cell_type": "markdown",
      "metadata": {
        "id": "OR-TaBrHTqWS",
        "colab_type": "text"
      },
      "source": [
        "## Data"
      ]
    },
    {
      "cell_type": "code",
      "metadata": {
        "id": "ThiBJew4Sr_e",
        "colab_type": "code",
        "colab": {}
      },
      "source": [
        "## Print the info() of the data \n",
        "### YOUR CODE HERE\n",
        "\n"
      ],
      "execution_count": null,
      "outputs": []
    },
    {
      "cell_type": "code",
      "metadata": {
        "id": "_PvcFVmOMWxa",
        "colab_type": "code",
        "colab": {}
      },
      "source": [
        "## Print the .head() of the data to have a quick look\n",
        "### YOUR CODE HERE\n",
        "\n"
      ],
      "execution_count": null,
      "outputs": []
    },
    {
      "cell_type": "code",
      "metadata": {
        "id": "CYqJLfxURCCN",
        "colab_type": "code",
        "colab": {}
      },
      "source": [
        "## Plot the spread in Age using sns.distplot()\n",
        "### YOUR CODE HERE\n",
        "\n"
      ],
      "execution_count": null,
      "outputs": []
    },
    {
      "cell_type": "code",
      "metadata": {
        "id": "rt57CjtcTSXf",
        "colab_type": "code",
        "colab": {}
      },
      "source": [
        "## Plot the spread in Fare using sns.distplot()\n",
        "### YOUR CODE HERE\n",
        "\n"
      ],
      "execution_count": null,
      "outputs": []
    },
    {
      "cell_type": "markdown",
      "metadata": {
        "id": "B8ceKQx9T97z",
        "colab_type": "text"
      },
      "source": [
        "## Model"
      ]
    },
    {
      "cell_type": "code",
      "metadata": {
        "id": "jJgoANIXUDPE",
        "colab_type": "code",
        "colab": {}
      },
      "source": [
        "# DEPEDENT VARIABLE (don't change this)\n",
        "dependent_variable = 'Survived'\n",
        "\n",
        "# INDEPENDENT VARIABLES\n",
        "## Categorical\n",
        "categorical_variables = []\n",
        "\n",
        "## Continuous\n",
        "continuous_variables = []"
      ],
      "execution_count": null,
      "outputs": []
    },
    {
      "cell_type": "code",
      "metadata": {
        "id": "rWQKMyt3T_y9",
        "colab_type": "code",
        "colab": {}
      },
      "source": [
        "## Preprocessing\n",
        "procs = [FillMissing, Categorify, Normalize]\n",
        "\n",
        "## Find validation subset indices\n",
        "training_split = 0.8\n",
        "valid_idx = range(int(training_split*len(data)), len(data)) # this will be useful for us later\n",
        "\n",
        "\n",
        "## DATALOADER\n",
        "dataloader = TabularDataBunch.from_df(path,                             # path to the csv file\n",
        "                                      data,                             # original data\n",
        "                                      dependent_variable,               # chosen dependent variable\n",
        "                                      cont_names=continuous_variables,  # continuous variables\n",
        "                                      cat_names=categorical_variables,  # continuous variables\n",
        "                                      valid_idx=valid_idx,              # indices for validation set\n",
        "                                      procs=procs)                      # list of preprocessing operations\n",
        "\n",
        "## Display a batch of data\n",
        "dataloader.show_batch()"
      ],
      "execution_count": null,
      "outputs": []
    },
    {
      "cell_type": "code",
      "metadata": {
        "id": "kbc7gT4hUMd5",
        "colab_type": "code",
        "colab": {}
      },
      "source": [
        "learn = tabular_learner(dataloader, layers=[100,50], metrics=accuracy)\n",
        "learn.fit(10)"
      ],
      "execution_count": null,
      "outputs": []
    },
    {
      "cell_type": "markdown",
      "metadata": {
        "id": "zFX1Ipu4VDKG",
        "colab_type": "text"
      },
      "source": [
        "Things you should play around with:\n",
        "* `categorical_variables`\n",
        "* `continuous_variables`\n",
        "* `training_split`\n",
        "* `layers` in `tabular_learner`\n",
        "* `epochs` in `learn.fit`"
      ]
    },
    {
      "cell_type": "markdown",
      "metadata": {
        "id": "lBWYrB1xVX2K",
        "colab_type": "text"
      },
      "source": [
        "# Summary"
      ]
    },
    {
      "cell_type": "markdown",
      "metadata": {
        "id": "rtJB9qHNTUOa",
        "colab_type": "text"
      },
      "source": [
        "Today we covered: \n",
        "\n",
        "* How to plot both continuous and categorical variables\n",
        "* Preprocessing\n",
        "  * Normalization -> reduce spread in our data\n",
        "  * Missing values -> remove `NaN` or `?` from data\n",
        "  * Categorization -> replace category names with unique numbers\n"
      ]
    }
  ]
}