{
  "nbformat": 4,
  "nbformat_minor": 0,
  "metadata": {
    "colab": {
      "name": "Tabular 2.ipynb",
      "provenance": [],
      "collapsed_sections": [],
      "toc_visible": true,
      "authorship_tag": "ABX9TyN5SvmpXUXBBUuKJDCIur+S",
      "include_colab_link": true
    },
    "kernelspec": {
      "name": "python3",
      "display_name": "Python 3"
    }
  },
  "cells": [
    {
      "cell_type": "markdown",
      "metadata": {
        "id": "view-in-github",
        "colab_type": "text"
      },
      "source": [
        "<a href=\"https://colab.research.google.com/github/aryanfaghihi/ai-course/blob/master/Tabular%202.ipynb\" target=\"_parent\"><img src=\"https://colab.research.google.com/assets/colab-badge.svg\" alt=\"Open In Colab\"/></a>"
      ]
    },
    {
      "cell_type": "markdown",
      "metadata": {
        "id": "UsPyui-BHTRm",
        "colab_type": "text"
      },
      "source": [
        "# Setup\n"
      ]
    },
    {
      "cell_type": "markdown",
      "metadata": {
        "id": "uDN1TG46HOAu",
        "colab_type": "text"
      },
      "source": [
        "## Make a copy\n",
        "\n",
        "**Follow the following steps to make your own copy. You will lose your changes if you don't make your own copy!**\n",
        "\n",
        "From the tooltip above, you should see \n",
        "\n",
        "File | Edit | View | Insert | Runtime | Tools | Help\n",
        "\n",
        "1. Click on **File**\n",
        "2. Click on **Save a copy in Drive**"
      ]
    },
    {
      "cell_type": "markdown",
      "metadata": {
        "id": "CUgSmgI1IJHt",
        "colab_type": "text"
      },
      "source": [
        "## Import"
      ]
    },
    {
      "cell_type": "markdown",
      "metadata": {
        "id": "4jkDj28D0sTi",
        "colab_type": "text"
      },
      "source": [
        "Let's import the packages we need for today. We will be using [`fastai`](https://www.fast.ai/) to create our AI model. This library makes it easy to get started. As the creators of `fastai` have put it:\n",
        "\n",
        "> `fastai` - Making neural nets uncool again!\n",
        "\n"
      ]
    },
    {
      "cell_type": "code",
      "metadata": {
        "id": "wwiGqvnA0sTj",
        "colab_type": "code",
        "colab": {
          "base_uri": "https://localhost:8080/",
          "height": 71
        },
        "outputId": "7697e46a-70f2-4f7b-f5bc-8cb5926adaec"
      },
      "source": [
        "from fastai.tabular import *\n",
        "import matplotlib as mpl\n",
        "import matplotlib.pyplot as plt \n",
        "import seaborn as sns"
      ],
      "execution_count": null,
      "outputs": [
        {
          "output_type": "stream",
          "text": [
            "/usr/local/lib/python3.6/dist-packages/statsmodels/tools/_testing.py:19: FutureWarning: pandas.util.testing is deprecated. Use the functions in the public API at pandas.testing instead.\n",
            "  import pandas.util.testing as tm\n"
          ],
          "name": "stderr"
        }
      ]
    },
    {
      "cell_type": "markdown",
      "metadata": {
        "id": "6CiCvWRUxKLT",
        "colab_type": "text"
      },
      "source": [
        "# Data"
      ]
    },
    {
      "cell_type": "markdown",
      "metadata": {
        "id": "x8LjKeb94Z8R",
        "colab_type": "text"
      },
      "source": [
        "## Setup"
      ]
    },
    {
      "cell_type": "markdown",
      "metadata": {
        "id": "_pIBUhm0xOaa",
        "colab_type": "text"
      },
      "source": [
        "As always, the first we will do is to explore the dataset. We will be using the same dataset as before [(`The Adult Dataset`)](https://archive.ics.uci.edu/ml/datasets/adult). Since you are already familiar with the dataset, we will be focusing on more advanced topics today. "
      ]
    },
    {
      "cell_type": "code",
      "metadata": {
        "id": "ko1IPpDEydba",
        "colab_type": "code",
        "colab": {}
      },
      "source": [
        "# Downloading and unzipping the dataset\n",
        "path = untar_data(URLs.ADULT_SAMPLE)\n",
        "\n",
        "# Reading the csv dataset\n",
        "data = pd.read_csv(path/'adult.csv')"
      ],
      "execution_count": null,
      "outputs": []
    },
    {
      "cell_type": "markdown",
      "metadata": {
        "id": "LQ1EhQW8y3V0",
        "colab_type": "text"
      },
      "source": [
        "Let's remind ourselves of our dataset columns"
      ]
    },
    {
      "cell_type": "code",
      "metadata": {
        "id": "KVjDJdaiy8yL",
        "colab_type": "code",
        "colab": {
          "base_uri": "https://localhost:8080/",
          "height": 391
        },
        "outputId": "7bfa7bf2-a077-4cee-8dc1-7340e5d5f88b"
      },
      "source": [
        "data.info()"
      ],
      "execution_count": null,
      "outputs": [
        {
          "output_type": "stream",
          "text": [
            "<class 'pandas.core.frame.DataFrame'>\n",
            "RangeIndex: 32561 entries, 0 to 32560\n",
            "Data columns (total 15 columns):\n",
            " #   Column          Non-Null Count  Dtype  \n",
            "---  ------          --------------  -----  \n",
            " 0   age             32561 non-null  int64  \n",
            " 1   workclass       32561 non-null  object \n",
            " 2   fnlwgt          32561 non-null  int64  \n",
            " 3   education       32561 non-null  object \n",
            " 4   education-num   32074 non-null  float64\n",
            " 5   marital-status  32561 non-null  object \n",
            " 6   occupation      32049 non-null  object \n",
            " 7   relationship    32561 non-null  object \n",
            " 8   race            32561 non-null  object \n",
            " 9   sex             32561 non-null  object \n",
            " 10  capital-gain    32561 non-null  int64  \n",
            " 11  capital-loss    32561 non-null  int64  \n",
            " 12  hours-per-week  32561 non-null  int64  \n",
            " 13  native-country  32561 non-null  object \n",
            " 14  salary          32561 non-null  object \n",
            "dtypes: float64(1), int64(5), object(9)\n",
            "memory usage: 3.7+ MB\n"
          ],
          "name": "stdout"
        }
      ]
    },
    {
      "cell_type": "markdown",
      "metadata": {
        "id": "lOtJ1y-gzuVb",
        "colab_type": "text"
      },
      "source": [
        "> Side note on `Non-Null Count`\n",
        "* Notice that most columns do not have any missing values. However some columns such as `occupation` have some missing (null) values\n",
        "* We will cover how to deal with missing values today"
      ]
    },
    {
      "cell_type": "markdown",
      "metadata": {
        "id": "dc0rRcb_zFus",
        "colab_type": "text"
      },
      "source": [
        "> Side note on `Dtype`\n",
        "* int64: integer (numerical/continuous)\n",
        "* float64: decimal (numerical/continuous)\n",
        "* object: text/string (categorical)"
      ]
    },
    {
      "cell_type": "markdown",
      "metadata": {
        "id": "0bj99lh4x-fG",
        "colab_type": "text"
      },
      "source": [
        "## Plotting"
      ]
    },
    {
      "cell_type": "markdown",
      "metadata": {
        "id": "dgjn_PdvyBXq",
        "colab_type": "text"
      },
      "source": [
        "Plotting helps us visualise the datasets much more quickly and make adjustments to our analysis. This is sometimes referred to as **Feature engineering** since we already have some understanding of the dataset and what each number means. "
      ]
    },
    {
      "cell_type": "markdown",
      "metadata": {
        "id": "coTAJ8uV4jhA",
        "colab_type": "text"
      },
      "source": [
        "### Age"
      ]
    },
    {
      "cell_type": "code",
      "metadata": {
        "id": "j6HoJsDpwnkO",
        "colab_type": "code",
        "colab": {
          "base_uri": "https://localhost:8080/",
          "height": 265
        },
        "outputId": "badd6807-df6f-4d70-9360-0e3013bfb0ef"
      },
      "source": [
        "## plotting a histogram of the age data\n",
        "plt.hist(data['age']);"
      ],
      "execution_count": null,
      "outputs": [
        {
          "output_type": "display_data",
          "data": {
            "image/png": "[encoded data removed]",
            "text/plain": [
              "<Figure size 432x288 with 1 Axes>"
            ]
          },
          "metadata": {
            "tags": [],
            "needs_background": "light"
          }
        }
      ]
    },
    {
      "cell_type": "markdown",
      "metadata": {
        "id": "TeJX0sr41XyX",
        "colab_type": "text"
      },
      "source": [
        "---\n",
        "\n",
        "⭐  Do you see any issues here?\n",
        "\n",
        "---"
      ]
    },
    {
      "cell_type": "markdown",
      "metadata": {
        "id": "pk-9yoJP3KM4",
        "colab_type": "text"
      },
      "source": [
        "You might notice that the data is **skewed**. This means that our age data is not symmetrical. There are more values between the age group of 20-40 that there are between 50-80. Whenever we see data that does not look symmetrical, we will need to **normalise** our data. One way to do this is to pass the data into a `log` function. Let's see if that works."
      ]
    },
    {
      "cell_type": "code",
      "metadata": {
        "id": "qedt1E9k1TkG",
        "colab_type": "code",
        "colab": {
          "base_uri": "https://localhost:8080/",
          "height": 336
        },
        "outputId": "dfbe4fc3-6987-45c3-8963-74a2dfb0c93d"
      },
      "source": [
        "## attemp to normalise the age data\n",
        "plt.hist(log(data['age']))"
      ],
      "execution_count": null,
      "outputs": [
        {
          "output_type": "execute_result",
          "data": {
            "text/plain": [
              "(array([2410., 2362., 4126., 4265., 5161., 5347., 4382., 3172., 1141.,  195.]),\n",
              " array([2.833213, 2.999873, 3.166533, 3.333192, 3.499852, 3.666512, 3.833171, 3.999831, 4.16649 , 4.33315 , 4.49981 ]),\n",
              " <a list of 10 Patch objects>)"
            ]
          },
          "metadata": {
            "tags": []
          },
          "execution_count": 10
        },
        {
          "output_type": "display_data",
          "data": {
            "image/png": "[encoded data removed]",
            "text/plain": [
              "<Figure size 432x288 with 1 Axes>"
            ]
          },
          "metadata": {
            "tags": [],
            "needs_background": "light"
          }
        }
      ]
    },
    {
      "cell_type": "markdown",
      "metadata": {
        "id": "ndXRXhkf32b9",
        "colab_type": "text"
      },
      "source": [
        "This looks a lot better! Now our data is more symmetrical than before. There are other ways of normalising data but `log` is used by most Deep Learning engineers whenever **normalisation** is required."
      ]
    },
    {
      "cell_type": "markdown",
      "metadata": {
        "id": "bKrIZ2_C5Mos",
        "colab_type": "text"
      },
      "source": [
        "### Workclass"
      ]
    },
    {
      "cell_type": "markdown",
      "metadata": {
        "id": "aT4TkrlB5O60",
        "colab_type": "text"
      },
      "source": [
        "How do we plot a categorical value? We need at least one numeric value. To do so we can convert our `salary` using the following logic\n",
        "* `salary < 50k = 0`\n",
        "* `salary >= 50k = 1`"
      ]
    },
    {
      "cell_type": "code",
      "metadata": {
        "id": "oepG_pOe7srS",
        "colab_type": "code",
        "colab": {}
      },
      "source": [
        "## Make a copy of the data\n",
        "data_mod = data.copy() \n",
        "\n",
        "## Replacing salary column with 0 and 1 taking 50k is the threshold\n",
        "data_mod['salary'] = data_mod['salary'].apply(lambda x: 1 if x=='>=50k' else 0)"
      ],
      "execution_count": null,
      "outputs": []
    },
    {
      "cell_type": "markdown",
      "metadata": {
        "id": "E3Oll3Eo-1Rh",
        "colab_type": "text"
      },
      "source": [
        "Ok, now we can plot a categorical plot. You can also call this a bar chart with categories in x axis."
      ]
    },
    {
      "cell_type": "code",
      "metadata": {
        "id": "kUVjokOQ3xne",
        "colab_type": "code",
        "colab": {
          "base_uri": "https://localhost:8080/",
          "height": 499
        },
        "outputId": "c1d8ecf5-f0a5-4a21-f17c-d907b0b884ae"
      },
      "source": [
        "## Plot the categorical plot\n",
        "sns.catplot(x=\"workclass\", y=\"salary\", kind='bar', height=6, data=data_mod)\n",
        "\n",
        "## Rotate the x axis by 45 degree to more easily see the labels\n",
        "plt.xticks(rotation=45);"
      ],
      "execution_count": null,
      "outputs": [
        {
          "output_type": "display_data",
          "data": {
            "image/png": "[encoded data removed]",
            "text/plain": [
              "<Figure size 432x432 with 1 Axes>"
            ]
          },
          "metadata": {
            "tags": [],
            "needs_background": "light"
          }
        }
      ]
    },
    {
      "cell_type": "markdown",
      "metadata": {
        "id": "vvj9CxpO_es_",
        "colab_type": "text"
      },
      "source": [
        "This plot shows the variatiob of each `workclass` category in their `salary`. The black line at the top of each bar chart indicates the *variation* in data. The smaller the black line the closer most data points are to the average value."
      ]
    },
    {
      "cell_type": "markdown",
      "metadata": {
        "id": "jWL84lyK_GHX",
        "colab_type": "text"
      },
      "source": [
        "---\n",
        "\n",
        "⭐  Can we merge `Without-pay` and `Never-worked` in this case?\n",
        "\n",
        "---"
      ]
    },
    {
      "cell_type": "markdown",
      "metadata": {
        "id": "pRn02p8FBJnj",
        "colab_type": "text"
      },
      "source": [
        "### Education"
      ]
    },
    {
      "cell_type": "markdown",
      "metadata": {
        "id": "cW7kOXkhBQCp",
        "colab_type": "text"
      },
      "source": [
        "---\n",
        "\n",
        "⭐  Plot a categorical bar chart for `education`\n",
        "\n",
        "---"
      ]
    },
    {
      "cell_type": "code",
      "metadata": {
        "id": "N_ZOphXz8Ohe",
        "colab_type": "code",
        "colab": {}
      },
      "source": [
        "#################\n",
        "#### YOUR TURN\n",
        "################\n",
        "## Fill in the ___ below \n",
        "sns.catplot(x=____, y=____, kind=____, height=7, data=data_mod)\n",
        "\n",
        "## Rotate the x axis by 45 degree to more easily see the labels\n",
        "plt.xticks(rotation=60);\n",
        "\n",
        "## Hint: look at the previous section"
      ],
      "execution_count": null,
      "outputs": []
    },
    {
      "cell_type": "markdown",
      "metadata": {
        "id": "m6Pagxu3CBsh",
        "colab_type": "text"
      },
      "source": [
        "You should always look at your dataset and see if it makes sense to you. You should always look out for **outliers** and **missing values**. These issues can lead to an inccurate model later when you start training."
      ]
    },
    {
      "cell_type": "markdown",
      "metadata": {
        "id": "4NT4wdDFCqBH",
        "colab_type": "text"
      },
      "source": [
        "### Occupation"
      ]
    },
    {
      "cell_type": "code",
      "metadata": {
        "id": "_-ApgiywBa8_",
        "colab_type": "code",
        "colab": {
          "base_uri": "https://localhost:8080/",
          "height": 598
        },
        "outputId": "dd40a3eb-9b8e-4ae3-cde2-a7c57fd629da"
      },
      "source": [
        "## Plot the categorical plot\n",
        "sns.catplot(x=\"occupation\", y=\"salary\", kind='bar', height=7, data=data_mod)\n",
        "\n",
        "## Rotate the x axis by 45 degree to more easily see the labels\n",
        "plt.xticks(rotation=80);"
      ],
      "execution_count": null,
      "outputs": [
        {
          "output_type": "display_data",
          "data": {
            "image/png": "[encoded data removed]",
            "text/plain": [
              "<Figure size 504x504 with 1 Axes>"
            ]
          },
          "metadata": {
            "tags": [],
            "needs_background": "light"
          }
        }
      ]
    },
    {
      "cell_type": "markdown",
      "metadata": {
        "id": "ikjdwI7aC6np",
        "colab_type": "text"
      },
      "source": [
        "Which `occupation` is more likely to have a higher salary? It is probably no surprise that `Exec-managerial` jobs have the highest paid out of all the other options."
      ]
    },
    {
      "cell_type": "markdown",
      "metadata": {
        "id": "gO6oaT42DZeM",
        "colab_type": "text"
      },
      "source": [
        "---\n",
        "\n",
        "⭐  Pick a categorical column and apply the same categorical plot\n",
        "\n",
        "---"
      ]
    },
    {
      "cell_type": "code",
      "metadata": {
        "id": "oK7EdKFjCuzR",
        "colab_type": "code",
        "colab": {
          "base_uri": "https://localhost:8080/",
          "height": 391
        },
        "outputId": "dd7143fa-8cfe-4a27-c6ef-59a7a66d80e8"
      },
      "source": [
        "## This list might help you find some other categorical variables\n",
        "data_mod.info()"
      ],
      "execution_count": null,
      "outputs": [
        {
          "output_type": "stream",
          "text": [
            "<class 'pandas.core.frame.DataFrame'>\n",
            "RangeIndex: 32561 entries, 0 to 32560\n",
            "Data columns (total 15 columns):\n",
            " #   Column          Non-Null Count  Dtype  \n",
            "---  ------          --------------  -----  \n",
            " 0   age             32561 non-null  int64  \n",
            " 1   workclass       32561 non-null  object \n",
            " 2   fnlwgt          32561 non-null  int64  \n",
            " 3   education       32561 non-null  object \n",
            " 4   education-num   32074 non-null  float64\n",
            " 5   marital-status  32561 non-null  object \n",
            " 6   occupation      32049 non-null  object \n",
            " 7   relationship    32561 non-null  object \n",
            " 8   race            32561 non-null  object \n",
            " 9   sex             32561 non-null  object \n",
            " 10  capital-gain    32561 non-null  int64  \n",
            " 11  capital-loss    32561 non-null  int64  \n",
            " 12  hours-per-week  32561 non-null  int64  \n",
            " 13  native-country  32561 non-null  object \n",
            " 14  salary          32561 non-null  int64  \n",
            "dtypes: float64(1), int64(6), object(8)\n",
            "memory usage: 3.7+ MB\n"
          ],
          "name": "stdout"
        }
      ]
    },
    {
      "cell_type": "code",
      "metadata": {
        "id": "q_O2XdKUEgn2",
        "colab_type": "code",
        "colab": {}
      },
      "source": [
        "#################\n",
        "#### YOUR TURN\n",
        "################\n",
        "## Fill in the ___ below \n",
        "sns.catplot(x=____, y=____, kind=____, height=____, data=data_mod)\n",
        "\n",
        "## Rotate the x axis\n",
        "plt.xticks(rotation=____);\n",
        "\n",
        "## Hint: look at the sections above"
      ],
      "execution_count": null,
      "outputs": []
    }
  ]
}