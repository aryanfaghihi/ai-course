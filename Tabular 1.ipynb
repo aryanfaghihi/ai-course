{
  "nbformat": 4,
  "nbformat_minor": 0,
  "metadata": {
    "kernelspec": {
      "display_name": "Python 3",
      "language": "python",
      "name": "python3"
    },
    "colab": {
      "name": "Tabular.ipynb",
      "provenance": [],
      "collapsed_sections": [],
      "toc_visible": true,
      "include_colab_link": true
    }
  },
  "cells": [
    {
      "cell_type": "markdown",
      "metadata": {
        "id": "view-in-github",
        "colab_type": "text"
      },
      "source": [
        "<a href=\"https://colab.research.google.com/github/aryanfaghihi/ai-course/blob/master/Tabular.ipynb\" target=\"_parent\"><img src=\"https://colab.research.google.com/assets/colab-badge.svg\" alt=\"Open In Colab\"/></a>"
      ]
    },
    {
      "cell_type": "markdown",
      "metadata": {
        "id": "UsPyui-BHTRm",
        "colab_type": "text"
      },
      "source": [
        "# Setup\n"
      ]
    },
    {
      "cell_type": "markdown",
      "metadata": {
        "id": "uDN1TG46HOAu",
        "colab_type": "text"
      },
      "source": [
        "## Make a copy\n",
        "\n",
        "**Follow the following steps to make your own copy. You will lose your changes if you don't make your own copy!**\n",
        "\n",
        "From the tooltip above, you should see \n",
        "\n",
        "File | Edit | View | Insert | Runtime | Tools | Help\n",
        "\n",
        "1. Click on **File**\n",
        "2. Click on **Save a copy in Drive**"
      ]
    },
    {
      "cell_type": "markdown",
      "metadata": {
        "id": "CUgSmgI1IJHt",
        "colab_type": "text"
      },
      "source": [
        "## Import"
      ]
    },
    {
      "cell_type": "markdown",
      "metadata": {
        "id": "4jkDj28D0sTi",
        "colab_type": "text"
      },
      "source": [
        "Let's import the packages we need for today. We will be using [`fastai`](https://www.fast.ai/) to create our AI model. This library makes it easy to get started. As the creators of `fastai` have put it:\n",
        "\n",
        "> `fastai` - Making neural nets uncool again!\n",
        "\n"
      ]
    },
    {
      "cell_type": "code",
      "metadata": {
        "id": "wwiGqvnA0sTj",
        "colab_type": "code",
        "colab": {}
      },
      "source": [
        "from fastai.tabular import *"
      ],
      "execution_count": 1,
      "outputs": []
    },
    {
      "cell_type": "markdown",
      "metadata": {
        "id": "HZtew2TG7nwT",
        "colab_type": "text"
      },
      "source": [
        "# Data"
      ]
    },
    {
      "cell_type": "markdown",
      "metadata": {
        "id": "lMyc11ea7tde",
        "colab_type": "text"
      },
      "source": [
        "## Looking at data"
      ]
    },
    {
      "cell_type": "markdown",
      "metadata": {
        "id": "JQQIFUkU0sTm",
        "colab_type": "text"
      },
      "source": [
        "Today we will be exploring a dataset called `Adult Data Set`.\n",
        "\n",
        "> The aim is to predict whether income exceeds $50K/yr based on census data from the US\n",
        "\n",
        "The dataset has the following attributes\n",
        "\n",
        "Attribute name | Attribute type\n",
        "--- | ---\n",
        "age | continuous (number)\n",
        "workclass | 8 categories\n",
        "fnlwgt | continuous (number)\n",
        "education | 16 categories\n",
        "education-num | continuous (number)\n",
        "marital-status | 7 categories\n",
        "occupation | 14 categories\n",
        "relationship | 6 categories\n",
        "race | 5 categories\n",
        "sex | 2 categories\n",
        "capital-gain | continuous (number)\n",
        "capital-loss | continuous (number)\n",
        "hours-per-week | continuous (number)\n",
        "native-country | 41 categories\n",
        "salary | 2 categories\n"
      ]
    },
    {
      "cell_type": "code",
      "metadata": {
        "id": "2DSh4pqR0sTn",
        "colab_type": "code",
        "colab": {}
      },
      "source": [
        "# Downloading and unzipping the dataset\n",
        "path = untar_data(URLs.ADULT_SAMPLE)\n",
        "\n",
        "# Reading the csv dataset\n",
        "data = pd.read_csv(path/'adult.csv')"
      ],
      "execution_count": 2,
      "outputs": []
    },
    {
      "cell_type": "markdown",
      "metadata": {
        "id": "rD0R1dEoGDn4",
        "colab_type": "text"
      },
      "source": [
        "---\n",
        "\n",
        "⭐ Print the first few rows of the data. \n",
        "\n",
        "---\n",
        "\n",
        "Hint: you can use the [`head` method](https://pandas.pydata.org/pandas-docs/stable/reference/api/pandas.DataFrame.head.html)."
      ]
    },
    {
      "cell_type": "code",
      "metadata": {
        "id": "DZAKfoBi6Gtb",
        "colab_type": "code",
        "colab": {}
      },
      "source": [
        "# print the first few rows of `data`\n",
        "### YOUR CODE HERE\n",
        "\n"
      ],
      "execution_count": 3,
      "outputs": []
    },
    {
      "cell_type": "markdown",
      "metadata": {
        "id": "sKTU_Y-zFSQo",
        "colab_type": "text"
      },
      "source": [
        "## Categorical vs. Continuous "
      ]
    },
    {
      "cell_type": "markdown",
      "metadata": {
        "id": "M3U4tBQqFdd2",
        "colab_type": "text"
      },
      "source": [
        "This is a very important concept for both Tabular data as well as other Deep Learning models. In short:\n",
        "* **Categorical** variables contain a *finite* number of categories or distinct groups.\n",
        "* **Continuous** variables are numeric variables that have an *infinite* number of values.\n",
        "\n",
        "Examples\n",
        "* **Categorical**: Race\n",
        "* **Continuous**: Age\n",
        "\n",
        "\n",
        "\n",
        "\n"
      ]
    },
    {
      "cell_type": "markdown",
      "metadata": {
        "id": "aEVHPBK2JByT",
        "colab_type": "text"
      },
      "source": [
        "---\n",
        "\n",
        "⭐ Can you think of any other examples for Categorical and Continuous variables?\n",
        "\n",
        "---"
      ]
    },
    {
      "cell_type": "markdown",
      "metadata": {
        "id": "fbpnT69PJlDu",
        "colab_type": "text"
      },
      "source": [
        "## Categorical Variables"
      ]
    },
    {
      "cell_type": "markdown",
      "metadata": {
        "id": "7EPzoD0vGjYq",
        "colab_type": "text"
      },
      "source": [
        "Ok, let's look at some of the features of categorical data in our dataset. You can use the [`value_counts()`](https://pandas.pydata.org/pandas-docs/stable/reference/api/pandas.Series.value_counts.html) to count the number of each category in your categorical data."
      ]
    },
    {
      "cell_type": "code",
      "metadata": {
        "id": "7iXkMjzNEW1S",
        "colab_type": "code",
        "colab": {
          "base_uri": "https://localhost:8080/",
          "height": 68
        },
        "outputId": "d5f2f51d-5372-4b85-a221-584248e61fad"
      },
      "source": [
        "data['salary'].value_counts()"
      ],
      "execution_count": 4,
      "outputs": [
        {
          "output_type": "execute_result",
          "data": {
            "text/plain": [
              "<50k     24720\n",
              ">=50k     7841\n",
              "Name: salary, dtype: int64"
            ]
          },
          "metadata": {
            "tags": []
          },
          "execution_count": 4
        }
      ]
    },
    {
      "cell_type": "markdown",
      "metadata": {
        "id": "zIEgFHpoI4Pa",
        "colab_type": "text"
      },
      "source": [
        "Here, we can see that most people have a salary of less than 50K in the US according to this dataset."
      ]
    },
    {
      "cell_type": "markdown",
      "metadata": {
        "id": "P69bluGXFKaT",
        "colab_type": "text"
      },
      "source": [
        "---\n",
        "\n",
        "⭐ Choose another categorical variable from `data` and count its categories.\n",
        "\n",
        "---"
      ]
    },
    {
      "cell_type": "code",
      "metadata": {
        "id": "dXFHLQbqJOLn",
        "colab_type": "code",
        "colab": {}
      },
      "source": [
        "### Count the number of categories in another categorical variable\n",
        "### YOUR CODE HERE\n",
        "\n",
        "\n",
        "# Hint: you can refer to the table above to find another variable name"
      ],
      "execution_count": 5,
      "outputs": []
    },
    {
      "cell_type": "markdown",
      "metadata": {
        "id": "kCWwWu9lJhkQ",
        "colab_type": "text"
      },
      "source": [
        "## Continuous Variables"
      ]
    },
    {
      "cell_type": "markdown",
      "metadata": {
        "id": "sr1kIdIUJxW-",
        "colab_type": "text"
      },
      "source": [
        "Let's now look at one of the continuous variables in our dataset."
      ]
    },
    {
      "cell_type": "code",
      "metadata": {
        "id": "pwIykWF1J8lP",
        "colab_type": "code",
        "colab": {
          "base_uri": "https://localhost:8080/",
          "height": 170
        },
        "outputId": "ee1cc976-2464-4d79-ee7d-f3b9e76d1a88"
      },
      "source": [
        "data['age'].describe()"
      ],
      "execution_count": 6,
      "outputs": [
        {
          "output_type": "execute_result",
          "data": {
            "text/plain": [
              "count    32561.000000\n",
              "mean        38.581647\n",
              "std         13.640433\n",
              "min         17.000000\n",
              "25%         28.000000\n",
              "50%         37.000000\n",
              "75%         48.000000\n",
              "max         90.000000\n",
              "Name: age, dtype: float64"
            ]
          },
          "metadata": {
            "tags": []
          },
          "execution_count": 6
        }
      ]
    },
    {
      "cell_type": "markdown",
      "metadata": {
        "id": "WfDUK1JYKNOZ",
        "colab_type": "text"
      },
      "source": [
        "Oh wow, ok let's unpack what all of these stats mean. This might seem a little abstract and useless but don't forget that as a Deep Learning engineer, you will spend at least half of your time on your datasets! So knowing how to find the information you need from your data is an essential skill that you must have."
      ]
    },
    {
      "cell_type": "markdown",
      "metadata": {
        "id": "bsx6YwNxLLlu",
        "colab_type": "text"
      },
      "source": [
        "Stat | Meaning\n",
        "--- | ---\n",
        "mean | average\n",
        "std | standard deviation. It measures how much your data is spread around the average.\n",
        "min | minimum\n",
        "25% | 25 percentile. 25% of your data values fall below this value\n",
        "50% | 50 percentile\n",
        "75% | 75 percentile\n",
        "max | maximum\n"
      ]
    },
    {
      "cell_type": "markdown",
      "metadata": {
        "colab_type": "text",
        "id": "Eyh6OjuEMnQ5"
      },
      "source": [
        "---\n",
        "\n",
        "⭐ Choose another continuous variable from `data` and [`descibre()`](https://pandas.pydata.org/pandas-docs/stable/reference/api/pandas.DataFrame.describe.html) it\n",
        "\n",
        "---"
      ]
    },
    {
      "cell_type": "code",
      "metadata": {
        "id": "w1EdsX9wMuc4",
        "colab_type": "code",
        "colab": {}
      },
      "source": [
        "### Describe() another continuous variable\n",
        "### YOUR CODE HERE\n",
        "\n",
        "\n",
        "# Hint: you can refer to the table above to find another variable name"
      ],
      "execution_count": 7,
      "outputs": []
    },
    {
      "cell_type": "markdown",
      "metadata": {
        "id": "n9NDBHS5TSZ1",
        "colab_type": "text"
      },
      "source": [
        "## Summary\n",
        "\n",
        "* We looked at how we can import a dataset\n",
        "* We discussed the difference between categorical and continuous variables\n",
        "* We explored some basic ways of exploring our dataset"
      ]
    },
    {
      "cell_type": "markdown",
      "metadata": {
        "id": "oMVF6VEwUAxv",
        "colab_type": "text"
      },
      "source": [
        "# Model"
      ]
    },
    {
      "cell_type": "markdown",
      "metadata": {
        "id": "nz4o6UMQWm9Y",
        "colab_type": "text"
      },
      "source": [
        "## Training and Validation dataset\n",
        "\n",
        "Wait, I thought we're ready to train our model! Don't worry, we're almost there, I promise. \n",
        "\n",
        "* **Training** dataset is the subset of your data that is used to **train** your model.\n",
        "* **Validation** dataset is the subset of your data that is set aside to **evaluate** your model's performance after training it"
      ]
    },
    {
      "cell_type": "markdown",
      "metadata": {
        "id": "nSBr-EO5XMMF",
        "colab_type": "text"
      },
      "source": [
        "---\n",
        "\n",
        "⭐ Why is it important to have a validation set that is separate from the training set?\n",
        "\n",
        "---"
      ]
    },
    {
      "cell_type": "markdown",
      "metadata": {
        "id": "5ahHAxFdY7mj",
        "colab_type": "text"
      },
      "source": [
        "In practice, usually we use 80% of the original dataset for **training** and 20% for **validation**.\n",
        "\n"
      ]
    },
    {
      "cell_type": "code",
      "metadata": {
        "id": "voABoRU7eO3K",
        "colab_type": "code",
        "colab": {
          "base_uri": "https://localhost:8080/",
          "height": 68
        },
        "outputId": "5e42a11a-e971-476a-aee5-44ac6c6436e8"
      },
      "source": [
        "# Here we are using 80% split\n",
        "# you can change this number and experiment\n",
        "training_split = 0.8\n",
        "\n",
        "# Find the indices for training set\n",
        "train_idx_start = 0\n",
        "train_idx_end = int(training_split*len(data))\n",
        "\n",
        "# Find the indices for validation set\n",
        "valid_idx_start = train_idx_end\n",
        "valid_idx_end = len(data)\n",
        "valid_idx = range(valid_idx_start, valid_idx_end) # this will be useful for us later\n",
        "\n",
        "print('Split percentage used:', training_split)\n",
        "print('Training dataset indices', train_idx_start, '-', train_idx_end)\n",
        "print('Validation dataset indices', valid_idx_start, '-', valid_idx_end)"
      ],
      "execution_count": 8,
      "outputs": [
        {
          "output_type": "stream",
          "text": [
            "Split percentage used: 0.8\n",
            "Training dataset indices 0 - 26048\n",
            "Validation dataset indices 26048 - 32561\n"
          ],
          "name": "stdout"
        }
      ]
    },
    {
      "cell_type": "markdown",
      "metadata": {
        "id": "-PcRTaVGV3mx",
        "colab_type": "text"
      },
      "source": [
        "## Dataloader"
      ]
    },
    {
      "cell_type": "markdown",
      "metadata": {
        "id": "XihmSyW8UFIE",
        "colab_type": "text"
      },
      "source": [
        "In this section, we will train a Deep Learning model to predict the output of one of the columns based on the other columns. For example, we can use the data in the `education`, `occupation` and `workclass` to predict the `salary`. This particularly example can be written as:\n",
        "\n",
        "> `salary` ~ `education` + `occupation` + `workclass`\n",
        "\n",
        "* **Dependent** variable: `salary`\n",
        "* **Independent** variables: `education` `occupation` `workclass`"
      ]
    },
    {
      "cell_type": "markdown",
      "metadata": {
        "id": "t5V-AZiZVKQf",
        "colab_type": "text"
      },
      "source": [
        "Let's use this example to demonstrate how you can use `fastai` to train a model using these variables. Let's start with assigining these column names into variable to be used later."
      ]
    },
    {
      "cell_type": "code",
      "metadata": {
        "id": "H-g6zKx-0sTq",
        "colab_type": "code",
        "colab": {}
      },
      "source": [
        "# DEPEDENT VARIABLE\n",
        "dependent_variable = 'salary'\n",
        "\n",
        "# INDEPENDENT VARIABLES\n",
        "## Categorical\n",
        "categorical_variables = ['workclass', 'education', 'occupation']\n",
        "\n",
        "## Continuous\n",
        "continuous_variables = []"
      ],
      "execution_count": 9,
      "outputs": []
    },
    {
      "cell_type": "markdown",
      "metadata": {
        "id": "xj2gV4P8gK2J",
        "colab_type": "text"
      },
      "source": [
        "Notice that `continuous_variables` is empty. This is because none of the independent variables that we chose for this particular example are continuous. However, if you do have continuous variables, you must append them to `continuous_variables` list instead."
      ]
    },
    {
      "cell_type": "markdown",
      "metadata": {
        "id": "cpT1xg3Ggr_q",
        "colab_type": "text"
      },
      "source": [
        "Below, we will use the built-in functionality of `fastai` to import the data for our model's use. But why? Up until this point, we've been working with data by using Python's built-in functionality as well as `pandas`. But now that we have to train a Deep Learning model, we have to pass the data into `fastai`. This is done through `dataloaders`. These functions will take care of all the complexity of data pipelines for training your model."
      ]
    },
    {
      "cell_type": "code",
      "metadata": {
        "id": "ghRsJI6P0sTu",
        "colab_type": "code",
        "colab": {}
      },
      "source": [
        "## DATALOADER\n",
        "dataloader = TabularDataBunch.from_df(path,                             # path to csv file\n",
        "                                      data,                             # original data\n",
        "                                      dependent_variable,               # chosen dependent variable\n",
        "                                      cont_names=continuous_variables,  # continuous variables\n",
        "                                      cat_names=categorical_variables,  # continuous variables\n",
        "                                      valid_idx=valid_idx,              # indices for validation set\n",
        "                                      procs=[Categorify])"
      ],
      "execution_count": 10,
      "outputs": []
    },
    {
      "cell_type": "markdown",
      "metadata": {
        "id": "Ky5lJOub-fCL",
        "colab_type": "text"
      },
      "source": [
        "You don't really need to know what all of these parameters do. In fact, even actual Deep Learning engineers look these up all the time. It's more important to know the high-level concepts like Training and Validation sets and differences between categorical and continuous variables.\n",
        "\n",
        "---\n",
        "🤓 Advanced (only for those interested)\n",
        "\n",
        "But for those of you who want to know more, listed below is a brief descrpition of each option\n",
        "* `cat_names`: specify categorical variables (names)\n",
        "* `cont_names`: specify continuous variablese (names)\n",
        "* `procs`: list of pre-processes to be done data. Here we are passing `Categorify` which turns the category values into numbers because computers can only work with numbers. There is a range of `procs` which we will cover in this course.\n",
        "* `valid_idx`: list of indices (rows) for to be used for validation set. This means `fastai` will take care of splitting the data for us.\n",
        "---"
      ]
    },
    {
      "cell_type": "markdown",
      "metadata": {
        "id": "8U6GCT-4BWAD",
        "colab_type": "text"
      },
      "source": [
        "Last thing before we train our model, I promise. \n",
        "\n",
        "It is **always** a good practice to look at a batch of your dataloader to make sure everything looks right. That is, make sure the correct columns have been selected and more importantly, the correct dependent variable (or `target`) has been selected."
      ]
    },
    {
      "cell_type": "code",
      "metadata": {
        "id": "01N67yLc0sTx",
        "colab_type": "code",
        "colab": {
          "base_uri": "https://localhost:8080/",
          "height": 204
        },
        "outputId": "0bc26757-c112-4b97-a28b-479136e2c4de"
      },
      "source": [
        "dataloader.show_batch()"
      ],
      "execution_count": 11,
      "outputs": [
        {
          "output_type": "display_data",
          "data": {
            "text/html": [
              "<table border=\"1\" class=\"dataframe\">\n",
              "  <thead>\n",
              "    <tr style=\"text-align: right;\">\n",
              "      <th>workclass</th>\n",
              "      <th>education</th>\n",
              "      <th>occupation</th>\n",
              "      <th>target</th>\n",
              "    </tr>\n",
              "  </thead>\n",
              "  <tbody>\n",
              "    <tr>\n",
              "      <td>Private</td>\n",
              "      <td>Some-college</td>\n",
              "      <td>#na#</td>\n",
              "      <td>&lt;50k</td>\n",
              "    </tr>\n",
              "    <tr>\n",
              "      <td>Private</td>\n",
              "      <td>HS-grad</td>\n",
              "      <td>Exec-managerial</td>\n",
              "      <td>&gt;=50k</td>\n",
              "    </tr>\n",
              "    <tr>\n",
              "      <td>Self-emp-not-inc</td>\n",
              "      <td>Assoc-acdm</td>\n",
              "      <td>Sales</td>\n",
              "      <td>&gt;=50k</td>\n",
              "    </tr>\n",
              "    <tr>\n",
              "      <td>Private</td>\n",
              "      <td>Bachelors</td>\n",
              "      <td>Exec-managerial</td>\n",
              "      <td>&gt;=50k</td>\n",
              "    </tr>\n",
              "    <tr>\n",
              "      <td>Private</td>\n",
              "      <td>12th</td>\n",
              "      <td>Handlers-cleaners</td>\n",
              "      <td>&lt;50k</td>\n",
              "    </tr>\n",
              "  </tbody>\n",
              "</table>"
            ],
            "text/plain": [
              "<IPython.core.display.HTML object>"
            ]
          },
          "metadata": {
            "tags": []
          }
        }
      ]
    },
    {
      "cell_type": "markdown",
      "metadata": {
        "id": "fSZ4vP6TBu6_",
        "colab_type": "text"
      },
      "source": [
        "## Training"
      ]
    },
    {
      "cell_type": "markdown",
      "metadata": {
        "id": "xfSvtsdbB3Wz",
        "colab_type": "text"
      },
      "source": [
        "Ok so, this is what we have done so far:\n",
        "\n",
        "- [x] Looked at our dataset\n",
        "- [x] Learnt the difference between categorical and continuous variables\n",
        "- [x] Training and validation dataset\n",
        "\n",
        "We are finally ready to train our model. "
      ]
    },
    {
      "cell_type": "code",
      "metadata": {
        "id": "w5EZngz60sTz",
        "colab_type": "code",
        "colab": {
          "base_uri": "https://localhost:8080/",
          "height": 204
        },
        "outputId": "43cd9bac-2868-48d1-c2f4-7934c616a9ef"
      },
      "source": [
        "learn = tabular_learner(dataloader, layers=[200,100], metrics=accuracy)\n",
        "learn.fit(5)"
      ],
      "execution_count": 12,
      "outputs": [
        {
          "output_type": "display_data",
          "data": {
            "text/html": [
              "<table border=\"1\" class=\"dataframe\">\n",
              "  <thead>\n",
              "    <tr style=\"text-align: left;\">\n",
              "      <th>epoch</th>\n",
              "      <th>train_loss</th>\n",
              "      <th>valid_loss</th>\n",
              "      <th>accuracy</th>\n",
              "      <th>time</th>\n",
              "    </tr>\n",
              "  </thead>\n",
              "  <tbody>\n",
              "    <tr>\n",
              "      <td>0</td>\n",
              "      <td>0.468965</td>\n",
              "      <td>0.455689</td>\n",
              "      <td>0.792876</td>\n",
              "      <td>00:04</td>\n",
              "    </tr>\n",
              "    <tr>\n",
              "      <td>1</td>\n",
              "      <td>0.469144</td>\n",
              "      <td>0.458092</td>\n",
              "      <td>0.790880</td>\n",
              "      <td>00:04</td>\n",
              "    </tr>\n",
              "    <tr>\n",
              "      <td>2</td>\n",
              "      <td>0.457080</td>\n",
              "      <td>0.456143</td>\n",
              "      <td>0.791647</td>\n",
              "      <td>00:04</td>\n",
              "    </tr>\n",
              "    <tr>\n",
              "      <td>3</td>\n",
              "      <td>0.457336</td>\n",
              "      <td>0.451468</td>\n",
              "      <td>0.794872</td>\n",
              "      <td>00:04</td>\n",
              "    </tr>\n",
              "    <tr>\n",
              "      <td>4</td>\n",
              "      <td>0.456568</td>\n",
              "      <td>0.452055</td>\n",
              "      <td>0.791033</td>\n",
              "      <td>00:04</td>\n",
              "    </tr>\n",
              "  </tbody>\n",
              "</table>"
            ],
            "text/plain": [
              "<IPython.core.display.HTML object>"
            ]
          },
          "metadata": {
            "tags": []
          }
        }
      ]
    },
    {
      "cell_type": "markdown",
      "metadata": {
        "id": "-K1mi3xBIcuT",
        "colab_type": "text"
      },
      "source": [
        "🎉 We just trained our first model!\n",
        "\n",
        "You should be getting around 80% accuracy. What does this mean? Well it means that you have been able to predict `salary` correctly 80% of the time using your independent categorical and continuous variables.\n",
        "\n",
        "Ok but what about `layers`?\n",
        "> We will cover it throughout the course but for now you can think of them as how *powerful your model is*. The higher these values the better. But of course, with great power comes great resposibility and we will discuss those in the next sections.\n",
        "\n",
        "What is `epoch`?\n",
        "> Epoch is defined as the number of times you train your model. In other words, it is the number of times your model *learns* from each data point. We cover this in more detail in the next section. For now you can stick with 5-10 epochs for training your models."
      ]
    },
    {
      "cell_type": "markdown",
      "metadata": {
        "id": "8LHoP-Sz0sT4",
        "colab_type": "text"
      },
      "source": [
        "## Testing"
      ]
    },
    {
      "cell_type": "markdown",
      "metadata": {
        "id": "Ir8RviX5KV9l",
        "colab_type": "text"
      },
      "source": [
        "Ok so we just covered how you can train your model, and we saw how you can get 80% accuracy. But wouldn't it better if you could just make up your own data and pass it through the model to see what it predicts? That is what we're going to be doing now."
      ]
    },
    {
      "cell_type": "markdown",
      "metadata": {
        "id": "1txHqTTRMHzc",
        "colab_type": "text"
      },
      "source": [
        "Let's remind ourselves what columns we used and what each of them contains"
      ]
    },
    {
      "cell_type": "code",
      "metadata": {
        "id": "PNhD8b9sL-WN",
        "colab_type": "code",
        "colab": {
          "base_uri": "https://localhost:8080/",
          "height": 187
        },
        "outputId": "a5259f3a-647a-4c93-da4a-0cd81f6562b4"
      },
      "source": [
        "print('workclass values:\\n', data['workclass'].unique())    # display unique categories for workclass\n",
        "print('education values:\\n', data['education'].unique())    # display unique categories for education\n",
        "print('occupation values:\\n', data['occupation'].unique())  # display unique categories for occupation"
      ],
      "execution_count": 13,
      "outputs": [
        {
          "output_type": "stream",
          "text": [
            "workclass values:\n",
            " [' Private' ' Self-emp-inc' ' Self-emp-not-inc' ' State-gov' ' Federal-gov' ' Local-gov' ' ?' ' Without-pay'\n",
            " ' Never-worked']\n",
            "education values:\n",
            " [' Assoc-acdm' ' Masters' ' HS-grad' ' Prof-school' ' 7th-8th' ' Some-college' ' 11th' ' Bachelors' ' Assoc-voc'\n",
            " ' 10th' ' 9th' ' Doctorate' ' 12th' ' 1st-4th' ' 5th-6th' ' Preschool']\n",
            "occupation values:\n",
            " [nan ' Exec-managerial' ' Prof-specialty' ' Other-service' ' Handlers-cleaners' ' Craft-repair' ' Adm-clerical'\n",
            " ' Sales' ' Machine-op-inspct' ' Transport-moving' ' ?' ' Farming-fishing' ' Tech-support' ' Protective-serv'\n",
            " ' Priv-house-serv' ' Armed-Forces']\n"
          ],
          "name": "stdout"
        }
      ]
    },
    {
      "cell_type": "code",
      "metadata": {
        "id": "vpk9K7tu0sT5",
        "colab_type": "code",
        "colab": {}
      },
      "source": [
        "test_data = data.iloc[0].copy()\n",
        "# Change the values below based on possible values above\n",
        "# Explore the changes in model predictions\n",
        "test_data['workclass'] = 'Without-pay'\n",
        "test_data['education'] = 'Masters'\n",
        "test_data['occupation'] = 'Tech-support'"
      ],
      "execution_count": 14,
      "outputs": []
    },
    {
      "cell_type": "code",
      "metadata": {
        "id": "WCIJh1Jm0sT7",
        "colab_type": "code",
        "colab": {
          "base_uri": "https://localhost:8080/",
          "height": 34
        },
        "outputId": "f6949c35-a61e-423c-8697-3e13c798af74"
      },
      "source": [
        "learn.predict(test_data)"
      ],
      "execution_count": 15,
      "outputs": [
        {
          "output_type": "execute_result",
          "data": {
            "text/plain": [
              "(Category tensor(0), tensor(0), tensor([0.7033, 0.2967]))"
            ]
          },
          "metadata": {
            "tags": []
          },
          "execution_count": 15
        }
      ]
    },
    {
      "cell_type": "markdown",
      "metadata": {
        "id": "3qOUifb9Oymi",
        "colab_type": "text"
      },
      "source": [
        "Let's interpret the output here: \n",
        "* `Category tensor(0)` means <50k\n",
        "* `Category tensor(1)` means >=50k\n",
        "* `tensor([a, b])`\n",
        "  * `a` is the probability of <50k salary\n",
        "  * `b` is the probability of >=50k salary\n",
        "\n",
        "You noticed that we said **probability**, this is because all deep learning models are based on probability, they can never be 100% sure about any predction. The best we can do is 99.999999...%!"
      ]
    },
    {
      "cell_type": "markdown",
      "metadata": {
        "id": "Kgsoq_XNPmZK",
        "colab_type": "text"
      },
      "source": [
        "---\n",
        "\n",
        "⭐ Try changing `workclass` or `education` or `occupation` values above to see how the model prediction changes. See if it makes sense to you. Chances are sometimes you will get values that don't make sense and that just means our model is not perfect and it makes mistakes.\n",
        "\n",
        "---"
      ]
    },
    {
      "cell_type": "markdown",
      "metadata": {
        "id": "0cr-ksvoQXqS",
        "colab_type": "text"
      },
      "source": [
        "# Your model"
      ]
    },
    {
      "cell_type": "markdown",
      "metadata": {
        "id": "2cwgYa3OQcFB",
        "colab_type": "text"
      },
      "source": [
        "---\n",
        "\n",
        "⭐  Now is your turn to use the template below to pick your own categorical and continuous variables to train your own model.\n",
        "\n",
        "---\n",
        "\n",
        "This table might come in handy\n",
        "\n",
        "Variable Name | Variable Type\n",
        "--- | ---\n",
        "age | continuous (number)\n",
        "workclass | 8 categories\n",
        "fnlwgt | continuous (number)\n",
        "education | 16 categories\n",
        "education-num | continuous (number)\n",
        "marital-status | 7 categories\n",
        "occupation | 14 categories\n",
        "relationship | 6 categories\n",
        "race | 5 categories\n",
        "sex | 2 categories\n",
        "capital-gain | continuous (number)\n",
        "capital-loss | continuous (number)\n",
        "hours-per-week | continuous (number)\n",
        "native-country | 41 categories\n",
        "salary | 2 categories"
      ]
    },
    {
      "cell_type": "code",
      "metadata": {
        "id": "mptoqtykSPf9",
        "colab_type": "code",
        "colab": {
          "base_uri": "https://localhost:8080/",
          "height": 102
        },
        "outputId": "cd18fafe-8a20-4325-8ff1-b3c049e5302f"
      },
      "source": [
        "data.columns"
      ],
      "execution_count": 16,
      "outputs": [
        {
          "output_type": "execute_result",
          "data": {
            "text/plain": [
              "Index(['age', 'workclass', 'fnlwgt', 'education', 'education-num',\n",
              "       'marital-status', 'occupation', 'relationship', 'race', 'sex',\n",
              "       'capital-gain', 'capital-loss', 'hours-per-week', 'native-country',\n",
              "       'salary'],\n",
              "      dtype='object')"
            ]
          },
          "metadata": {
            "tags": []
          },
          "execution_count": 16
        }
      ]
    },
    {
      "cell_type": "code",
      "metadata": {
        "id": "E2GI8phkQZVw",
        "colab_type": "code",
        "colab": {
          "base_uri": "https://localhost:8080/",
          "height": 204
        },
        "outputId": "b1182104-d829-441b-d6c9-f53ec89319d3"
      },
      "source": [
        "# DEPEDENT VARIABLE (don't change this)\n",
        "dependent_variable = 'salary'\n",
        "\n",
        "############################\n",
        "#### PICK YOUR OWN VARIABLES\n",
        "############################\n",
        "\n",
        "# INDEPENDENT VARIABLES\n",
        "## Categorical\n",
        "categorical_variables = ['education']\n",
        "\n",
        "## Continuous\n",
        "continuous_variables = []\n",
        "\n",
        "############################\n",
        "#### STOP HERE\n",
        "############################\n",
        "\n",
        "## DATALOADER\n",
        "dataloader = TabularDataBunch.from_df(path,                             # path to csv file\n",
        "                                      data,                             # original data\n",
        "                                      dependent_variable,               # chosen dependent variable\n",
        "                                      cont_names=continuous_variables,  # continuous variables\n",
        "                                      cat_names=categorical_variables,  # continuous variables\n",
        "                                      valid_idx=valid_idx,              # indices for validation set\n",
        "                                      procs=[FillMissing, Categorify, Normalize])\n",
        "\n",
        "\n",
        "learn = tabular_learner(dataloader, layers=[200,100], metrics=accuracy)\n",
        "learn.fit(5)"
      ],
      "execution_count": 17,
      "outputs": [
        {
          "output_type": "display_data",
          "data": {
            "text/html": [
              "<table border=\"1\" class=\"dataframe\">\n",
              "  <thead>\n",
              "    <tr style=\"text-align: left;\">\n",
              "      <th>epoch</th>\n",
              "      <th>train_loss</th>\n",
              "      <th>valid_loss</th>\n",
              "      <th>accuracy</th>\n",
              "      <th>time</th>\n",
              "    </tr>\n",
              "  </thead>\n",
              "  <tbody>\n",
              "    <tr>\n",
              "      <td>0</td>\n",
              "      <td>0.495930</td>\n",
              "      <td>0.489674</td>\n",
              "      <td>0.779057</td>\n",
              "      <td>00:04</td>\n",
              "    </tr>\n",
              "    <tr>\n",
              "      <td>1</td>\n",
              "      <td>0.490456</td>\n",
              "      <td>0.482583</td>\n",
              "      <td>0.785199</td>\n",
              "      <td>00:04</td>\n",
              "    </tr>\n",
              "    <tr>\n",
              "      <td>2</td>\n",
              "      <td>0.498849</td>\n",
              "      <td>0.486408</td>\n",
              "      <td>0.785199</td>\n",
              "      <td>00:04</td>\n",
              "    </tr>\n",
              "    <tr>\n",
              "      <td>3</td>\n",
              "      <td>0.494893</td>\n",
              "      <td>0.480733</td>\n",
              "      <td>0.785199</td>\n",
              "      <td>00:04</td>\n",
              "    </tr>\n",
              "    <tr>\n",
              "      <td>4</td>\n",
              "      <td>0.500412</td>\n",
              "      <td>0.482035</td>\n",
              "      <td>0.785199</td>\n",
              "      <td>00:04</td>\n",
              "    </tr>\n",
              "  </tbody>\n",
              "</table>"
            ],
            "text/plain": [
              "<IPython.core.display.HTML object>"
            ]
          },
          "metadata": {
            "tags": []
          }
        }
      ]
    },
    {
      "cell_type": "markdown",
      "metadata": {
        "id": "ozY-XckZRl7N",
        "colab_type": "text"
      },
      "source": [
        "---\n",
        "\n",
        "⭐  Once you're confident, you can also play around with `layers` to see the difference in training.\n",
        "\n",
        "---"
      ]
    },
    {
      "cell_type": "markdown",
      "metadata": {
        "id": "XQ7AbGlBS2WU",
        "colab_type": "text"
      },
      "source": [
        "# Summary"
      ]
    },
    {
      "cell_type": "markdown",
      "metadata": {
        "id": "AMpO5oniS4N2",
        "colab_type": "text"
      },
      "source": [
        "* Data\n",
        "  * Different ways of exploring your dataset\n",
        "  * Categorical Variables\n",
        "    * finite number of categories or distinct groups\n",
        "  * Continuous Variables\n",
        "    * numeric variables that have an infinite number of values\n",
        "* Model\n",
        "  * Training dataset\n",
        "    * A subset of your original dataset used by the model to learn\n",
        "  * Validation dataset\n",
        "    * A subset of your original dataset used to assess the true accuracy of your model\n",
        "  * Dataloader\n",
        "    * Creates the connection between your data and your model\n",
        "  * Epochs\n",
        "    * The number of times your model learns from each data point\n",
        "  * Testing (inference)\n",
        "    * Also known as inference which is where you can create your own data to see how your model performs"
      ]
    }
  ]
}
